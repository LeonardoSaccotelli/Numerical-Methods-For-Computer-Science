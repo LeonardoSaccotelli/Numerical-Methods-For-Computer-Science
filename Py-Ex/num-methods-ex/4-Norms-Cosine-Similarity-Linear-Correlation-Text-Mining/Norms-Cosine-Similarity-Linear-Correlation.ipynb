{
 "cells": [
  {
   "cell_type": "markdown",
   "source": [
    "# Norms, Cosine Similarity and Linear Correlation\n",
    "<hr>\n",
    "This notebook introduces the concept of vector and matrix norms. We will begin by demonstrating how to compute various types of vector and matrix norms. Next, we'll apply the concept of norms to define cosine similarity and explore its applications. Additionally, we'll illustrate the relationship between norms and cosine similarity in addressing linear correlation problems. We will implement linear correlation and provide multiple examples."
   ],
   "metadata": {
    "collapsed": false
   },
   "id": "340390bd3794dece"
  },
  {
   "cell_type": "markdown",
   "source": [
    "## Import libraries"
   ],
   "metadata": {
    "collapsed": false
   },
   "id": "71d7f6d99ca4adb4"
  },
  {
   "cell_type": "code",
   "execution_count": 1,
   "outputs": [],
   "source": [
    "import numpy as np\n",
    "import matplotlib.pyplot as plt"
   ],
   "metadata": {
    "collapsed": false,
    "ExecuteTime": {
     "end_time": "2023-10-31T08:50:39.098953Z",
     "start_time": "2023-10-31T08:50:37.897444100Z"
    }
   },
   "id": "db061d24af3352be"
  },
  {
   "cell_type": "markdown",
   "source": [
    "## Vector and Matrix Norms"
   ],
   "metadata": {
    "collapsed": false
   },
   "id": "da46858a5d7ae2ba"
  },
  {
   "cell_type": "markdown",
   "source": [
    "### Vector Norms\n",
    "A function $\\lVert \\cdot \\rVert: \\mathbb{R}^n \\to \\mathbb{R}$ is a vector norm if: \n",
    "* $\\lVert x \\rVert \\geq 0 $ and $\\lVert x \\rVert = 0 \\iff x = 0$\n",
    "* $\\lVert \\alpha x \\rVert =  \\vert \\alpha \\vert \\lVert x \\rVert, \\alpha \\in \\mathbb{R}$\n",
    "* $\\lVert x + y \\rVert \\leq \\lVert x \\rVert \\lVert y \\rVert $\n",
    "An additional property which could be derived is:\n",
    "* $\\vert \\lVert x \\rVert - \\lVert y \\rVert \\vert \\leq \\lVert x - y \\rVert$\n",
    "The most used norms are the **p-norms**\n",
    "$ \\lVert x \\rVert_{p}  = \\left[\\sum_{i=1}^{n} \\vert x_i \\vert ^p \\right]^{1/p} $"
   ],
   "metadata": {
    "collapsed": false
   },
   "id": "f023128a234ee64c"
  },
  {
   "cell_type": "code",
   "execution_count": 2,
   "outputs": [
    {
     "name": "stdout",
     "output_type": "stream",
     "text": [
      "Vector x: [ 2 -5  3  1 -8 10 11]\n"
     ]
    }
   ],
   "source": [
    "# Create a vector\n",
    "x = np.array([2, -5, 3, 1, -8, 10, 11])\n",
    "print(\"Vector x: {}\".format(x))"
   ],
   "metadata": {
    "collapsed": false,
    "ExecuteTime": {
     "end_time": "2023-10-31T08:50:45.669415800Z",
     "start_time": "2023-10-31T08:50:45.454540Z"
    }
   },
   "id": "6a05d707a43cc2c6"
  },
  {
   "cell_type": "markdown",
   "source": [
    "#### Norm 1 (Manhattan distance)\n",
    "The formulation for the Norm 1 is $ \\lVert x \\rVert_{1}  = \\sum_{i=1}^{n} \\vert x_i \\vert$"
   ],
   "metadata": {
    "collapsed": false
   },
   "id": "4942b51aace5e160"
  },
  {
   "cell_type": "code",
   "execution_count": 3,
   "outputs": [
    {
     "name": "stdout",
     "output_type": "stream",
     "text": [
      "Norm 1 of vector x: 40.0\n"
     ]
    }
   ],
   "source": [
    "# Compute the norm 1\n",
    "norm1_x = np.linalg.norm(x,1)\n",
    "print(\"Norm 1 of vector x: {}\".format(norm1_x))"
   ],
   "metadata": {
    "collapsed": false,
    "ExecuteTime": {
     "end_time": "2023-10-31T08:50:46.897972100Z",
     "start_time": "2023-10-31T08:50:46.707057900Z"
    }
   },
   "id": "360dc7aafec37db2"
  },
  {
   "cell_type": "markdown",
   "source": [
    "#### Norm 2 (Euclidian norm)\n",
    "The formulation for the Norm 2 is $ \\lVert x \\rVert_{2}  = \\sqrt[2]{\\sum_{i=1}^{n} \\vert x_i \\vert ^2}$"
   ],
   "metadata": {
    "collapsed": false
   },
   "id": "bb102ac25920623c"
  },
  {
   "cell_type": "code",
   "execution_count": 4,
   "outputs": [
    {
     "name": "stdout",
     "output_type": "stream",
     "text": [
      "Norm 2 of vector x: 18.0\n"
     ]
    }
   ],
   "source": [
    "# Compute the norm 2 (Default value for np.linalg.norm is 2, in case of vector)\n",
    "norm2_x = np.linalg.norm(x)\n",
    "print(\"Norm 2 of vector x: {}\".format(norm2_x))"
   ],
   "metadata": {
    "collapsed": false,
    "ExecuteTime": {
     "end_time": "2023-10-31T08:50:47.941598200Z",
     "start_time": "2023-10-31T08:50:47.840654700Z"
    }
   },
   "id": "9452c95377a4a25"
  },
  {
   "cell_type": "markdown",
   "source": [
    "#### Norm infinity\n",
    "The formulation for the Norm infinity is $ \\lim_{p \\to \\infty} \\lVert x \\rVert_{p} = \\lVert x \\rVert_{\\infty}  = \\max_{1 \\leq i \\leq n} \\vert x_i \\vert$"
   ],
   "metadata": {
    "collapsed": false
   },
   "id": "25395bcb086d19fb"
  },
  {
   "cell_type": "code",
   "execution_count": 5,
   "outputs": [
    {
     "name": "stdout",
     "output_type": "stream",
     "text": [
      "Norm infinity of vector x: 11.0\n"
     ]
    }
   ],
   "source": [
    "# Compute the norm infinity\n",
    "norm_inf_x = np.linalg.norm(x, np.inf)\n",
    "print(\"Norm infinity of vector x: {}\".format(norm_inf_x))"
   ],
   "metadata": {
    "collapsed": false,
    "ExecuteTime": {
     "end_time": "2023-10-31T08:50:49.196464200Z",
     "start_time": "2023-10-31T08:50:49.089511800Z"
    }
   },
   "id": "d4115efaa81e3158"
  },
  {
   "cell_type": "markdown",
   "source": [
    "### Matrix Norms\n",
    "A function $\\lVert \\cdot \\rVert$ is a matrix norm if: \n",
    "* $\\lVert A \\rVert \\geq 0 $ and $\\lVert A \\rVert = 0 \\iff A = 0$\n",
    "* $\\lVert \\alpha A \\rVert =  \\vert \\alpha \\vert \\lVert A \\rVert, \\forall \\alpha \\in \\mathbb{R}$\n",
    "* $\\lVert A + B \\rVert \\leq \\lVert A \\rVert + \\lVert B \\rVert \\forall A,B \\in \\mathbb{R}^{m \\times n}$\n",
    "* $\\lVert AB \\rVert \\leq \\lVert A \\rVert \\lVert B \\rVert \\forall A \\in \\mathbb{R}^{m \\times p}, \\forall B \\in \\mathbb{R}^{p \\times n}$"
   ],
   "metadata": {
    "collapsed": false
   },
   "id": "9c0e2ede077f3858"
  },
  {
   "cell_type": "code",
   "execution_count": 6,
   "outputs": [
    {
     "name": "stdout",
     "output_type": "stream",
     "text": [
      "Matrix A:\n",
      "[[-10  -2]\n",
      " [  1  -1]\n",
      " [  5   3]]\n"
     ]
    }
   ],
   "source": [
    "# Create a matrix\n",
    "A = np.array([[-10, -2], [1, -1], [5, 3]])\n",
    "print(\"Matrix A:\\n{}\".format(A))"
   ],
   "metadata": {
    "collapsed": false,
    "ExecuteTime": {
     "end_time": "2023-10-31T08:50:51.531336700Z",
     "start_time": "2023-10-31T08:50:51.406408Z"
    }
   },
   "id": "d9ec09639174e2bb"
  },
  {
   "cell_type": "markdown",
   "source": [
    "#### Matrix Norm induced by Norm 1\n",
    "The formulation for the Matrix Norm 1 is $ \\lVert A \\rVert_{1}  = \\max_{\\lVert x \\rVert_{1} = 1} \\lVert Ax \\rVert_{1} =  \\max_{j} \\sum_{i}^{} \\vert a_{ij} \\vert$"
   ],
   "metadata": {
    "collapsed": false
   },
   "id": "d1ecec8122da8def"
  },
  {
   "cell_type": "code",
   "execution_count": 7,
   "outputs": [
    {
     "name": "stdout",
     "output_type": "stream",
     "text": [
      "Norm 1 of matrix A: 16.0\n"
     ]
    }
   ],
   "source": [
    "# Compute the norm 1\n",
    "norm1_A = np.linalg.norm(A, 1)\n",
    "print(\"Norm 1 of matrix A: {}\".format(norm1_A))"
   ],
   "metadata": {
    "collapsed": false,
    "ExecuteTime": {
     "end_time": "2023-10-31T08:50:53.019997500Z",
     "start_time": "2023-10-31T08:50:52.908061400Z"
    }
   },
   "id": "326a01480056d59d"
  },
  {
   "cell_type": "markdown",
   "source": [
    "#### Matrix Norm induced by Norm 2\n",
    "The formulation for the Matrix Norm 2 is $ \\lVert A \\rVert_{2} = \\max_{\\sqrt{x^Tx} = 1} \\sqrt{x^TA^TAx}$"
   ],
   "metadata": {
    "collapsed": false
   },
   "id": "9393be406f2cdecc"
  },
  {
   "cell_type": "code",
   "execution_count": 8,
   "outputs": [
    {
     "name": "stdout",
     "output_type": "stream",
     "text": [
      "Norm 2 of matrix A: 11.641020462856197\n"
     ]
    }
   ],
   "source": [
    "# Compute the norm 2\n",
    "norm2_A = np.linalg.norm(A, 2)\n",
    "print(\"Norm 2 of matrix A: {}\".format(norm2_A))"
   ],
   "metadata": {
    "collapsed": false,
    "ExecuteTime": {
     "end_time": "2023-10-31T08:50:54.171438300Z",
     "start_time": "2023-10-31T08:50:54.063503600Z"
    }
   },
   "id": "f735b5bc0aaf6dea"
  },
  {
   "cell_type": "markdown",
   "source": [
    "#### Matrix Norm induced by Inf-Norm\n",
    "The formulation for the Matrix Inf-Norm is $ \\lVert A \\rVert_{\\infty} = \\max_{\\lVert x \\rVert_{\\infty} = 1} \\lVert Ax \\rVert_{\\infty} =  \\max_{i} \\sum_{j}^{} \\vert a_{ij} \\vert$"
   ],
   "metadata": {
    "collapsed": false
   },
   "id": "715e6d00bb3c3d46"
  },
  {
   "cell_type": "code",
   "execution_count": 9,
   "outputs": [
    {
     "name": "stdout",
     "output_type": "stream",
     "text": [
      "Norm infinity of matrix A: 12.0\n"
     ]
    }
   ],
   "source": [
    "# Compute the norm infinity\n",
    "norm_inf_A = np.linalg.norm(A, np.inf)\n",
    "print(\"Norm infinity of matrix A: {}\".format(norm_inf_A))"
   ],
   "metadata": {
    "collapsed": false,
    "ExecuteTime": {
     "end_time": "2023-10-31T08:50:55.263517400Z",
     "start_time": "2023-10-31T08:50:55.165575100Z"
    }
   },
   "id": "de8b0e3c681d828"
  },
  {
   "cell_type": "markdown",
   "source": [
    "#### Frobenius Norm\n",
    "The formulation for the Frobenius Norm is $ \\lVert A \\rVert_{F} = \\sqrt{ \\sum_{i,j}^{} \\vert a_{ij}\\vert^2}= \\sqrt{trace(A^TA)}$"
   ],
   "metadata": {
    "collapsed": false
   },
   "id": "51bddf15eaae4b07"
  },
  {
   "cell_type": "code",
   "execution_count": 10,
   "outputs": [
    {
     "name": "stdout",
     "output_type": "stream",
     "text": [
      "Frobenius Norm of matrix A: 11.832159566199232\n"
     ]
    }
   ],
   "source": [
    "# Compute the frobenius norm (Default value for np.linalg.norm is fro, in case of matrix)\n",
    "norm_frob_A = np.linalg.norm(A)\n",
    "print(\"Frobenius Norm of matrix A: {}\".format(norm_frob_A))"
   ],
   "metadata": {
    "collapsed": false,
    "ExecuteTime": {
     "end_time": "2023-10-31T08:50:56.436925600Z",
     "start_time": "2023-10-31T08:50:56.307999Z"
    }
   },
   "id": "9e397a5fa4eef93f"
  },
  {
   "cell_type": "markdown",
   "source": [
    "## Cosine similarity\n",
    "Cosine similarity is a measure of similarity between two non-zero vectors defined in an inner product space. Cosine similarity is the cosine of the angle between the vectors; that is, it is the dot product of the vectors divided by the product of their lengths. It follows that the cosine similarity does not depend on the magnitudes of the vectors, but only on their angle. <br>\n",
    "Given two vectors $a = \\begin{pmatrix} a_1\\\\ a_2 \\\\...\\\\ a_n \\end{pmatrix} $ and $b = \\begin{pmatrix} b_1\\\\ b_2\\\\...\\\\b_n \\end{pmatrix} $ the angle between the two vectors $a$ and $b$ is defined as follow : $ \\cos \\vartheta = \\frac{b^Ta}{\\lVert b \\rVert \\lVert a \\rVert}$"
   ],
   "metadata": {
    "collapsed": false
   },
   "id": "191c214dd683fca2"
  },
  {
   "cell_type": "markdown",
   "source": [
    "### Function to compute the cosine similarity\n",
    "**NB**: In python there is no difference between row and column vectors; thus, in the function definition we don't need to transpose **b**.\n",
    "* INPUT\n",
    "  * **a**: Input vector a\n",
    "  * **b**: Input vector b\n",
    "* OUTPUT\n",
    "  * **theta**: The cosine similarity between the two input vectors **a** and **b**\n",
    "\n"
   ],
   "metadata": {
    "collapsed": false
   },
   "id": "4cb1442d03bee4f7"
  },
  {
   "cell_type": "code",
   "execution_count": 11,
   "outputs": [],
   "source": [
    "def cosine_similarity(w,y):\n",
    "    return np.dot(y, w) / (np.linalg.norm(y) * np.linalg.norm(w))"
   ],
   "metadata": {
    "collapsed": false,
    "ExecuteTime": {
     "end_time": "2023-10-31T08:50:59.319057400Z",
     "start_time": "2023-10-31T08:50:59.193132Z"
    }
   },
   "id": "73b5e0779256e21f"
  },
  {
   "cell_type": "code",
   "execution_count": 12,
   "outputs": [
    {
     "name": "stdout",
     "output_type": "stream",
     "text": [
      "Vector a: [5 7]\n",
      "Vector b: [4 3]\n"
     ]
    }
   ],
   "source": [
    "a = np.array([5, 7])\n",
    "print(\"Vector a: {}\".format(a))\n",
    "\n",
    "b = np.array([4, 3])\n",
    "print(\"Vector b: {}\".format(b))"
   ],
   "metadata": {
    "collapsed": false,
    "ExecuteTime": {
     "end_time": "2023-10-31T08:51:00.054633300Z",
     "start_time": "2023-10-31T08:50:59.922708900Z"
    }
   },
   "id": "2ba6d049a4f1ee9c"
  },
  {
   "cell_type": "code",
   "execution_count": 13,
   "outputs": [
    {
     "data": {
      "text/plain": "<Figure size 640x480 with 1 Axes>",
      "image/png": "[encoded data removed]"
     },
     "metadata": {},
     "output_type": "display_data"
    }
   ],
   "source": [
    "# plot the two vector\n",
    "plt.arrow(0,0,a[0],a[1], color='r', capstyle=\"projecting\", width=0.03)\n",
    "plt.arrow(0,0,b[0],b[1], color='b', capstyle=\"projecting\", width=0.03)\n",
    "plt.xlim([0, 5.5])\n",
    "plt.ylim([0, 7.5])\n",
    "plt.xlabel('x')\n",
    "plt.ylabel('y')\n",
    "plt.legend(['a','b'])\n",
    "plt.title('Cosine similarity between two vectors')\n",
    "plt.show()"
   ],
   "metadata": {
    "collapsed": false,
    "ExecuteTime": {
     "end_time": "2023-10-31T08:51:05.203172800Z",
     "start_time": "2023-10-31T08:51:00.910705300Z"
    }
   },
   "id": "1f1d2846c938484d"
  },
  {
   "cell_type": "code",
   "execution_count": 14,
   "outputs": [
    {
     "name": "stdout",
     "output_type": "stream",
     "text": [
      "The cosine similarity between a and b is: 0.953230637699318\n"
     ]
    }
   ],
   "source": [
    "# compute the cosine similarity\n",
    "print(\"The cosine similarity between a and b is: {}\".format(cosine_similarity(a,b)))"
   ],
   "metadata": {
    "collapsed": false,
    "ExecuteTime": {
     "end_time": "2023-10-31T08:51:06.487434Z",
     "start_time": "2023-10-31T08:51:06.400482Z"
    }
   },
   "id": "f448539602b0cec8"
  },
  {
   "cell_type": "markdown",
   "source": [
    "## Linear Correlation\n",
    "Let $x$ and $y$ be two vectors containing data observation. We want to know if $x$ and $y$ are linearly correlated. So, we want to know if $y$ can be expressed as: $y= \\beta_0 e + \\beta_1 x$ where $e = \\begin{pmatrix} 1\\\\ 1 \\\\...\\\\ 1 \\end{pmatrix}$."
   ],
   "metadata": {
    "collapsed": false
   },
   "id": "4311a5df3471acdc"
  },
  {
   "cell_type": "markdown",
   "source": [
    "### Mean of a vector $x: \\mu_x$\n",
    "The mean gives the control tendency: $\\mu_x = \\frac{\\sum_{i=1}^{n} x_i }{n}$"
   ],
   "metadata": {
    "collapsed": false
   },
   "id": "ea95b52dd8d9c30"
  },
  {
   "cell_type": "markdown",
   "source": [
    "### Standard deviation of a vector $x: \\sigma_x$\n",
    "The standard deviation measures how much the data are spread around the means. It's computes as: $\\sigma_x = \\sqrt{\\frac{\\sum_{i=1}^{n} (x_i - \\mu_x)^2}{n}} = \\frac{\\lVert x - \\mu_x e \\rVert_2}{\\sqrt{n}}$\n",
    "\n",
    "Implementation of function to compute the standard deviation by matrix notation.\n",
    "* INPUT\n",
    "  * **x**: Vector with observations\n",
    "* OUTPUT\n",
    "  * **$\\sigma_x$**: The standard deviation computed on vector **x**"
   ],
   "metadata": {
    "collapsed": false
   },
   "id": "74339772581f9434"
  },
  {
   "cell_type": "code",
   "execution_count": 15,
   "outputs": [],
   "source": [
    "def sigma_x(x):\n",
    "    # store the number of rows\n",
    "    m = x.shape[0]\n",
    "    \n",
    "    # define a vector of ones with size mx1 \n",
    "    e = np.ones((m,1))\n",
    "    return np.linalg.norm(x - np.mean(x)*e, 2)/np.sqrt(m)"
   ],
   "metadata": {
    "collapsed": false,
    "ExecuteTime": {
     "end_time": "2023-10-31T08:51:11.278015800Z",
     "start_time": "2023-10-31T08:51:11.089128Z"
    }
   },
   "id": "f56ef67ed3eaefbf"
  },
  {
   "cell_type": "markdown",
   "source": [
    "### z-score of a vector $x: z_x$\n",
    "In order to make some meaningfully \"comparison\" we need to **standardize**. For a vector $x$, such that $\\sigma_x \\neq 0$, we compute $z_x = \\frac{x - \\mu_x e}{\\sigma_x}$, such that:\n",
    "* $\\lVert z_x \\rVert _2 = \\sqrt{n}$\n",
    "* $\\mu_{z_x} = 0$\n",
    "* $\\sigma_{z_x} = 1$\n",
    "\n",
    "Implementation of function to compute the z-score of a vector.\n",
    "* INPUT\n",
    "  * **x**: Vector with observations\n",
    "* OUTPUT\n",
    "  * **$z_x$**: The standardize vector **x**"
   ],
   "metadata": {
    "collapsed": false
   },
   "id": "312e96e15ff76110"
  },
  {
   "cell_type": "code",
   "execution_count": 16,
   "outputs": [],
   "source": [
    "def z_score(x):\n",
    "    # store the number of rows\n",
    "    m = x.shape[0]\n",
    "    \n",
    "    # define a vector of ones with size mx1 \n",
    "    e = np.ones((m,1))\n",
    "    return (x - np.mean(x)*e)/sigma_x(x)"
   ],
   "metadata": {
    "collapsed": false,
    "ExecuteTime": {
     "end_time": "2023-10-31T08:51:13.452830500Z",
     "start_time": "2023-10-31T08:51:13.336788900Z"
    }
   },
   "id": "662615e7ee980cb2"
  },
  {
   "cell_type": "markdown",
   "source": [
    "### Correlation coefficient of two vector $x$ and $y: \\rho_{xy}$\n",
    "The mathematical formulation of the correlation coefficient is  = \n",
    "\n",
    "$ \\cos \\vartheta = \\frac{{z_x}^Tz_y}{\\lVert z_x \\rVert_2 \\lVert z_y \\rVert_2} = \\frac{{z_x}^Tz_y}{\\sqrt{n}\\sqrt{n}} = \\frac{(x-\\mu_x e)^T(y-\\mu_y e)}{\\sigma_x \\sigma_y n} = \\frac{(x-\\mu_x e)^T(y-\\mu_y e)}{\\lVert x - \\mu_x e \\rVert_2 \\lVert y - \\mu_y e \\rVert_2} = \\rho_{xy}$\n",
    "\n",
    "Implementation of function to compute the correlation coefficient between two vectors.\n",
    "* INPUT\n",
    "  * **x**: The vector x of input data.\n",
    "  * **y**: The vector y of input data.\n",
    "* OUTPUT\n",
    "  * **$\\rho_{xy}$**: The correlation coefficient between **x** and **y**."
   ],
   "metadata": {
    "collapsed": false
   },
   "id": "3934fd6418f7994"
  },
  {
   "cell_type": "code",
   "execution_count": 17,
   "outputs": [],
   "source": [
    "def corr_xy(x, y):\n",
    "    m = x.shape[0]\n",
    "    return np.dot(y.T, x)/m"
   ],
   "metadata": {
    "collapsed": false,
    "ExecuteTime": {
     "end_time": "2023-10-31T08:51:15.075145200Z",
     "start_time": "2023-10-31T08:51:14.994189900Z"
    }
   },
   "id": "3f2ab50ee9b9d8ce"
  },
  {
   "cell_type": "code",
   "execution_count": 18,
   "outputs": [],
   "source": [
    "def plot_correlation(x, y, title_plot):\n",
    "    plt.scatter(x, y)\n",
    "    plt.title(title_plot)"
   ],
   "metadata": {
    "collapsed": false,
    "ExecuteTime": {
     "end_time": "2023-10-31T08:51:15.649811600Z",
     "start_time": "2023-10-31T08:51:15.579852500Z"
    }
   },
   "id": "e9c703d4f32c2594"
  },
  {
   "cell_type": "code",
   "execution_count": 19,
   "outputs": [],
   "source": [
    "# Define the number of points\n",
    "m = 50"
   ],
   "metadata": {
    "collapsed": false,
    "ExecuteTime": {
     "end_time": "2023-10-31T08:51:16.348541400Z",
     "start_time": "2023-10-31T08:51:16.284579600Z"
    }
   },
   "id": "7a5a96e68800a9c3"
  },
  {
   "cell_type": "code",
   "execution_count": 20,
   "outputs": [
    {
     "name": "stdout",
     "output_type": "stream",
     "text": [
      "The original dataset x, with y1, y2 and y3:\n",
      "-------------------------------------------------\n",
      "[[1.00000000e+00 9.35160443e-03 1.36580006e-01 5.01389407e+01]\n",
      " [2.00000000e+00 6.97666379e-03 1.57680976e-01 4.92017512e+01]\n",
      " [3.00000000e+00 1.19410959e-02 3.66475073e-01 4.80827887e+01]\n",
      " [4.00000000e+00 3.30274707e-02 2.49088870e-01 4.68110733e+01]\n",
      " [5.00000000e+00 5.59957181e-02 5.56037704e-01 4.60445836e+01]\n",
      " [6.00000000e+00 5.56824633e-02 5.45019498e-01 4.50151363e+01]\n",
      " [7.00000000e+00 7.45906482e-02 1.54224426e-01 4.40852179e+01]\n",
      " [8.00000000e+00 7.68509972e-02 1.27374345e-01 4.30110209e+01]\n",
      " [9.00000000e+00 7.34408715e-02 3.95213103e-01 4.20064142e+01]\n",
      " [1.00000000e+01 1.13982465e-01 3.88045342e-01 4.10084477e+01]\n",
      " [1.10000000e+01 1.12381332e-01 1.19146677e+00 4.01136913e+01]\n",
      " [1.20000000e+01 1.03545096e-01 9.35162665e-01 3.91253095e+01]\n",
      " [1.30000000e+01 1.35544644e-01 5.05179159e-01 3.79828547e+01]\n",
      " [1.40000000e+01 1.25763521e-01 4.59154740e-01 3.70671709e+01]\n",
      " [1.50000000e+01 1.52725481e-01 7.05923458e-01 3.60739133e+01]\n",
      " [1.60000000e+01 1.69249922e-01 5.19913997e-01 3.51460770e+01]\n",
      " [1.70000000e+01 1.53860344e-01 1.76107026e+00 3.40273884e+01]\n",
      " [1.80000000e+01 1.87968989e-01 9.22656131e-01 3.31646105e+01]\n",
      " [1.90000000e+01 1.98630933e-01 1.89347286e+00 3.20465345e+01]\n",
      " [2.00000000e+01 2.06330624e-01 5.59592281e-01 3.09751391e+01]\n",
      " [2.10000000e+01 2.09172327e-01 1.75745293e+00 3.00343715e+01]\n",
      " [2.20000000e+01 2.32987076e-01 2.27710217e+00 2.89773796e+01]\n",
      " [2.30000000e+01 2.35337118e-01 1.16725539e+00 2.79703531e+01]\n",
      " [2.40000000e+01 2.62375175e-01 2.60326035e+00 2.69612572e+01]\n",
      " [2.50000000e+01 2.58865190e-01 2.03641535e+00 2.59297503e+01]\n",
      " [2.60000000e+01 2.44161919e-01 1.21351701e+00 2.50151493e+01]\n",
      " [2.70000000e+01 2.86030698e-01 1.07515917e+00 2.41187825e+01]\n",
      " [2.80000000e+01 2.63806419e-01 4.85158076e-01 2.31196617e+01]\n",
      " [2.90000000e+01 3.04569735e-01 1.99395758e+00 2.21209636e+01]\n",
      " [3.00000000e+01 2.78341883e-01 1.37503416e+00 2.10343302e+01]\n",
      " [3.10000000e+01 3.06113494e-01 1.08800222e+00 2.00859847e+01]\n",
      " [3.20000000e+01 3.09076512e-01 2.81230067e+00 1.88989184e+01]\n",
      " [3.30000000e+01 3.17470192e-01 1.82529946e+00 1.80216938e+01]\n",
      " [3.40000000e+01 3.32900026e-01 2.64028611e+00 1.70035625e+01]\n",
      " [3.50000000e+01 3.38405735e-01 6.38467037e-01 1.60792331e+01]\n",
      " [3.60000000e+01 3.58854647e-01 3.69188768e+00 1.50293569e+01]\n",
      " [3.70000000e+01 3.77430235e-01 3.90328338e+00 1.38963471e+01]\n",
      " [3.80000000e+01 3.81183288e-01 2.47381681e+00 1.31426459e+01]\n",
      " [3.90000000e+01 3.91602309e-01 1.70028537e+00 1.20184002e+01]\n",
      " [4.00000000e+01 3.92491812e-01 9.29799427e-01 1.11041993e+01]\n",
      " [4.10000000e+01 3.99830233e-01 4.02959030e+00 9.91149249e+00]\n",
      " [4.20000000e+01 4.24288777e-01 2.09774145e+00 8.95216819e+00]\n",
      " [4.30000000e+01 4.41713306e-01 1.18008243e+00 7.89101516e+00]\n",
      " [4.40000000e+01 4.31077707e-01 1.67276031e+00 7.13626571e+00]\n",
      " [4.50000000e+01 4.53871330e-01 1.84249689e+00 6.11923301e+00]\n",
      " [4.60000000e+01 4.51700207e-01 4.33938984e+00 4.97900792e+00]\n",
      " [4.70000000e+01 4.70015886e-01 4.36383880e+00 4.10472176e+00]\n",
      " [4.80000000e+01 4.76574944e-01 2.75154497e+00 3.02820531e+00]\n",
      " [4.90000000e+01 4.89345844e-01 1.33614191e+00 2.02489439e+00]\n",
      " [5.00000000e+01 4.99728994e-01 5.14954108e+00 7.00842278e-01]]\n"
     ]
    }
   ],
   "source": [
    "# Define observations\n",
    "x  = np.linspace(1,m,m).reshape(m,1)\n",
    "\n",
    "# Positive linear correlated data \n",
    "y1 = 0.01*x  + 1e-2*np.random.randn(m,1)\n",
    "\n",
    "# Low linear correlated data\n",
    "y2 = (0.01+1e-1*np.random.rand(m,1))* x + 1e-1*np.random.rand(m,1)\n",
    "\n",
    "# Negative linear correlated data\n",
    "y3 = np.linspace(m,1,m).reshape(m,1) + 1e-1*np.random.randn(m,1)\n",
    "\n",
    "print(\"The original dataset x, with y1, y2 and y3:\\n\"+\n",
    "      \"-------------------------------------------------\"+\n",
    "      \"\\n{}\".format(np.hstack((x,y1,y2,y3))))"
   ],
   "metadata": {
    "collapsed": false,
    "ExecuteTime": {
     "end_time": "2023-10-31T08:51:16.916908600Z",
     "start_time": "2023-10-31T08:51:16.818965300Z"
    }
   },
   "id": "d91ed80b90ec758f"
  },
  {
   "cell_type": "code",
   "execution_count": 21,
   "outputs": [
    {
     "name": "stdout",
     "output_type": "stream",
     "text": [
      "The normalize dataset x, with y1, y2 and y3:\n",
      "-------------------------------------------------\n",
      "[[0.00482664 0.00452773 0.00960074 0.24169165]\n",
      " [0.00965328 0.00337786 0.01108401 0.23717398]\n",
      " [0.01447992 0.00578147 0.02576095 0.23178009]\n",
      " [0.01930656 0.01599077 0.01750942 0.22564987]\n",
      " [0.0241332  0.02711121 0.03908605 0.22195505]\n",
      " [0.02895984 0.02695954 0.03831153 0.21699267]\n",
      " [0.03378648 0.03611423 0.01084103 0.21251005]\n",
      " [0.03861311 0.03720862 0.00895364 0.20733195]\n",
      " [0.04343975 0.03555755 0.02778106 0.20248931]\n",
      " [0.04826639 0.0551864  0.02727721 0.19767867]\n",
      " [0.05309303 0.05441119 0.08375282 0.19336555]\n",
      " [0.05791967 0.05013298 0.06573621 0.18860112]\n",
      " [0.06274631 0.06562607 0.035511   0.18309399]\n",
      " [0.06757295 0.06089038 0.03227577 0.17867999]\n",
      " [0.07239959 0.07394444 0.0496221  0.17389206]\n",
      " [0.07722623 0.08194501 0.03654677 0.16941948]\n",
      " [0.08205287 0.0744939  0.12379246 0.16402691]\n",
      " [0.08687951 0.09100814 0.06485708 0.15986794]\n",
      " [0.09170615 0.09617029 0.13309955 0.15447833]\n",
      " [0.09653279 0.09989821 0.03933591 0.14931373]\n",
      " [0.10135943 0.10127407 0.12353818 0.14477882]\n",
      " [0.10618607 0.11280435 0.16006634 0.13968366]\n",
      " [0.1110127  0.11394216 0.08205091 0.13482935]\n",
      " [0.11583934 0.12703306 0.18299327 0.12996506]\n",
      " [0.12066598 0.12533365 0.14314753 0.12499275]\n",
      " [0.12549262 0.11821483 0.08530282 0.12058397]\n",
      " [0.13031926 0.13848626 0.07557711 0.11626309]\n",
      " [0.1351459  0.12772602 0.03410364 0.11144689]\n",
      " [0.13997254 0.14746222 0.14016301 0.10663273]\n",
      " [0.14479918 0.13476359 0.09665648 0.10139468]\n",
      " [0.14962582 0.14820966 0.0764799  0.09682324]\n",
      " [0.15445246 0.14964425 0.19768752 0.09110106]\n",
      " [0.1592791  0.15370818 0.12830738 0.08687245]\n",
      " [0.16410574 0.16117878 0.18559595 0.08196462]\n",
      " [0.16893238 0.16384445 0.04488032 0.07750894]\n",
      " [0.17375902 0.17374511 0.2595171  0.07244808]\n",
      " [0.17858566 0.18273878 0.27437693 0.06698648]\n",
      " [0.18341229 0.18455588 0.17389418 0.06335331]\n",
      " [0.18823893 0.18960041 0.11951965 0.05793395]\n",
      " [0.19306557 0.19003108 0.06535921 0.0535271 ]\n",
      " [0.19789221 0.19358409 0.28325553 0.04777773]\n",
      " [0.20271885 0.20542608 0.14745838 0.04315337]\n",
      " [0.20754549 0.21386244 0.08295257 0.03803815]\n",
      " [0.21237213 0.20871304 0.11758481 0.03439993]\n",
      " [0.21719877 0.21974893 0.12951625 0.02949738]\n",
      " [0.22202541 0.21869775 0.30503254 0.024001  ]\n",
      " [0.22685205 0.22756557 0.30675115 0.01978656]\n",
      " [0.23167869 0.23074124 0.19341677 0.01459728]\n",
      " [0.23650533 0.23692448 0.0939226  0.00976088]\n",
      " [0.24133197 0.24195164 0.36198122 0.00337837]]\n"
     ]
    }
   ],
   "source": [
    "# Normalize the vectors dividing by the 2-norm of the vectors\n",
    "x = x/np.linalg.norm(x,2)\n",
    "y1 = y1/np.linalg.norm(y1,2)\n",
    "y2 = y2/np.linalg.norm(y2,2)\n",
    "y3 = y3/np.linalg.norm(y3,2)\n",
    " \n",
    "print(\"The normalize dataset x, with y1, y2 and y3:\\n\"+\n",
    "      \"-------------------------------------------------\"+\n",
    "      \"\\n{}\".format(np.hstack((x,y1,y2,y3))))"
   ],
   "metadata": {
    "collapsed": false,
    "ExecuteTime": {
     "end_time": "2023-10-31T08:51:17.791303Z",
     "start_time": "2023-10-31T08:51:17.690908300Z"
    }
   },
   "id": "1a69e3df37789a6b"
  },
  {
   "cell_type": "code",
   "execution_count": 22,
   "outputs": [],
   "source": [
    "# Compute the z-score of the data \n",
    "zx = z_score(x)\n",
    "zy1 = z_score(y1)\n",
    "zy2 = z_score(y2)\n",
    "zy3 = z_score(y3)"
   ],
   "metadata": {
    "collapsed": false,
    "ExecuteTime": {
     "end_time": "2023-10-31T08:51:18.466470800Z",
     "start_time": "2023-10-31T08:51:18.398511400Z"
    }
   },
   "id": "62f69666cf6f1f82"
  },
  {
   "cell_type": "code",
   "execution_count": 23,
   "outputs": [],
   "source": [
    "# Compute the cosine of the angle, which is the correlation coefficient\n",
    "corr_xy1 = corr_xy(zx, zy1)\n",
    "corr_xy2 = corr_xy(zx, zy2)\n",
    "corr_xy3 = corr_xy(zx, zy3)"
   ],
   "metadata": {
    "collapsed": false,
    "ExecuteTime": {
     "end_time": "2023-10-31T08:51:19.508402800Z",
     "start_time": "2023-10-31T08:51:19.433445600Z"
    }
   },
   "id": "efd0a641307019f2"
  },
  {
   "cell_type": "code",
   "execution_count": 24,
   "outputs": [
    {
     "data": {
      "text/plain": "<Figure size 1200x500 with 3 Axes>",
      "image/png": "[encoded data removed]"
     },
     "metadata": {},
     "output_type": "display_data"
    }
   ],
   "source": [
    "plt.figure(figsize=(12,5))\n",
    "plt.subplot(1, 3, 1)\n",
    "plot_correlation(zx, zy1, \"Correlation coefficient:\\n\" + str(corr_xy1))\n",
    "plt.subplot(1, 3, 2)\n",
    "plot_correlation(zx, zy2, \"Correlation coefficient:\\n\" + str(corr_xy2))\n",
    "plt.subplot(1, 3, 3)\n",
    "plot_correlation(zx, zy3, \"Correlation coefficient:\\n\" + str(corr_xy3))\n",
    "plt.show()"
   ],
   "metadata": {
    "collapsed": false,
    "ExecuteTime": {
     "end_time": "2023-10-31T08:51:22.817096900Z",
     "start_time": "2023-10-31T08:51:20.602315500Z"
    }
   },
   "id": "f207787efab14941"
  }
 ],
 "metadata": {
  "kernelspec": {
   "display_name": "Python 3",
   "language": "python",
   "name": "python3"
  },
  "language_info": {
   "codemirror_mode": {
    "name": "ipython",
    "version": 3
   },
   "file_extension": ".py",
   "mimetype": "text/x-python",
   "name": "python",
   "nbconvert_exporter": "python",
   "pygments_lexer": "ipython3",
   "version": "3.7.6"
  },
  "colab": {
   "name": "2_text mining.ipynb",
   "provenance": [],
   "collapsed_sections": [],
   "toc_visible": true
  }
 },
 "nbformat": 4,
 "nbformat_minor": 5
}
