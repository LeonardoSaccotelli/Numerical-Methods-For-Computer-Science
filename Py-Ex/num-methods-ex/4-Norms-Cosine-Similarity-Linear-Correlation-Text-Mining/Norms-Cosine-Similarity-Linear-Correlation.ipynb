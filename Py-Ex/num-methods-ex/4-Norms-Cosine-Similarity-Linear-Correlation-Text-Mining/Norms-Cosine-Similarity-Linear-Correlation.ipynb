{
 "cells": [
  {
   "cell_type": "markdown",
   "source": [
    "# Norms, Cosine Similarity and Linear Correlation\n",
    "<hr>\n",
    "This notebook introduces the concept of vector and matrix norms. We will begin by demonstrating how to compute various types of vector and matrix norms. Next, we'll apply the concept of norms to define cosine similarity and explore its applications. Additionally, we'll illustrate the relationship between norms and cosine similarity in addressing linear correlation problems. We will implement linear correlation and provide multiple examples."
   ],
   "metadata": {
    "collapsed": false
   },
   "id": "340390bd3794dece"
  },
  {
   "cell_type": "markdown",
   "source": [
    "## Import libraries"
   ],
   "metadata": {
    "collapsed": false
   },
   "id": "71d7f6d99ca4adb4"
  },
  {
   "cell_type": "code",
   "execution_count": 1,
   "outputs": [],
   "source": [
    "import numpy as np\n",
    "import matplotlib.pyplot as plt"
   ],
   "metadata": {
    "collapsed": false,
    "ExecuteTime": {
     "end_time": "2023-10-28T20:58:18.091633300Z",
     "start_time": "2023-10-28T20:58:17.019877800Z"
    }
   },
   "id": "db061d24af3352be"
  },
  {
   "cell_type": "markdown",
   "source": [
    "## Vector and Matrix Norms"
   ],
   "metadata": {
    "collapsed": false
   },
   "id": "da46858a5d7ae2ba"
  },
  {
   "cell_type": "markdown",
   "source": [
    "### Vector Norms\n",
    "A function $\\lVert \\cdot \\rVert: \\mathbb{R}^n \\to \\mathbb{R}$ is a vector norm if: \n",
    "* $\\lVert x \\rVert \\geq 0 $ and $\\lVert x \\rVert = 0 \\iff x = 0$\n",
    "* $\\lVert \\alpha x \\rVert =  \\vert \\alpha \\vert \\lVert x \\rVert, \\alpha \\in \\mathbb{R}$\n",
    "* $\\lVert x + y \\rVert \\leq \\lVert x \\rVert \\lVert y \\rVert $\n",
    "An additional property which could be derived is:\n",
    "* $\\vert \\lVert x \\rVert - \\lVert y \\rVert \\vert \\leq \\lVert x - y \\rVert$\n",
    "The most used norms are the **p-norms**\n",
    "$ \\lVert x \\rVert_{p}  = \\left[\\sum_{i=1}^{n} \\vert x_i \\vert ^p \\right]^{1/p} $"
   ],
   "metadata": {
    "collapsed": false
   },
   "id": "f023128a234ee64c"
  },
  {
   "cell_type": "code",
   "execution_count": 2,
   "outputs": [
    {
     "name": "stdout",
     "output_type": "stream",
     "text": [
      "Vector x: [ 2 -5  3  1 -8 10 11]\n"
     ]
    }
   ],
   "source": [
    "# Create a vector\n",
    "x = np.array([2, -5, 3, 1, -8, 10, 11])\n",
    "print(\"Vector x: {}\".format(x))"
   ],
   "metadata": {
    "collapsed": false,
    "ExecuteTime": {
     "end_time": "2023-10-28T20:58:18.110619900Z",
     "start_time": "2023-10-28T20:58:18.092631200Z"
    }
   },
   "id": "6a05d707a43cc2c6"
  },
  {
   "cell_type": "markdown",
   "source": [
    "#### Norm 1 (Manhattan distance)\n",
    "The formulation for the Norm 1 is $ \\lVert x \\rVert_{1}  = \\sum_{i=1}^{n} \\vert x_i \\vert$"
   ],
   "metadata": {
    "collapsed": false
   },
   "id": "4942b51aace5e160"
  },
  {
   "cell_type": "code",
   "execution_count": 3,
   "outputs": [
    {
     "name": "stdout",
     "output_type": "stream",
     "text": [
      "Norm 1 of vector x: 40.0\n"
     ]
    }
   ],
   "source": [
    "# Compute the norm 1\n",
    "norm1_x = np.linalg.norm(x,1)\n",
    "print(\"Norm 1 of vector x: {}\".format(norm1_x))"
   ],
   "metadata": {
    "collapsed": false,
    "ExecuteTime": {
     "end_time": "2023-10-28T20:58:18.254296100Z",
     "start_time": "2023-10-28T20:58:18.109621200Z"
    }
   },
   "id": "360dc7aafec37db2"
  },
  {
   "cell_type": "markdown",
   "source": [
    "#### Norm 2 (Euclidian norm)\n",
    "The formulation for the Norm 2 is $ \\lVert x \\rVert_{2}  = \\sqrt[2]{\\sum_{i=1}^{n} \\vert x_i \\vert ^2}$"
   ],
   "metadata": {
    "collapsed": false
   },
   "id": "bb102ac25920623c"
  },
  {
   "cell_type": "code",
   "execution_count": 4,
   "outputs": [
    {
     "name": "stdout",
     "output_type": "stream",
     "text": [
      "Norm 2 of vector x: 18.0\n"
     ]
    }
   ],
   "source": [
    "# Compute the norm 2 (Default value for np.linalg.norm is 2, in case of vector)\n",
    "norm2_x = np.linalg.norm(x)\n",
    "print(\"Norm 2 of vector x: {}\".format(norm2_x))"
   ],
   "metadata": {
    "collapsed": false,
    "ExecuteTime": {
     "end_time": "2023-10-28T20:58:18.404209200Z",
     "start_time": "2023-10-28T20:58:18.250298400Z"
    }
   },
   "id": "9452c95377a4a25"
  },
  {
   "cell_type": "markdown",
   "source": [
    "#### Norm infinity\n",
    "The formulation for the Norm infinity is $ \\lim_{p \\to \\infty} \\lVert x \\rVert_{p} = \\lVert x \\rVert_{\\infty}  = \\max_{1 \\leq i \\leq n} \\vert x_i \\vert$"
   ],
   "metadata": {
    "collapsed": false
   },
   "id": "25395bcb086d19fb"
  },
  {
   "cell_type": "code",
   "execution_count": 5,
   "outputs": [
    {
     "name": "stdout",
     "output_type": "stream",
     "text": [
      "Norm infinity of vector x: 11.0\n"
     ]
    }
   ],
   "source": [
    "# Compute the norm infinity\n",
    "norm_inf_x = np.linalg.norm(x, np.inf)\n",
    "print(\"Norm infinity of vector x: {}\".format(norm_inf_x))"
   ],
   "metadata": {
    "collapsed": false,
    "ExecuteTime": {
     "end_time": "2023-10-28T20:58:18.551041700Z",
     "start_time": "2023-10-28T20:58:18.402211800Z"
    }
   },
   "id": "d4115efaa81e3158"
  },
  {
   "cell_type": "markdown",
   "source": [
    "### Matrix Norms\n",
    "A function $\\lVert \\cdot \\rVert$ is a matrix norm if: \n",
    "* $\\lVert A \\rVert \\geq 0 $ and $\\lVert A \\rVert = 0 \\iff A = 0$\n",
    "* $\\lVert \\alpha A \\rVert =  \\vert \\alpha \\vert \\lVert A \\rVert, \\forall \\alpha \\in \\mathbb{R}$\n",
    "* $\\lVert A + B \\rVert \\leq \\lVert A \\rVert + \\lVert B \\rVert \\forall A,B \\in \\mathbb{R}^{m \\times n}$\n",
    "* $\\lVert AB \\rVert \\leq \\lVert A \\rVert \\lVert B \\rVert \\forall A \\in \\mathbb{R}^{m \\times p}, \\forall B \\in \\mathbb{R}^{p \\times n}$"
   ],
   "metadata": {
    "collapsed": false
   },
   "id": "9c0e2ede077f3858"
  },
  {
   "cell_type": "code",
   "execution_count": 6,
   "outputs": [
    {
     "name": "stdout",
     "output_type": "stream",
     "text": [
      "Matrix A:\n",
      "[[-10  -2]\n",
      " [  1  -1]\n",
      " [  5   3]]\n"
     ]
    }
   ],
   "source": [
    "# Create a matrix\n",
    "A = np.array([[-10, -2], [1, -1], [5, 3]])\n",
    "print(\"Matrix A:\\n{}\".format(A))"
   ],
   "metadata": {
    "collapsed": false,
    "ExecuteTime": {
     "end_time": "2023-10-28T20:58:18.669957600Z",
     "start_time": "2023-10-28T20:58:18.547045100Z"
    }
   },
   "id": "d9ec09639174e2bb"
  },
  {
   "cell_type": "markdown",
   "source": [
    "#### Matrix Norm induced by Norm 1\n",
    "The formulation for the Matrix Norm 1 is $ \\lVert A \\rVert_{1}  = \\max_{\\lVert x \\rVert_{1} = 1} \\lVert Ax \\rVert_{1} =  \\max_{j} \\sum_{i}^{} \\vert a_{ij} \\vert$"
   ],
   "metadata": {
    "collapsed": false
   },
   "id": "d1ecec8122da8def"
  },
  {
   "cell_type": "code",
   "execution_count": 7,
   "outputs": [
    {
     "name": "stdout",
     "output_type": "stream",
     "text": [
      "Norm 1 of matrix A: 16.0\n"
     ]
    }
   ],
   "source": [
    "# Compute the norm 1\n",
    "norm1_A = np.linalg.norm(A, 1)\n",
    "print(\"Norm 1 of matrix A: {}\".format(norm1_A))"
   ],
   "metadata": {
    "collapsed": false,
    "ExecuteTime": {
     "end_time": "2023-10-28T20:58:18.774897300Z",
     "start_time": "2023-10-28T20:58:18.667959300Z"
    }
   },
   "id": "326a01480056d59d"
  },
  {
   "cell_type": "markdown",
   "source": [
    "#### Matrix Norm induced by Norm 2\n",
    "The formulation for the Matrix Norm 2 is $ \\lVert A \\rVert_{2} = \\max_{\\sqrt{x^Tx} = 1} \\sqrt{x^TA^TAx}$"
   ],
   "metadata": {
    "collapsed": false
   },
   "id": "9393be406f2cdecc"
  },
  {
   "cell_type": "code",
   "execution_count": 8,
   "outputs": [
    {
     "name": "stdout",
     "output_type": "stream",
     "text": [
      "Norm 2 of matrix A: 11.641020462856197\n"
     ]
    }
   ],
   "source": [
    "# Compute the norm 2\n",
    "norm2_A = np.linalg.norm(A, 2)\n",
    "print(\"Norm 2 of matrix A: {}\".format(norm2_A))"
   ],
   "metadata": {
    "collapsed": false,
    "ExecuteTime": {
     "end_time": "2023-10-28T20:58:19.001769400Z",
     "start_time": "2023-10-28T20:58:18.775896700Z"
    }
   },
   "id": "f735b5bc0aaf6dea"
  },
  {
   "cell_type": "markdown",
   "source": [
    "#### Matrix Norm induced by Inf-Norm\n",
    "The formulation for the Matrix Inf-Norm is $ \\lVert A \\rVert_{\\infty} = \\max_{\\lVert x \\rVert_{\\infty} = 1} \\lVert Ax \\rVert_{\\infty} =  \\max_{i} \\sum_{j}^{} \\vert a_{ij} \\vert$"
   ],
   "metadata": {
    "collapsed": false
   },
   "id": "715e6d00bb3c3d46"
  },
  {
   "cell_type": "code",
   "execution_count": 9,
   "outputs": [
    {
     "name": "stdout",
     "output_type": "stream",
     "text": [
      "Norm infinity of matrix A: 12.0\n"
     ]
    }
   ],
   "source": [
    "# Compute the norm infinity\n",
    "norm_inf_A = np.linalg.norm(A, np.inf)\n",
    "print(\"Norm infinity of matrix A: {}\".format(norm_inf_A))"
   ],
   "metadata": {
    "collapsed": false,
    "ExecuteTime": {
     "end_time": "2023-10-28T20:58:19.095712300Z",
     "start_time": "2023-10-28T20:58:18.994773600Z"
    }
   },
   "id": "de8b0e3c681d828"
  },
  {
   "cell_type": "markdown",
   "source": [
    "#### Frobenius Norm\n",
    "The formulation for the Frobenius Norm is $ \\lVert A \\rVert_{F} = \\sqrt{ \\sum_{i,j}^{} \\vert a_{ij}\\vert^2}= \\sqrt{trace(A^TA)}$"
   ],
   "metadata": {
    "collapsed": false
   },
   "id": "51bddf15eaae4b07"
  },
  {
   "cell_type": "code",
   "execution_count": 10,
   "outputs": [
    {
     "name": "stdout",
     "output_type": "stream",
     "text": [
      "Frobenius Norm of matrix A: 11.832159566199232\n"
     ]
    }
   ],
   "source": [
    "# Compute the frobenius norm (Default value for np.linalg.norm is fro, in case of matrix)\n",
    "norm_frob_A = np.linalg.norm(A)\n",
    "print(\"Frobenius Norm of matrix A: {}\".format(norm_frob_A))"
   ],
   "metadata": {
    "collapsed": false,
    "ExecuteTime": {
     "end_time": "2023-10-28T20:58:19.179148500Z",
     "start_time": "2023-10-28T20:58:19.071725500Z"
    }
   },
   "id": "9e397a5fa4eef93f"
  },
  {
   "cell_type": "markdown",
   "source": [
    "## Cosine similarity\n",
    "Cosine similarity is a measure of similarity between two non-zero vectors defined in an inner product space. Cosine similarity is the cosine of the angle between the vectors; that is, it is the dot product of the vectors divided by the product of their lengths. It follows that the cosine similarity does not depend on the magnitudes of the vectors, but only on their angle. <br>\n",
    "Given two vectors $a = \\begin{pmatrix} a_1\\\\ a_2 \\\\...\\\\ a_n \\end{pmatrix} $ and $b = \\begin{pmatrix} b_1\\\\ b_2\\\\...\\\\b_n \\end{pmatrix} $ the angle between the two vectors $a$ and $b$ is defined as follow : $ \\cos \\vartheta = \\frac{b^Ta}{\\lVert b \\rVert \\lVert a \\rVert}$"
   ],
   "metadata": {
    "collapsed": false
   },
   "id": "191c214dd683fca2"
  },
  {
   "cell_type": "markdown",
   "source": [
    "### Function to compute the cosine similarity\n",
    "**NB**: In python there is no difference between row and column vectors; thus, in the function definition we don't need to transpose **b**.\n",
    "* INPUT\n",
    "  * **a**: Input vector a\n",
    "  * **b**: Input vector b\n",
    "* OUTPUT\n",
    "  * **theta**: The cosine similarity between the two input vectors **a** and **b**\n",
    "\n"
   ],
   "metadata": {
    "collapsed": false
   },
   "id": "4cb1442d03bee4f7"
  },
  {
   "cell_type": "code",
   "execution_count": 11,
   "outputs": [],
   "source": [
    "def cosine_similarity(w,y):\n",
    "    return np.dot(y, w) / (np.linalg.norm(y) * np.linalg.norm(w))"
   ],
   "metadata": {
    "collapsed": false,
    "ExecuteTime": {
     "end_time": "2023-10-28T20:58:19.295078800Z",
     "start_time": "2023-10-28T20:58:19.169154200Z"
    }
   },
   "id": "73b5e0779256e21f"
  },
  {
   "cell_type": "code",
   "execution_count": 12,
   "outputs": [
    {
     "name": "stdout",
     "output_type": "stream",
     "text": [
      "Vector a: [5 7]\n",
      "Vector b: [4 3]\n"
     ]
    }
   ],
   "source": [
    "a = np.array([5, 7])\n",
    "print(\"Vector a: {}\".format(a))\n",
    "\n",
    "b = np.array([4, 3])\n",
    "print(\"Vector b: {}\".format(b))"
   ],
   "metadata": {
    "collapsed": false,
    "ExecuteTime": {
     "end_time": "2023-10-28T20:58:22.014822700Z",
     "start_time": "2023-10-28T20:58:21.994820200Z"
    }
   },
   "id": "2ba6d049a4f1ee9c"
  },
  {
   "cell_type": "code",
   "execution_count": 13,
   "outputs": [
    {
     "data": {
      "text/plain": "<Figure size 640x480 with 1 Axes>",
      "image/png": "[encoded data removed]"
     },
     "metadata": {},
     "output_type": "display_data"
    }
   ],
   "source": [
    "# plot the two vector\n",
    "plt.arrow(0,0,a[0],a[1], color='r', capstyle=\"projecting\", width=0.03)\n",
    "plt.arrow(0,0,b[0],b[1], color='b', capstyle=\"projecting\", width=0.03)\n",
    "plt.xlim([0, 5.5])\n",
    "plt.ylim([0, 7.5])\n",
    "plt.xlabel('x')\n",
    "plt.ylabel('y')\n",
    "plt.legend(['a','b'])\n",
    "plt.title('Cosine similarity between two vectors')\n",
    "plt.show()"
   ],
   "metadata": {
    "collapsed": false,
    "ExecuteTime": {
     "end_time": "2023-10-28T20:58:23.574785300Z",
     "start_time": "2023-10-28T20:58:23.200999Z"
    }
   },
   "id": "1f1d2846c938484d"
  },
  {
   "cell_type": "code",
   "execution_count": 14,
   "outputs": [
    {
     "name": "stdout",
     "output_type": "stream",
     "text": [
      "The cosine similarity between a and b is: 0.953230637699318\n"
     ]
    }
   ],
   "source": [
    "# compute the cosine similarity\n",
    "print(\"The cosine similarity between a and b is: {}\".format(cosine_similarity(a,b)))"
   ],
   "metadata": {
    "collapsed": false,
    "ExecuteTime": {
     "end_time": "2023-10-28T20:58:26.017916700Z",
     "start_time": "2023-10-28T20:58:25.966962100Z"
    }
   },
   "id": "f448539602b0cec8"
  },
  {
   "cell_type": "markdown",
   "source": [
    "## Linear Correlation"
   ],
   "metadata": {
    "collapsed": false
   },
   "id": "4311a5df3471acdc"
  }
 ],
 "metadata": {
  "kernelspec": {
   "display_name": "Python 3",
   "language": "python",
   "name": "python3"
  },
  "language_info": {
   "codemirror_mode": {
    "name": "ipython",
    "version": 3
   },
   "file_extension": ".py",
   "mimetype": "text/x-python",
   "name": "python",
   "nbconvert_exporter": "python",
   "pygments_lexer": "ipython3",
   "version": "3.7.6"
  },
  "colab": {
   "name": "2_text mining.ipynb",
   "provenance": [],
   "collapsed_sections": [],
   "toc_visible": true
  }
 },
 "nbformat": 4,
 "nbformat_minor": 5
}
