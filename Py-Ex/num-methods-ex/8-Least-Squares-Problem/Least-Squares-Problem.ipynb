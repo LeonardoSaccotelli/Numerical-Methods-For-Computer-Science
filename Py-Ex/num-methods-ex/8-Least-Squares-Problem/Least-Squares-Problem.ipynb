{
 "cells": [
  {
   "cell_type": "markdown",
   "metadata": {},
   "source": [
    "# Least Squares problem solutions with different algorithms\n"
   ]
  },
  {
   "cell_type": "markdown",
   "source": [
    "## Import libraries"
   ],
   "metadata": {
    "collapsed": false
   }
  },
  {
   "cell_type": "code",
   "outputs": [
    {
     "name": "stdout",
     "output_type": "stream",
     "text": [
      "WARNING:tensorflow:From D:\\2_UNIVERSITA\\2_MAGISTRALE\\1_ANNO\\2_NUM_METHODS_FOR_CS\\Code-Ex\\Py-Ex\\venv\\lib\\site-packages\\keras\\src\\losses.py:2976: The name tf.losses.sparse_softmax_cross_entropy is deprecated. Please use tf.compat.v1.losses.sparse_softmax_cross_entropy instead.\n"
     ]
    }
   ],
   "source": [
    "import numpy as np\n",
    "import matplotlib.pyplot as plt\n",
    "import scipy.linalg as las\n",
    "import torch\n",
    "import tensorflow as tf"
   ],
   "metadata": {
    "collapsed": false,
    "ExecuteTime": {
     "end_time": "2024-02-12T19:24:56.733887700Z",
     "start_time": "2024-02-12T19:23:37.938707Z"
    }
   },
   "execution_count": 1
  },
  {
   "cell_type": "markdown",
   "source": [
    "## Linear regression definition\n",
    "We have a set of measures $X=[x_1, x_2, x_n]$ and the output $\\hat y$, we would like to construct a linear model:\n",
    "$\\hat y = b_0 + \\sum_{j=1}^n x_j b_j$\n",
    "\n",
    "To find $b$, we solve a least squares problem. In matrix form we have $ X^T b =  \\hat y$.\n",
    "\n"
   ],
   "metadata": {}
  },
  {
   "cell_type": "markdown",
   "source": [
    "## Example in the book \"Azzalini A., Scarpa B., Data Analysis and Data Mining, Oxford University Press, 2012\".\n",
    "Let us presume that yesterday we observed n = 30 pairs of data ($x_i, y_i$) for i=1,n. The data were generated artificially by an equation such as\n",
    "$ y = f(x) + \\epsilon$, where $\\epsilon$ is an error component with distribution $N(0, \\sigma^2), \\sigma=1e-2$."
   ],
   "metadata": {}
  },
  {
   "cell_type": "code",
   "outputs": [
    {
     "name": "stdout",
     "output_type": "stream",
     "text": [
      "\tx\t\ty.yesterday\tt.tomorrow\n",
      "[[0.5       0.4269584 0.4468527]\n",
      " [0.5862069 0.4841696 0.4769383]\n",
      " [0.6724138 0.4957393 0.5109149]\n",
      " [0.7586207 0.5438164 0.5130406]\n",
      " [0.8448276 0.5379404 0.5231111]\n",
      " [0.9310345 0.537514  0.5526467]\n",
      " [1.0172414 0.5401231 0.5371602]\n",
      " [1.1034483 0.5447002 0.5485324]\n",
      " [1.1896552 0.5453667 0.5446904]\n",
      " [1.2758621 0.5337212 0.5325971]\n",
      " [1.362069  0.5360551 0.5432252]\n",
      " [1.4482759 0.5482129 0.531643 ]\n",
      " [1.5344828 0.5277309 0.518995 ]\n",
      " [1.6206897 0.5032543 0.5243238]\n",
      " [1.7068966 0.5094058 0.527717 ]\n",
      " [1.7931034 0.5049205 0.5028689]\n",
      " [1.8793103 0.5224972 0.5274091]\n",
      " [1.9655172 0.5278002 0.5019069]\n",
      " [2.0517241 0.5249105 0.5037381]\n",
      " [2.137931  0.5106958 0.5030663]\n",
      " [2.2241379 0.5027985 0.4993774]\n",
      " [2.3103448 0.4895309 0.515341 ]\n",
      " [2.3965517 0.5117247 0.5086377]\n",
      " [2.4827586 0.5131897 0.5068553]\n",
      " [2.5689655 0.4986823 0.4912001]\n",
      " [2.6551724 0.5110766 0.5021926]\n",
      " [2.7413793 0.5056585 0.4991626]\n",
      " [2.8275862 0.5105358 0.5171174]\n",
      " [2.9137931 0.5070443 0.4961093]\n",
      " [3.        0.5104864 0.5025881]]\n"
     ]
    }
   ],
   "source": [
    "datay = np.genfromtxt('yesterday.csv', delimiter=' ', skip_header=1, usecols=(0,1,2)) \n",
    "print('\\tx\\t\\ty.yesterday\\tt.tomorrow')\n",
    "print(datay)"
   ],
   "metadata": {
    "collapsed": false,
    "ExecuteTime": {
     "end_time": "2024-02-12T19:24:56.777018200Z",
     "start_time": "2024-02-12T19:24:56.736886200Z"
    }
   },
   "execution_count": 2
  },
  {
   "cell_type": "code",
   "outputs": [
    {
     "data": {
      "text/plain": "<Figure size 640x480 with 1 Axes>",
      "image/png": "[encoded data removed]"
     },
     "metadata": {},
     "output_type": "display_data"
    }
   ],
   "source": [
    "plt.plot(datay[:,0], datay[:,1], 'bo')\n",
    "plt.xlabel('X')\n",
    "plt.ylabel('Y')\n",
    "plt.show()"
   ],
   "metadata": {
    "tags": [],
    "ExecuteTime": {
     "end_time": "2024-02-12T19:24:57.142614200Z",
     "start_time": "2024-02-12T19:24:56.765006900Z"
    }
   },
   "execution_count": 3
  },
  {
   "cell_type": "markdown",
   "metadata": {},
   "source": [
    "## Least squares problem with QR factorization"
   ]
  },
  {
   "cell_type": "code",
   "outputs": [],
   "source": [
    "x = datay[:,0]\n",
    "yest = datay[:,1] #  given information\n",
    "ytom = datay[:,2]  # tomorrow values"
   ],
   "metadata": {
    "collapsed": false,
    "ExecuteTime": {
     "end_time": "2024-02-12T19:24:57.361632200Z",
     "start_time": "2024-02-12T19:24:57.145613500Z"
    }
   },
   "execution_count": 4
  },
  {
   "cell_type": "code",
   "outputs": [],
   "source": [
    "# We define some points in which we will evaluate the polynomial, and we set some variable used to plot the result\n",
    "(nx,) = x.shape\n",
    "xmin = min(x) \n",
    "xmax = max(x)\n",
    "xx = np.linspace(xmin,xmax,200) # points used for evaluation"
   ],
   "metadata": {
    "collapsed": false,
    "ExecuteTime": {
     "end_time": "2024-02-12T19:24:57.397610600Z",
     "start_time": "2024-02-12T19:24:57.159608600Z"
    }
   },
   "execution_count": 5
  },
  {
   "cell_type": "markdown",
   "source": [
    "Define the Vandermonde matrix of order mp. So we look for a polynomial of degree mp-1 that better approximate the data. In this example we use mp = 5.\n",
    "\\begin{bmatrix}\n",
    "1 & x_1 & x_1^2 &...& x_1^{mp-1}\\\\\n",
    "1 & x_2 & x_2^2 &...& x_2^{mp-1}\\\\\n",
    ". & . & . & ... &. \\\\\n",
    ". & . & . & ... &. \\\\\n",
    "1 & x_m & x_m^2 &...& x_m^{mp-1}\\\\\n",
    "\\end{bmatrix}"
   ],
   "metadata": {
    "collapsed": false
   }
  },
  {
   "cell_type": "code",
   "outputs": [
    {
     "name": "stdout",
     "output_type": "stream",
     "text": [
      "The shape of the Vandermonde matrix is (30, 5)\n"
     ]
    }
   ],
   "source": [
    "mp=5\n",
    "A=np.vander(x,mp)\n",
    "print('The shape of the Vandermonde matrix is', A.shape)"
   ],
   "metadata": {
    "collapsed": false,
    "ExecuteTime": {
     "end_time": "2024-02-12T19:24:57.696717700Z",
     "start_time": "2024-02-12T19:24:57.398610500Z"
    }
   },
   "execution_count": 6
  },
  {
   "cell_type": "markdown",
   "source": [
    "We solve the least-squares problem by first computing the QR factorization. The economic mode computes only the first mp column of Q. In many cases we are not able to solve the least-squares problem (we are not able to compute the complete QR factorization) if we don't use the economic setup. This because if the dataset is huge, than the matrix Q from the QR will be big. Anyway, in this example, we can also compute without economic because we have only fex data.\n",
    "Now, we show step by step, how to solve the least-squares problem with the QR:\n",
    "1) the problem to solve is $Ax = b$\n",
    "2) compute the QR and we obtain $A = QR$ \n",
    "3) replace the factorization and we obtain $QRx = b$\n",
    "4) since $Q$ is orthogonal, $Q^TQ = I$\n",
    "5) compute $Q^TQRx = Q^Tb$, which is equal to $Rx = Q^Tb$\n",
    "6) solve the linear system $Rx = Q^Tb$"
   ],
   "metadata": {
    "collapsed": false
   }
  },
  {
   "cell_type": "code",
   "execution_count": 7,
   "metadata": {
    "tags": [],
    "ExecuteTime": {
     "end_time": "2024-02-12T19:24:57.924464200Z",
     "start_time": "2024-02-12T19:24:57.696717700Z"
    }
   },
   "outputs": [],
   "source": [
    "(Q,R) = las.qr(A, mode='economic') # Compute the QR\n",
    "p=las.solve(R, np.dot(np.transpose(Q),yest)) # solve the two linear systems "
   ]
  },
  {
   "cell_type": "markdown",
   "source": [
    "We evaluate the polynomial in the point x, and we plot the results."
   ],
   "metadata": {
    "collapsed": false
   }
  },
  {
   "cell_type": "code",
   "outputs": [
    {
     "data": {
      "text/plain": "<Figure size 640x480 with 1 Axes>",
      "image/png": "[encoded data removed]"
     },
     "metadata": {},
     "output_type": "display_data"
    }
   ],
   "source": [
    "yr=np.polyval(p,x) # this evaluates in the point of our dataset\n",
    "yc=np.polyval(p,xx) # this is used only to plot a shape of the function\n",
    "\n",
    "plt.plot(x,yest,'bo', x,yr,'r*', xx,yc,'g-')\n",
    "plt.axis([xmin,xmax,0.42,0.56])\n",
    "plt.legend(['observed', 'predicted', 'poly'])\n",
    "plt.xlabel('X')\n",
    "plt.ylabel('Y')\n",
    "plt.show()"
   ],
   "metadata": {
    "collapsed": false,
    "ExecuteTime": {
     "end_time": "2024-02-12T19:24:58.434599200Z",
     "start_time": "2024-02-12T19:24:57.928463800Z"
    }
   },
   "execution_count": 8
  },
  {
   "cell_type": "markdown",
   "source": [
    "### Add one row in the data and use a previously computed QR factorization to solve the Least squares problem\n",
    "We want to simulate the case in which we have already computed the QR factorization and we have a new observation. We want to update our model with this new observation, but we don't want to recompute again all the factorization. We will use the givens rotation to update the already factorized elements with the new data point.<br>We start with $Ax = b$, we compute the QR and we obtain $Rx = Q^Tb$. So, we have \n",
    "$\\begin{bmatrix}\n",
    "\\begin{bmatrix}\n",
    "R\\\\\n",
    "0\n",
    "\\end{bmatrix} & \\begin{bmatrix}\n",
    "Q_1^Tb\\\\\n",
    "Q_2^Tb\n",
    "\\end{bmatrix}\\\\\n",
    "\\end{bmatrix}$ <br> Now we have a new row in our data\n",
    "$\\begin{bmatrix}\n",
    "\\begin{bmatrix}\n",
    "R\\\\\n",
    "0\\\\\n",
    "\\alpha\n",
    "\\end{bmatrix} & \\begin{bmatrix}\n",
    "Q_1^Tb\\\\\n",
    "Q_2^Tb\\\\\n",
    "\\beta\n",
    "\\end{bmatrix}\\\\\n",
    "\\end{bmatrix}$\n",
    "and we use the givens rotations to update the matrix and put zero on the last row. In the end we will obtain\n",
    " $\\begin{bmatrix}\n",
    "\\begin{bmatrix}\n",
    "\\hat R\\\\\n",
    "0\n",
    "\\end{bmatrix} & \\begin{bmatrix}\n",
    "\\hat b_1\\\\\n",
    "\\hat \\beta\n",
    "\\end{bmatrix}\\\\\n",
    "\\end{bmatrix}$ <br> and so the solution will be obtained solving $\\hat R \\hat x = \\hat b_1$. <br>\n",
    "<b>NB</b>: We don't explicitly compute the givens matrix and should never be done. We have all the information directly in the vectors."
   ],
   "metadata": {
    "collapsed": false
   }
  },
  {
   "cell_type": "code",
   "outputs": [
    {
     "name": "stdout",
     "output_type": "stream",
     "text": [
      "shape of the matrices R = (5, 5) BT= (6, 5) A= (30, 5)\n"
     ]
    }
   ],
   "source": [
    "BT = np.copy(A[0:6,:]) #We take only 6 rows, and we compute the QR on this data\n",
    "yest_t = np.copy(yest[0:6])\n",
    "(Qb,Rb) = las.qr(BT,mode='economic')\n",
    "print('shape of the matrices','R =', Rb.shape,'BT=',BT.shape,'A=',A.shape)"
   ],
   "metadata": {
    "collapsed": false,
    "ExecuteTime": {
     "end_time": "2024-02-12T19:24:58.994080500Z",
     "start_time": "2024-02-12T19:24:58.436599200Z"
    }
   },
   "execution_count": 9
  },
  {
   "cell_type": "code",
   "outputs": [
    {
     "name": "stdout",
     "output_type": "stream",
     "text": [
      "Solution of the problem with all data (coefficients)  [-0.04674372  0.37572645 -1.06865916  1.2389301   0.04592347]\n",
      "Solution of the problem (coefficients) [ -8.58024134  24.32706842 -26.29007546  13.09187662  -2.04979986]\n"
     ]
    }
   ],
   "source": [
    "Qyest = np.dot(np.transpose(Qb),yest[0:6]) # Compute Qb^T * yest\n",
    "pb=las.solve(Rb, Qyest) # Solve Rb * x = Qb^T * yest\n",
    "print('Solution of the problem with all data (coefficients) ', p)\n",
    "print('Solution of the problem (coefficients)', pb)"
   ],
   "metadata": {
    "tags": [],
    "ExecuteTime": {
     "end_time": "2024-02-12T19:24:59.210415600Z",
     "start_time": "2024-02-12T19:24:58.455586300Z"
    }
   },
   "execution_count": 10
  },
  {
   "cell_type": "code",
   "execution_count": 11,
   "metadata": {
    "tags": [],
    "ExecuteTime": {
     "end_time": "2024-02-12T19:25:00.167907700Z",
     "start_time": "2024-02-12T19:24:59.214410900Z"
    }
   },
   "outputs": [
    {
     "name": "stdout",
     "output_type": "stream",
     "text": [
      "j= 0 at= [0.         0.12876434 0.28943505 0.49597953 0.77056032]\n",
      "j= 1 at= [-0.          0.          0.03782934  0.14451848  0.37620624]\n",
      "j= 2 at= [-0.00000000e+00  0.00000000e+00  3.46944695e-18 -1.22959379e-02\n",
      " -6.66268310e-02]\n",
      "j= 3 at= [ 0.00000000e+00  0.00000000e+00 -2.16710433e-18  0.00000000e+00\n",
      " -3.38315950e-03]\n",
      "j= 4 at= [ 0.00000000e+00  0.00000000e+00 -1.14167201e-18  0.00000000e+00\n",
      "  2.16840434e-19]\n"
     ]
    }
   ],
   "source": [
    "# Givens rotation to modify the QR factorization\n",
    "at = np.copy(A[6,:])    # vector alpha (the new data)\n",
    "bt = np.copy(yest[6])   # beta (the new data)\n",
    "Rbt = np.copy(Rb)   # copy the matrix Rb to update\n",
    "\n",
    "# For each row we use a givens rotation to multiply the correct row of R and the new data alpha\n",
    "for j in range(mp):\n",
    "    tv = np.copy(Rbt[j,:]) # we copy at each iteration a row\n",
    "    den = np.sqrt(tv[j]**2.+at[j]**2.) # Givens rotation sqrt(x^2+y^2)\n",
    "    cc = tv[j]/den # c element of the Givens matrix\n",
    "    ss = at[j]/den # s element of the Givens matrix\n",
    "    Rbt[j,:]=cc*tv+ss*at # we update the j-the row of the matrix\n",
    "    at = -ss*tv+cc*at # we update the alpha-vector putting zero on j-position\n",
    "    print('j=',j,'at=', at)\n",
    "    \n",
    "    # here we update also the right-side with the same operations\n",
    "    btv = np.copy(Qyest[j])\n",
    "    Qyest[j]= cc*btv+ss*bt\n",
    "    bt  = -ss*btv+cc*bt"
   ]
  },
  {
   "cell_type": "code",
   "outputs": [
    {
     "name": "stdout",
     "output_type": "stream",
     "text": [
      "(5,)\n",
      "(5, 5)\n"
     ]
    }
   ],
   "source": [
    "#full factorization with qr_insert  \n",
    "af = np.copy(A[6,:])\n",
    "print(af.shape)\n",
    "print(Rb.shape)\n",
    "(Qf6,Rf6) = las.qr_insert(Qb, Rb, af, 5)"
   ],
   "metadata": {
    "collapsed": false,
    "ExecuteTime": {
     "end_time": "2024-02-12T19:25:00.656376800Z",
     "start_time": "2024-02-12T19:25:00.170903500Z"
    }
   },
   "execution_count": 12
  },
  {
   "cell_type": "code",
   "outputs": [],
   "source": [
    "# full factorization with the last row added (so we recompute the QR with the new row)\n",
    "B = np.copy(A[0:7,:]) \n",
    "yest_t = np.copy(yest[0:7]) \n",
    "(Qbt_6,Rbt_6)= las.qr(B, mode='economic')   \n",
    "Qyest_6 = np.dot(np.transpose(Qbt_6), yest_t)\n",
    "pbt=las.solve(Rbt_6, Qyest_6)"
   ],
   "metadata": {
    "collapsed": false,
    "ExecuteTime": {
     "end_time": "2024-02-12T19:25:01.727653300Z",
     "start_time": "2024-02-12T19:25:00.661373300Z"
    }
   },
   "execution_count": 13
  },
  {
   "cell_type": "code",
   "outputs": [
    {
     "name": "stdout",
     "output_type": "stream",
     "text": [
      "Comparison of the two factorization =  2.7054085520619256e-15\n",
      "Comparison of the two factorization =  2.321060010856968e-15\n",
      "Comparison of the known term =  2.629744811621302e-15\n"
     ]
    }
   ],
   "source": [
    "## Scaling the matrices for comparison because the QR is not unique in the sense that the sign \n",
    "## could be positive or negative. So we scale to compare the results. \n",
    "## The sign function returns -1 if x < 0, 0 if x==0, 1 if x > 0.\n",
    "## Then we create a diagonal matrix with diagonal elements equals to the element \n",
    "## returned by the np.sign. Lastly, we compute np.dot to change the sign\n",
    "## and make comparison. In the end, we will have the same sign in all the matrices.\n",
    "\n",
    "# Here we scale the R matrix where the QR has been used on the matrix with the new point already inserted\n",
    "D6 = np.sign(np.diag(Rbt_6)) \n",
    "Rbt_6 = np.dot(np.diag(D6), Rbt_6) \n",
    "\n",
    "# Here we scale the R matrix where the QR has been used on the original matrix \n",
    "# and then updated with the givens rotation for the new data point\n",
    "D = np.sign(np.diag(Rbt))\n",
    "Rbt = np.dot(np.diag(D) , Rbt)\n",
    "\n",
    "# Here we scale the R matrix where the new point is inserted using the qr_insert method \n",
    "Df6 = np.sign(np.diag(Rf6)) \n",
    "Rft_6 = np.dot(np.diag(Df6), Rf6)\n",
    "\n",
    "Qyest_6 = np.dot(np.diag(D6), Qyest_6)\n",
    "Qyest = np.dot( np.diag(D), Qyest)\n",
    "\n",
    "print('Comparison of the two factorization = ', np.linalg.norm(Rbt_6-Rbt,np.Inf))\n",
    "print('Comparison of the two factorization = ', np.linalg.norm(Rbt_6-Rft_6,np.Inf ))\n",
    "print('Comparison of the known term = ', np.linalg.norm(Qyest_6-Qyest))"
   ],
   "metadata": {
    "collapsed": false,
    "ExecuteTime": {
     "end_time": "2024-02-12T19:25:02.293633900Z",
     "start_time": "2024-02-12T19:25:01.725656200Z"
    }
   },
   "execution_count": 14
  },
  {
   "cell_type": "markdown",
   "source": [
    "## Least-square solution with scipy\n",
    "lapack_driver = 'gelsd', 'gelsy', 'gelss'\n",
    "1) <b>gelsd</b> stands for the Divide-and-Conquer Singular Value Decomposition (SVD) method: https://www.netlib.org/lapack/explore-html/d9/d67/group__gelsd.html\n",
    "2) <b>gelsy</b> compute QR factorization with column pivoting: https://www.netlib.org/lapack/explore-html/dc/d8b/group__gelsy.html\n",
    "3) <b>gelss</b> stands for the Least Squares via Singular Value Decomposition with Full Rank Triangular Factorization.\n",
    "This method also employs singular value decomposition, but it uses a QR factorization with column pivoting and a special treatment of the singular values.https://www.netlib.org/lapack/explore-html/da/d55/group__gelss.html "
   ],
   "metadata": {
    "collapsed": false
   }
  },
  {
   "cell_type": "code",
   "execution_count": 15,
   "metadata": {
    "ExecuteTime": {
     "end_time": "2024-02-12T19:25:02.809613900Z",
     "start_time": "2024-02-12T19:25:02.297632600Z"
    }
   },
   "outputs": [
    {
     "name": "stdout",
     "output_type": "stream",
     "text": [
      "beta: [-0.04674372  0.37572645 -1.06865916  1.2389301   0.04592347]\n",
      "residuals: 0.0033795680432563984\n",
      "rank: 5\n",
      "singular values: [1.82696080e+02 1.15074310e+01 2.73842395e+00 4.90013740e-01\n",
      " 4.40419697e-02]\n"
     ]
    }
   ],
   "source": [
    "betaS, residualsS, rankS, svS = las.lstsq(A, yest) # Default lapack_driver='gelsd'\n",
    "print ('beta:', betaS)\n",
    "print ('residuals:', residualsS)\n",
    "print ('rank:', rankS)\n",
    "print ('singular values:', svS)"
   ]
  },
  {
   "cell_type": "markdown",
   "source": [
    "## Least square solution with pytorch\n",
    "An open source machine learning framework that accelerates the path from research prototyping to production deployment. \n",
    "In this case driver chooses the LAPACK/MAGMA function that will be used. For CPU inputs the valid values are ‘gels’, ‘gelsy’, ‘gelsd', ‘gelss’. For CUDA input, the only valid driver is ‘gels’, which assumes that A is full-rank. https://pytorch.org/docs/stable/generated/torch.linalg.lstsq.html#torch.linalg.lstsq. <br>\n",
    "If A is well-conditioned (its condition number is not too large), or you do not mind some precision loss:\n",
    "* ‘gelsy’ for a general matrix (QR with pivoting) (default)\n",
    "* ‘gels’ if A is full-rank (QR)\n",
    "\n",
    "If A is not well-conditioned:\n",
    "* ‘gelsd’ (tridiagonal reduction and SVD)\n",
    "* ‘gelss’ if you run into memory issues full SVD)."
   ],
   "metadata": {
    "collapsed": false
   }
  },
  {
   "cell_type": "code",
   "execution_count": 16,
   "metadata": {
    "ExecuteTime": {
     "end_time": "2024-02-12T19:25:04.524128300Z",
     "start_time": "2024-02-12T19:25:02.795625300Z"
    }
   },
   "outputs": [
    {
     "name": "stdout",
     "output_type": "stream",
     "text": [
      "solution: tensor([-0.0467,  0.3757, -1.0687,  1.2389,  0.0459], dtype=torch.float64)\n",
      "residuals between pytorch method and QR factorization:\n",
      " tensor([-6.9389e-16,  4.7184e-15, -1.1102e-14,  1.0880e-14, -3.9482e-15],\n",
      "       dtype=torch.float64)\n",
      "rank: tensor(5)\n",
      "residuals: tensor([], dtype=torch.float64)\n",
      "singular values: tensor([], dtype=torch.float64)\n"
     ]
    }
   ],
   "source": [
    "# We define matrix / vector in torch called 'tensor', we can also specify the\n",
    "# type. In this case we use the float64 bit to compare with scipy which use the 64bit.\n",
    "AT = torch.tensor(A, dtype=torch.float64) \n",
    "bT = torch.tensor(yest, dtype=torch.float64)\n",
    "\n",
    "X = torch.linalg.lstsq(AT, bT)\n",
    "print('solution:',X.solution)\n",
    "print('residuals between pytorch method and QR factorization:\\n',torch.tensor(p)-X.solution)\n",
    "print('rank:',X.rank)\n",
    "print('residuals:',X.residuals)\n",
    "print('singular values:', X.singular_values)"
   ]
  },
  {
   "cell_type": "markdown",
   "source": [
    "## Least square solution with tensorflow\n",
    "https://www.tensorflow.org/api_docs/python/tf/linalg/lstsq"
   ],
   "metadata": {
    "collapsed": false
   }
  },
  {
   "cell_type": "code",
   "outputs": [
    {
     "name": "stdout",
     "output_type": "stream",
     "text": [
      "Coefficients:\n",
      " tf.Tensor(\n",
      "[[-0.04674372]\n",
      " [ 0.37572645]\n",
      " [-1.06865916]\n",
      " [ 1.2389301 ]\n",
      " [ 0.04592347]], shape=(5, 1), dtype=float64)\n",
      "tf.linalg.adjoint(XTF)-tf.constant(p)\n",
      ":  tf.Tensor(\n",
      "[[-3.32255751e-12  2.36037301e-11 -5.81688031e-11  5.76163561e-11\n",
      "  -1.87916835e-11]], shape=(1, 5), dtype=float64)\n"
     ]
    }
   ],
   "source": [
    "yest=yest.reshape(30,1)\n",
    "ATF = tf.constant(A,dtype=tf.float64) # Creates a constant tensor from a tensor-like object.\n",
    "bTF = tf.constant(yest,dtype=tf.float64)\n",
    "XTF = tf.linalg.lstsq(ATF, bTF) # Solve the least-squares problem\n",
    "print('Coefficients:\\n',XTF)\n",
    "print('tf.linalg.adjoint(XTF)-tf.constant(p)\\n: ',tf.linalg.adjoint(XTF)-tf.constant(p))"
   ],
   "metadata": {
    "ExecuteTime": {
     "end_time": "2024-02-12T19:25:06.180074400Z",
     "start_time": "2024-02-12T19:25:04.525126400Z"
    }
   },
   "execution_count": 17
  },
  {
   "cell_type": "markdown",
   "metadata": {},
   "source": [
    "## Conditioning of least squares problems"
   ]
  },
  {
   "cell_type": "markdown",
   "source": [
    "### Compare the conditioning of the matrix $A$ and $A^TA$"
   ],
   "metadata": {
    "collapsed": false
   }
  },
  {
   "cell_type": "code",
   "execution_count": 18,
   "metadata": {
    "tags": [],
    "ExecuteTime": {
     "end_time": "2024-02-12T19:25:06.183073400Z",
     "start_time": "2024-02-12T19:25:06.153090200Z"
    }
   },
   "outputs": [
    {
     "name": "stdout",
     "output_type": "stream",
     "text": [
      "Matrix A:\n",
      " [[1.0e+00 1.0e+03]\n",
      " [9.9e-04 1.0e+00]]\n"
     ]
    }
   ],
   "source": [
    "A = np.array([(1, 1000), (0.00099, 1)])\n",
    "print('Matrix A:\\n',A)"
   ]
  },
  {
   "cell_type": "code",
   "execution_count": 19,
   "metadata": {
    "tags": [],
    "ExecuteTime": {
     "end_time": "2024-02-12T19:25:06.468907300Z",
     "start_time": "2024-02-12T19:25:06.168082200Z"
    }
   },
   "outputs": [
    {
     "name": "stdout",
     "output_type": "stream",
     "text": [
      "Condition number of  A: 100000200.00009844\n",
      "Condition number of  A^T*A: 1.0011603907636136e+16\n",
      "We can check that the condition number of A^T*A is square respect to the condition number of A.\n",
      "If we solve the system with A^T*A maybe we won't have significant digits. \n",
      "If we are able to solve using A we will have at least 7/8 significant digits.\n"
     ]
    }
   ],
   "source": [
    "# condition number of A and A^T*A\n",
    "ATA = A.T.dot(A)\n",
    "print ('Condition number of  A:', np.linalg.cond(A))\n",
    "print ('Condition number of  A^T*A:', np.linalg.cond(ATA))\n",
    "print('We can check that the condition number of A^T*A is square respect to the condition number of A.\\n'\n",
    "      'If we solve the system with A^T*A maybe we won\\'t have significant digits. \\n'\n",
    "      'If we are able to solve using A we will have at least 7/8 significant digits.')"
   ]
  },
  {
   "cell_type": "markdown",
   "source": [
    "### Comparison of conditioning with two collinear predictors "
   ],
   "metadata": {
    "collapsed": false
   }
  },
  {
   "cell_type": "code",
   "execution_count": 20,
   "metadata": {
    "tags": [],
    "ExecuteTime": {
     "end_time": "2024-02-12T19:25:06.610059400Z",
     "start_time": "2024-02-12T19:25:06.470909100Z"
    }
   },
   "outputs": [
    {
     "name": "stdout",
     "output_type": "stream",
     "text": [
      "Condition number of A^T*A  for the simulating data : 1.5955185829106714e+16\n",
      "Condition number of A for the simulating data : 29016835274.59291\n"
     ]
    }
   ],
   "source": [
    "tmp = np.arange(100)\n",
    "A = np.zeros((100, 2))\n",
    "A[:, 0] = tmp + np.random.rand(100) * 0.00000001\n",
    "A[:, 1] = tmp + np.random.rand(100) * 0.00000001\n",
    "ATA = A.T.dot(A)\n",
    "print ('Condition number of A^T*A  for the simulating data :', np.linalg.cond(ATA))\n",
    "print ('Condition number of A for the simulating data :',np.linalg.cond(A))"
   ]
  },
  {
   "cell_type": "markdown",
   "source": [
    "### Example: matrix B with one column almost linear combination of the column of A (where the third column has general noise)"
   ],
   "metadata": {
    "collapsed": false
   }
  },
  {
   "cell_type": "code",
   "outputs": [
    {
     "name": "stdout",
     "output_type": "stream",
     "text": [
      "Matrix B:\n",
      " [[1.         0.         1.        ]\n",
      " [1.         1.         1.49999994]\n",
      " [1.         1.         1.50000006]]\n"
     ]
    }
   ],
   "source": [
    "A=np.array([[1, 0],[1, 1],[1, 1]])\n",
    "B=np.zeros((3,3))\n",
    "B[:,0:2]=A\n",
    "B[:,2:3]= np.dot(A, np.array([[1],[0.5]]))+1e-7*np.random.randn(3,1)\n",
    "\n",
    "print('Matrix B:\\n',B)"
   ],
   "metadata": {
    "tags": [],
    "ExecuteTime": {
     "end_time": "2024-02-12T19:25:06.768804300Z",
     "start_time": "2024-02-12T19:25:06.611059400Z"
    }
   },
   "execution_count": 21
  },
  {
   "cell_type": "code",
   "execution_count": 22,
   "metadata": {
    "tags": [],
    "ExecuteTime": {
     "end_time": "2024-02-12T19:25:06.924313200Z",
     "start_time": "2024-02-12T19:25:06.773804Z"
    }
   },
   "outputs": [
    {
     "name": "stdout",
     "output_type": "stream",
     "text": [
      "solution of the square linear system:\n",
      " [[11.28982554]\n",
      " [ 6.14491437]\n",
      " [-9.28982617]]\n",
      "\n",
      "residual 2.0376207893330041e-16\n",
      "condition number of B: 58454260.02772102\n",
      "the error is bounded by 2.2310897797098232e-09\n",
      "\n",
      "we can check that the results is wrong but the residuals is very small. \n",
      "This because we are computing the exactly solution since the matrix is non singular.\n",
      "The problem is that the matrix is non singular since we add noise.\n",
      "So, the noise is detected more than the original structure of the matrix.\n"
     ]
    }
   ],
   "source": [
    "# we introduce a random error, and we compute b as B times a vector of all 1 + an error\n",
    "xt = np.array([[1],[1],[1]]) \n",
    "b=np.dot(B,xt)+1e-6*np.random.randn(3,1)\n",
    "\n",
    "x = las.solve(B, b) # the matrix is non-singular so we can solve the system \n",
    "print('solution of the square linear system:\\n', x)\n",
    "\n",
    "resn = np.linalg.norm(B.dot(x)-b,2)/np.linalg.norm(b,2) \n",
    "print('\\nresidual',resn)\n",
    "\n",
    "condB= np.linalg.cond(B) \n",
    "print('condition number of B:',condB )\n",
    "\n",
    "# the error is bounded by\n",
    "print('the error is bounded by', condB*resn/np.linalg.norm(b))\n",
    "\n",
    "print('\\nwe can check that the results is wrong but the residuals is very small. \\n'\n",
    "      'This because we are computing the exactly solution since the matrix is non singular.'\n",
    "      '\\nThe problem is that the matrix is non singular since we add noise.'\n",
    "      '\\nSo, the noise is detected more than the original structure of the matrix.')"
   ]
  },
  {
   "cell_type": "markdown",
   "source": [
    "If we try to solve this problem using the SVD, nothing change. We obtain exactly the same results because the matrix is non-singular. So, exists only one solution. Since we have applied the SVD we can check the singular values.\n",
    "Check that the third singular value makes the matrix non-singular, but it is very small respect to the first two.\n",
    "So, the first two components are related to the original matrix. We can approximate the matrix using only the first two components. In that case the matrix won't be non-singular, and so the solution will be given by the minimum norm solution."
   ],
   "metadata": {
    "collapsed": false
   }
  },
  {
   "cell_type": "code",
   "execution_count": 23,
   "metadata": {
    "tags": [],
    "ExecuteTime": {
     "end_time": "2024-02-12T19:25:07.080710600Z",
     "start_time": "2024-02-12T19:25:06.928311300Z"
    }
   },
   "outputs": [
    {
     "name": "stdout",
     "output_type": "stream",
     "text": [
      "beta:\n",
      "[[11.28982555]\n",
      " [ 6.14491437]\n",
      " [-9.28982618]]\n",
      "residuals: []\n",
      "rank: 3\n",
      "singular values: [3.17054304e+00 6.69071612e-01 5.42397259e-08]\n"
     ]
    }
   ],
   "source": [
    "betaS, residualsS, rankS, svS = las.lstsq(B, b,lapack_driver='gelsd')\n",
    "print ( 'beta:')\n",
    "print(betaS)\n",
    "print ('residuals:', residualsS)\n",
    "print ('rank:', rankS)\n",
    "print ('singular values:', svS)"
   ]
  },
  {
   "cell_type": "markdown",
   "source": [
    "Also using pytorch, we obtain exactly the same results and singular values."
   ],
   "metadata": {
    "collapsed": false
   }
  },
  {
   "cell_type": "code",
   "execution_count": 24,
   "metadata": {
    "ExecuteTime": {
     "end_time": "2024-02-12T19:25:07.453615200Z",
     "start_time": "2024-02-12T19:25:07.082729Z"
    }
   },
   "outputs": [
    {
     "name": "stdout",
     "output_type": "stream",
     "text": [
      "torch.Size([3, 3])\n",
      "tensor([[11.2898],\n",
      "        [ 6.1449],\n",
      "        [-9.2898]], dtype=torch.float64)\n",
      "tensor(3)\n",
      "tensor([], dtype=torch.float64)\n",
      "tensor([3.1705e+00, 6.6907e-01, 5.4240e-08], dtype=torch.float64)\n"
     ]
    }
   ],
   "source": [
    "BT = torch.tensor(B,dtype=torch.float64)\n",
    "bT = torch.tensor(b,dtype=torch.float64)\n",
    "print(BT.shape)\n",
    "Xb = torch.linalg.lstsq(BT, bT,driver='gelsd')\n",
    "print(Xb.solution)\n",
    "print(Xb.rank)\n",
    "print(Xb.residuals)\n",
    "print(Xb.singular_values)"
   ]
  },
  {
   "cell_type": "markdown",
   "source": [
    "Since we know that only the first two singular values are big and the last is very small and related to the noise, we compute the SVD. Then, we take only the first two singular values and we compute an approximate solution. The numerical rank could be considered as two. Since we know the Eckart-Young theorem, we know also the residuals which is exactly equal to $\\sigma_{k+1}$. In this case equal to the third singualar value."
   ],
   "metadata": {
    "collapsed": false
   }
  },
  {
   "cell_type": "code",
   "execution_count": 25,
   "metadata": {
    "tags": [],
    "ExecuteTime": {
     "end_time": "2024-02-12T19:25:07.489594300Z",
     "start_time": "2024-02-12T19:25:07.454615300Z"
    }
   },
   "outputs": [
    {
     "name": "stdout",
     "output_type": "stream",
     "text": [
      "approximated solution:\n",
      " [[0.77777718]\n",
      " [0.88889013]\n",
      " [1.22222224]]\n",
      "residuals:  1.6020409531742464e-07\n"
     ]
    }
   ],
   "source": [
    "U, s, V = np.linalg.svd(B, full_matrices=False)\n",
    "\n",
    "# Solution computed with the pseudo-inverse of the matrix A_2\n",
    "xT = np.dot(V[0:2,:].T,(np.dot( b.T, U[:,0:2])/s[0:2]).T) \n",
    "\n",
    "# the residual is small,has the same order of the error in the data, the data have a better meaning\n",
    "resn = np.linalg.norm(B.dot(xT)-b,2)/np.linalg.norm(b,2) \n",
    "print('approximated solution:\\n', xT)\n",
    "print('residuals: ', resn)"
   ]
  }
 ],
 "metadata": {
  "kernelspec": {
   "display_name": "Python 3 (ipykernel)",
   "language": "python",
   "name": "python3"
  },
  "language_info": {
   "codemirror_mode": {
    "name": "ipython",
    "version": 3
   },
   "file_extension": ".py",
   "mimetype": "text/x-python",
   "name": "python",
   "nbconvert_exporter": "python",
   "pygments_lexer": "ipython3",
   "version": "3.8.8"
  },
  "vscode": {
   "interpreter": {
    "hash": "43a926e0604d0ceade578535214cf82cece3fdeaebd110f5fd1212ea96e5f67b"
   }
  }
 },
 "nbformat": 4,
 "nbformat_minor": 4
}
