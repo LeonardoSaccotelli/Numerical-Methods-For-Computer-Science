{
 "nbformat": 4,
 "nbformat_minor": 0,
 "metadata": {
  "colab": {
   "provenance": [],
   "toc_visible": true,
   "authorship_tag": "ABX9TyOs8PJ3bmDPweqSBOFbcAUy"
  },
  "kernelspec": {
   "name": "python3",
   "language": "python",
   "display_name": "Python 3 (ipykernel)"
  },
  "language_info": {
   "name": "python"
  }
 },
 "cells": [
  {
   "cell_type": "markdown",
   "source": [
    "# Matrix Product with Applications\n",
    "\n",
    "---\n",
    "This notebook introduces how to compute the matrix product (dot product). Then, we will show that, in general, the dot product is not commutative. In addition, we will compare the time required to compute the matrix product (and retrieve a single row or column), with respect the time required to compute only that specific row or column. Lastly, we will show an application of the matrix product related to the connectivity matrix and how to find a path between different points."
   ],
   "metadata": {
    "id": "SijnsFfrci7R"
   }
  },
  {
   "cell_type": "markdown",
   "source": [
    "## Import libraries"
   ],
   "metadata": {
    "id": "pV75GuuLcwi0"
   }
  },
  {
   "cell_type": "code",
   "source": [
    "import numpy as np\n",
    "import time\n",
    "import networkx as nx"
   ],
   "metadata": {
    "id": "ZoCJTugnhZWY",
    "executionInfo": {
     "status": "ok",
     "timestamp": 1694009544758,
     "user_tz": -120,
     "elapsed": 17,
     "user": {
      "displayName": "Leonardo Saccotelli",
      "userId": "14676426566890310018"
     }
    },
    "ExecuteTime": {
     "end_time": "2023-10-05T09:41:04.844153700Z",
     "start_time": "2023-10-05T09:41:02.719952700Z"
    }
   },
   "execution_count": 1,
   "outputs": []
  },
  {
   "cell_type": "markdown",
   "source": [
    "## Matrix product"
   ],
   "metadata": {
    "id": "GZrkCY-kc70I"
   }
  },
  {
   "cell_type": "markdown",
   "source": [
    "### Function to compute the matrix product, if it is possible.\n",
    "* INPUT\n",
    "  * **A**: matrix\n",
    "  * **B**: matrix\n",
    "* OUTPUT\n",
    "  * **np.dot(A,B)**: if can be computed, or None if not"
   ],
   "metadata": {
    "id": "hDpYh2J9QjM1"
   }
  },
  {
   "cell_type": "code",
   "source": [
    "def check_compute_matrix_product(A, B):\n",
    "  return np.dot(A, B) if A.shape[1] == B.shape[0] else None"
   ],
   "metadata": {
    "id": "I4g3ndAP75sC",
    "executionInfo": {
     "status": "ok",
     "timestamp": 1694009544758,
     "user_tz": -120,
     "elapsed": 16,
     "user": {
      "displayName": "Leonardo Saccotelli",
      "userId": "14676426566890310018"
     }
    },
    "ExecuteTime": {
     "end_time": "2023-10-05T09:41:04.846157500Z",
     "start_time": "2023-10-05T09:41:04.687635700Z"
    }
   },
   "execution_count": 2,
   "outputs": []
  },
  {
   "cell_type": "markdown",
   "source": [
    "#### Compute the matrix product between two matrices using *np.dot*: $A^{3\\times3}B^{3\\times4} = C^{3\\times4}$"
   ],
   "metadata": {
    "id": "WIQ_tY4j3on0"
   }
  },
  {
   "cell_type": "code",
   "source": [
    "A = np.random.randint(10,size=(3,3))\n",
    "B = np.random.randint(10,size=(3,4))\n",
    "C = check_compute_matrix_product(A, B)\n",
    "print(\"The matrix A has size {} and the following element:\\n{} \".format(A.shape, A))\n",
    "print(\"\\nThe matrix B has size {} and the following element:\\n{} \".format(B.shape, B))\n",
    "print(\"\\nThe matrix C = A*B has size {} and the following element:\\n{} \".format(C.shape, C)) if C is not None \\\n",
    " else print(\"\\nThe matrix A and B are not suitable to compute the matrix product A*B.\")"
   ],
   "metadata": {
    "colab": {
     "base_uri": "https://localhost:8080/"
    },
    "id": "7OAAPjUZ3fFm",
    "executionInfo": {
     "status": "ok",
     "timestamp": 1694009544758,
     "user_tz": -120,
     "elapsed": 16,
     "user": {
      "displayName": "Leonardo Saccotelli",
      "userId": "14676426566890310018"
     }
    },
    "outputId": "171a6f06-0c97-4e47-fc2f-2d19498d9f98",
    "ExecuteTime": {
     "end_time": "2023-10-05T09:41:04.847156200Z",
     "start_time": "2023-10-05T09:41:04.703624800Z"
    }
   },
   "execution_count": 3,
   "outputs": [
    {
     "name": "stdout",
     "output_type": "stream",
     "text": [
      "The matrix A has size (3, 3) and the following element:\n",
      "[[8 7 7]\n",
      " [4 2 7]\n",
      " [0 9 3]] \n",
      "\n",
      "The matrix B has size (3, 4) and the following element:\n",
      "[[9 2 9 4]\n",
      " [3 8 4 1]\n",
      " [9 4 5 3]] \n",
      "\n",
      "The matrix C = A*B has size (3, 4) and the following element:\n",
      "[[156 100 135  60]\n",
      " [105  52  79  39]\n",
      " [ 54  84  51  18]] \n"
     ]
    }
   ]
  },
  {
   "cell_type": "markdown",
   "source": [
    "#### Check that the matrix product is, in general, not commutative (if it cab be computed): $AB \\neq BA$"
   ],
   "metadata": {
    "id": "JAV59El77PwP"
   }
  },
  {
   "cell_type": "code",
   "source": [
    "A = np.random.randint(10,size=(3,3))\n",
    "B = np.random.randint(10,size=(3,3))\n",
    "AB = check_compute_matrix_product(A, B)\n",
    "BA = check_compute_matrix_product(B, A)\n",
    "print(\"The matrix A has size {} and the following element:\\n{} \".format(A.shape, A))\n",
    "print(\"\\nThe matrix B has size {} and the following element:\\n{} \".format(B.shape, B))\n",
    "print(\"\\nThe matrix AB = A*B has size {} and the following element:\\n{} \".format(AB.shape, AB)) if AB is not None \\\n",
    " else print(\"\\nThe matrix A and B are not suitable to compute the matrix product A*B.\")\n",
    "print(\"\\nThe matrix BA = B*A has size {} and the following element:\\n{} \".format(BA.shape, BA)) if BA is not None \\\n",
    " else print(\"\\nThe matrix A and B are not suitable to compute the matrix product B*A.\")"
   ],
   "metadata": {
    "colab": {
     "base_uri": "https://localhost:8080/"
    },
    "id": "SB5PGx1F8LFN",
    "executionInfo": {
     "status": "ok",
     "timestamp": 1694009544759,
     "user_tz": -120,
     "elapsed": 14,
     "user": {
      "displayName": "Leonardo Saccotelli",
      "userId": "14676426566890310018"
     }
    },
    "outputId": "bf69ad8b-848b-473e-e80d-9e55ad403425",
    "ExecuteTime": {
     "end_time": "2023-10-05T09:41:04.960133100Z",
     "start_time": "2023-10-05T09:41:04.812564200Z"
    }
   },
   "execution_count": 4,
   "outputs": [
    {
     "name": "stdout",
     "output_type": "stream",
     "text": [
      "The matrix A has size (3, 3) and the following element:\n",
      "[[0 3 9]\n",
      " [3 5 8]\n",
      " [7 6 8]] \n",
      "\n",
      "The matrix B has size (3, 3) and the following element:\n",
      "[[1 4 9]\n",
      " [5 9 1]\n",
      " [5 0 6]] \n",
      "\n",
      "The matrix AB = A*B has size (3, 3) and the following element:\n",
      "[[ 60  27  57]\n",
      " [ 68  57  80]\n",
      " [ 77  82 117]] \n",
      "\n",
      "The matrix BA = B*A has size (3, 3) and the following element:\n",
      "[[ 75  77 113]\n",
      " [ 34  66 125]\n",
      " [ 42  51  93]] \n"
     ]
    }
   ]
  },
  {
   "cell_type": "markdown",
   "source": [
    "#### Check that $(A\\times B)^T = B^T \\times A^T$"
   ],
   "metadata": {
    "id": "UXs01aZTzS5L"
   }
  },
  {
   "cell_type": "code",
   "source": [
    "A = np.random.randint(10,size=(3, 4))\n",
    "B = np.random.randint(10,size=(4, 5))\n",
    "print(\"The matrix A has size {} and the following element:\\n{} \".format(A.shape, A))\n",
    "print(\"\\nThe matrix B has size {} and the following element:\\n{} \".format(B.shape, B))\n",
    "\n",
    "AB = check_compute_matrix_product(A, B)\n",
    "print(\"\\nThe matrix AB = A*B has size {} and the following element:\\n{} \".format(AB.shape, AB)) if AB is not None \\\n",
    " else print(\"\\nThe matrix A and B are not suitable to compute the matrix product A*B.\")\n",
    "print(\"\\nThe matrix transpose(AB) has size {} and the following element:\\n{} \".format(AB.T.shape, AB.T)) if AB is not None \\\n",
    " else print(\"\\nThe matrix A and B are not suitable to compute the matrix product .\")\n",
    "\n",
    "A_t = A.T\n",
    "B_t = B.T\n",
    "BA_t = check_compute_matrix_product(B_t, A_t)\n",
    "print(\"\\nThe matrix BA_t = transpose(B)*transpose(A) has size {} and the following element:\\n{} \".format(BA_t.shape, BA_t)) if BA_t is not None \\\n",
    " else print(\"\\nThe matrix A and B are not suitable to compute the matrix product A*B.\")"
   ],
   "metadata": {
    "colab": {
     "base_uri": "https://localhost:8080/"
    },
    "id": "XowCP7rwzqoo",
    "executionInfo": {
     "status": "ok",
     "timestamp": 1694009544759,
     "user_tz": -120,
     "elapsed": 10,
     "user": {
      "displayName": "Leonardo Saccotelli",
      "userId": "14676426566890310018"
     }
    },
    "outputId": "b019856c-3429-4bab-d99a-c536845c8089",
    "ExecuteTime": {
     "end_time": "2023-10-05T09:41:05.099049100Z",
     "start_time": "2023-10-05T09:41:04.927152900Z"
    }
   },
   "execution_count": 5,
   "outputs": [
    {
     "name": "stdout",
     "output_type": "stream",
     "text": [
      "The matrix A has size (3, 4) and the following element:\n",
      "[[0 9 5 5]\n",
      " [9 4 4 8]\n",
      " [6 7 0 4]] \n",
      "\n",
      "The matrix B has size (4, 5) and the following element:\n",
      "[[2 9 1 6 1]\n",
      " [9 0 4 4 9]\n",
      " [9 7 2 1 0]\n",
      " [0 3 5 1 4]] \n",
      "\n",
      "The matrix AB = A*B has size (3, 5) and the following element:\n",
      "[[126  50  71  46 101]\n",
      " [ 90 133  73  82  77]\n",
      " [ 75  66  54  68  85]] \n",
      "\n",
      "The matrix transpose(AB) has size (5, 3) and the following element:\n",
      "[[126  90  75]\n",
      " [ 50 133  66]\n",
      " [ 71  73  54]\n",
      " [ 46  82  68]\n",
      " [101  77  85]] \n",
      "\n",
      "The matrix BA_t = transpose(B)*transpose(A) has size (5, 3) and the following element:\n",
      "[[126  90  75]\n",
      " [ 50 133  66]\n",
      " [ 71  73  54]\n",
      " [ 46  82  68]\n",
      " [101  77  85]] \n"
     ]
    }
   ]
  },
  {
   "cell_type": "markdown",
   "source": [
    "### Compute the rows or columns of the matrix product\n",
    "In general, if we want to find a specific row $i$ or column $j$ of a matrices product, firstly, we compute $A\\times B$ and then we extract the row $i$ or column $j$. We can do it in a faster way, as follow:\n",
    "  * The $i^{th}$ row of $AB = [AB]_{i,*} = A_{i,*} \\times B$\n",
    "  * The $j^{th}$ col of $AB = [AB]_{*,j} = A \\times B_{*,j}$\n",
    "\n",
    "Now, given a large matrices, we want to compute the computational times required to compute the matrix product and to extract a row/column, with respect to the time required to compute directly that specific row/column."
   ],
   "metadata": {
    "id": "9bBrDi4o8uwo"
   }
  },
  {
   "cell_type": "code",
   "source": [
    "A = np.random.randint(10,size=(5000,1000))\n",
    "B = np.random.randint(10,size=(1000,5000))\n",
    "print(\"The matrix A has size {}\".format(A.shape))\n",
    "print(\"The matrix B has size {}\".format(B.shape))"
   ],
   "metadata": {
    "colab": {
     "base_uri": "https://localhost:8080/"
    },
    "id": "_LyRDBxy-yXv",
    "executionInfo": {
     "status": "ok",
     "timestamp": 1694009545159,
     "user_tz": -120,
     "elapsed": 407,
     "user": {
      "displayName": "Leonardo Saccotelli",
      "userId": "14676426566890310018"
     }
    },
    "outputId": "da2d530f-107a-456a-9a15-4c2f624752a5",
    "ExecuteTime": {
     "end_time": "2023-10-05T09:41:05.359900500Z",
     "start_time": "2023-10-05T09:41:05.030092600Z"
    }
   },
   "execution_count": 6,
   "outputs": [
    {
     "name": "stdout",
     "output_type": "stream",
     "text": [
      "The matrix A has size (5000, 1000)\n",
      "The matrix B has size (1000, 5000)\n"
     ]
    }
   ]
  },
  {
   "cell_type": "markdown",
   "source": [
    "#### Comparison of computational time required to compute the $3200^{th}$ row of $AB = [AB]_{3200,*} = A_{3200,*} \\times B$"
   ],
   "metadata": {
    "id": "ApDmWM9HEzpz"
   }
  },
  {
   "cell_type": "code",
   "source": [
    "t0 = time.process_time()\n",
    "C = np.dot(A,B)\n",
    "ci = C[3200,:]\n",
    "t1 = time.process_time() - t0\n",
    "print(\"Time required to compute the complete matrix product A*B and to \"+\n",
    "      \"retrieve the row in position 3200: {}.\".format(t1))"
   ],
   "metadata": {
    "colab": {
     "base_uri": "https://localhost:8080/"
    },
    "id": "T4onkk70Al3L",
    "executionInfo": {
     "status": "ok",
     "timestamp": 1694009618670,
     "user_tz": -120,
     "elapsed": 73513,
     "user": {
      "displayName": "Leonardo Saccotelli",
      "userId": "14676426566890310018"
     }
    },
    "outputId": "8570fe96-129e-41d0-c03e-daf85b6dbaaa",
    "ExecuteTime": {
     "end_time": "2023-10-05T09:42:53.217300400Z",
     "start_time": "2023-10-05T09:41:05.349912100Z"
    }
   },
   "execution_count": 7,
   "outputs": [
    {
     "name": "stdout",
     "output_type": "stream",
     "text": [
      "Time required to compute the complete matrix product A*B and to retrieve the row in position 3200: 105.296875.\n"
     ]
    }
   ]
  },
  {
   "cell_type": "code",
   "source": [
    "t0 = time.process_time()\n",
    "cii = np.dot(A[3200,:],B)\n",
    "t1 = time.process_time() - t0\n",
    "print(\"Time required to compute directly the row in position 3200 of matrix A*B: {}.\".format(t1))"
   ],
   "metadata": {
    "colab": {
     "base_uri": "https://localhost:8080/"
    },
    "id": "4E32IiWzChJr",
    "executionInfo": {
     "status": "ok",
     "timestamp": 1694009618671,
     "user_tz": -120,
     "elapsed": 36,
     "user": {
      "displayName": "Leonardo Saccotelli",
      "userId": "14676426566890310018"
     }
    },
    "outputId": "7a526df6-c03a-42df-b1be-9e5610a57742",
    "ExecuteTime": {
     "end_time": "2023-10-05T09:42:53.313202300Z",
     "start_time": "2023-10-05T09:42:53.203292600Z"
    }
   },
   "execution_count": 8,
   "outputs": [
    {
     "name": "stdout",
     "output_type": "stream",
     "text": [
      "Time required to compute directly the row in position 3200 of matrix A*B: 0.03125.\n"
     ]
    }
   ]
  },
  {
   "cell_type": "code",
   "source": [
    "print(\"Check that we extract the same 3200 row of A*B: {}\".format(np.sum(ci-cii)))"
   ],
   "metadata": {
    "colab": {
     "base_uri": "https://localhost:8080/"
    },
    "id": "BWwW7Gd8FsUt",
    "executionInfo": {
     "status": "ok",
     "timestamp": 1694009618671,
     "user_tz": -120,
     "elapsed": 29,
     "user": {
      "displayName": "Leonardo Saccotelli",
      "userId": "14676426566890310018"
     }
    },
    "outputId": "ec2ebd95-e4b7-4a1d-bb42-1bfb54f504b5",
    "ExecuteTime": {
     "end_time": "2023-10-05T09:42:53.472608400Z",
     "start_time": "2023-10-05T09:42:53.260290600Z"
    }
   },
   "execution_count": 9,
   "outputs": [
    {
     "name": "stdout",
     "output_type": "stream",
     "text": [
      "Check that we extract the same 3200 row of A*B: 0\n"
     ]
    }
   ]
  },
  {
   "cell_type": "markdown",
   "source": [
    "#### Comparison of computational time required to compute the $256^{th}$ column of $AB = [AB]_{*,256} = A \\times B_{*,256}$"
   ],
   "metadata": {
    "id": "0S3yhognFHv-"
   }
  },
  {
   "cell_type": "code",
   "source": [
    "t0 = time.process_time()\n",
    "C = np.dot(A,B)\n",
    "cj = C[:,256]\n",
    "t1 = time.process_time() - t0\n",
    "print(\"Time required to compute the complete matrix product A*B and to \"+\n",
    "      \"retrieve the column in position 256: {}.\".format(t1))"
   ],
   "metadata": {
    "colab": {
     "base_uri": "https://localhost:8080/"
    },
    "executionInfo": {
     "status": "ok",
     "timestamp": 1694009692238,
     "user_tz": -120,
     "elapsed": 73593,
     "user": {
      "displayName": "Leonardo Saccotelli",
      "userId": "14676426566890310018"
     }
    },
    "outputId": "2542e610-9348-48fd-dd81-ac8dfa11337f",
    "id": "9NLiFmgjFjcZ",
    "ExecuteTime": {
     "end_time": "2023-10-05T09:44:35.707981900Z",
     "start_time": "2023-10-05T09:42:53.445628500Z"
    }
   },
   "execution_count": 10,
   "outputs": [
    {
     "name": "stdout",
     "output_type": "stream",
     "text": [
      "Time required to compute the complete matrix product A*B and to retrieve the column in position 256: 98.765625.\n"
     ]
    }
   ]
  },
  {
   "cell_type": "code",
   "source": [
    "t0 = time.process_time()\n",
    "cjj = np.dot(A, B[:, 256])\n",
    "t1 = time.process_time() - t0\n",
    "print(\"Time required to compute directly the column in position 256 of matrix A*B: {}.\".format(t1))"
   ],
   "metadata": {
    "colab": {
     "base_uri": "https://localhost:8080/"
    },
    "executionInfo": {
     "status": "ok",
     "timestamp": 1694009692238,
     "user_tz": -120,
     "elapsed": 20,
     "user": {
      "displayName": "Leonardo Saccotelli",
      "userId": "14676426566890310018"
     }
    },
    "outputId": "2fd028f8-0c52-4197-974e-cd7b76f80391",
    "id": "65fmeRQ-Fjc7",
    "ExecuteTime": {
     "end_time": "2023-10-05T09:44:35.788935400Z",
     "start_time": "2023-10-05T09:44:35.698988Z"
    }
   },
   "execution_count": 11,
   "outputs": [
    {
     "name": "stdout",
     "output_type": "stream",
     "text": [
      "Time required to compute directly the column in position 256 of matrix A*B: 0.015625.\n"
     ]
    }
   ]
  },
  {
   "cell_type": "code",
   "source": [
    "print(\"Check that we extract the same 256 column of A*B: {}\".format(np.sum(cj-cjj)))"
   ],
   "metadata": {
    "colab": {
     "base_uri": "https://localhost:8080/"
    },
    "id": "sZ3BzbnaGVep",
    "executionInfo": {
     "status": "ok",
     "timestamp": 1694009692239,
     "user_tz": -120,
     "elapsed": 18,
     "user": {
      "displayName": "Leonardo Saccotelli",
      "userId": "14676426566890310018"
     }
    },
    "outputId": "ccddeb17-bc19-4397-e9af-2d32db13b10d",
    "ExecuteTime": {
     "end_time": "2023-10-05T09:44:35.863891600Z",
     "start_time": "2023-10-05T09:44:35.730969Z"
    }
   },
   "execution_count": 12,
   "outputs": [
    {
     "name": "stdout",
     "output_type": "stream",
     "text": [
      "Check that we extract the same 256 column of A*B: 0\n"
     ]
    }
   ]
  },
  {
   "cell_type": "markdown",
   "source": [
    "## Application of the matrix product to the connectivity matrix\n",
    "Suppose we have different airports linked between different flights. Starting with the directed graph, we can obtain the connectivity matrix, which is a matrix in which the element $c_{i,j}=1$ if a direct flight from $i$ to $j$ exists, otherwise $c_{i,j}=0$ : \\begin{bmatrix}\n",
    "0 & 1 & 0\\\\\n",
    "0 & 1 & 1\n",
    "\\end{bmatrix}\n",
    "Given the connectivity matrix $C$, we can solve problems like:\n",
    "  * How many flights exist between $i$ and $j$ with exactly $n$ routes?\n",
    "  * How many flights exist between $i$ and $j$ with at most $n$ routes?\n",
    "\n",
    "This type of problem can be solved with the matrix product. In fact, to know how many flights exist between $i$ and $j$ with exactly $3$ routes, we need to compute $\\sum_{k=1}^{n_{airport}} c^2_{i,k}*c_{k,j}$, where $c^2_{i,k} = c_{i,k}*c$.\n",
    "Then, if we want to know how many flights exist between $i$ and $j$ with at most $n$ routes, we can compute $c_{i,j} + c^2_{i,j} + ... + c^n_{i,j}$."
   ],
   "metadata": {
    "id": "Vpyw4mPPeNkH"
   }
  },
  {
   "cell_type": "markdown",
   "source": [
    "### Function to create and plot a directed graph.\n",
    "* INPUT\n",
    "  * **airport_names**: the names of all the airports in the graph\n",
    "  * **flights**: the list of the connections between the airports\n",
    "* OUTPUT\n",
    "  * **flights_graph**: the graphs of the input airports data\n",
    "  * **conn_matrix**: the connectivity matrix"
   ],
   "metadata": {
    "id": "0iFob7stqNW3"
   }
  },
  {
   "cell_type": "code",
   "source": [
    "def create_airport_graph(airport_names, flights):\n",
    "  flights_graph = nx.DiGraph()\n",
    "  flights_graph.add_nodes_from(airport_names)\n",
    "  flights_graph.add_edges_from(flights)\n",
    "  conn_matrix = nx.adjacency_matrix(flights_graph).todense()\n",
    "  nx.draw(flights_graph, with_labels=True, node_size=1000, node_color='r', edge_color='b', arrowsize=25)\n",
    "  return flights_graph, conn_matrix"
   ],
   "metadata": {
    "id": "bLeW5pNapufb",
    "executionInfo": {
     "status": "ok",
     "timestamp": 1694009692239,
     "user_tz": -120,
     "elapsed": 15,
     "user": {
      "displayName": "Leonardo Saccotelli",
      "userId": "14676426566890310018"
     }
    },
    "ExecuteTime": {
     "end_time": "2023-10-05T09:44:36.075707400Z",
     "start_time": "2023-10-05T09:44:35.855897700Z"
    }
   },
   "execution_count": 13,
   "outputs": []
  },
  {
   "cell_type": "markdown",
   "source": [
    "### Function to compute the number of flights between two airports with employing an exact number of routes.\n",
    "* INPUT\n",
    "  * **start**: departure airport\n",
    "  * **end**: arrival airport\n",
    "  * **n_routes**: number of routes required between **start** and **end**\n",
    "  * **conn_matrix**: the connectivity matrix\n",
    "* OUTPUT\n",
    "  * **n_flights**: the number of flights between **start** airport and **end** airport with exactly **n_routes**"
   ],
   "metadata": {
    "id": "QmYQJwNselDm"
   }
  },
  {
   "cell_type": "code",
   "execution_count": 14,
   "metadata": {
    "id": "7F6uWGLJ8hna",
    "executionInfo": {
     "status": "ok",
     "timestamp": 1694009692240,
     "user_tz": -120,
     "elapsed": 16,
     "user": {
      "displayName": "Leonardo Saccotelli",
      "userId": "14676426566890310018"
     }
    },
    "ExecuteTime": {
     "end_time": "2023-10-05T09:44:36.195697Z",
     "start_time": "2023-10-05T09:44:36.085684500Z"
    }
   },
   "outputs": [],
   "source": [
    "def n_flights(start, end, n_routes, conn_matrix):\n",
    "\n",
    "  def compute_n_flights(start, n_routes, conn_matrix):\n",
    "    return conn_matrix[start, :] if n_routes == 2 else np.dot(compute_n_flights(start, n_routes - 1, conn_matrix), conn_matrix)\n",
    "\n",
    "  return conn_matrix[start, end] if n_routes == 1 else np.dot(compute_n_flights(start, n_routes, conn_matrix), conn_matrix[:, end])"
   ]
  },
  {
   "cell_type": "markdown",
   "source": [
    "### Exercise n. 1"
   ],
   "metadata": {
    "id": "CMg8t3ECaZxt"
   }
  },
  {
   "cell_type": "code",
   "source": [
    "airport_names = ['0', '1', '2', '3']\n",
    "flights = [('0','1'),('0','2'), ('1','0'), ('2','0'),('2','3'),('3','1'),('3','3')]\n",
    "G, C = create_airport_graph(airport_names, flights)"
   ],
   "metadata": {
    "id": "rLiJPJe9iBhr",
    "executionInfo": {
     "status": "ok",
     "timestamp": 1694009692791,
     "user_tz": -120,
     "elapsed": 567,
     "user": {
      "displayName": "Leonardo Saccotelli",
      "userId": "14676426566890310018"
     }
    },
    "colab": {
     "base_uri": "https://localhost:8080/",
     "height": 516
    },
    "outputId": "c795f57e-d143-4c16-859c-126c20aac660",
    "ExecuteTime": {
     "end_time": "2023-10-05T09:44:38.621544200Z",
     "start_time": "2023-10-05T09:44:36.196688100Z"
    }
   },
   "execution_count": 15,
   "outputs": [
    {
     "data": {
      "text/plain": "<Figure size 640x480 with 1 Axes>",
      "image/png": "[encoded data removed]"
     },
     "metadata": {},
     "output_type": "display_data"
    }
   ]
  },
  {
   "cell_type": "code",
   "source": [
    "print(\"The related connectivity matrix is C = \\n{}\".format(C))"
   ],
   "metadata": {
    "colab": {
     "base_uri": "https://localhost:8080/"
    },
    "id": "8P3_DNE2acEK",
    "executionInfo": {
     "status": "ok",
     "timestamp": 1694009692792,
     "user_tz": -120,
     "elapsed": 20,
     "user": {
      "displayName": "Leonardo Saccotelli",
      "userId": "14676426566890310018"
     }
    },
    "outputId": "1e341716-6c9a-4563-84da-e212e5624a7d",
    "ExecuteTime": {
     "end_time": "2023-10-05T09:44:38.856506400Z",
     "start_time": "2023-10-05T09:44:38.619546400Z"
    }
   },
   "execution_count": 16,
   "outputs": [
    {
     "name": "stdout",
     "output_type": "stream",
     "text": [
      "The related connectivity matrix is C = \n",
      "[[0 1 1 0]\n",
      " [1 0 0 0]\n",
      " [1 0 0 1]\n",
      " [0 1 0 1]]\n"
     ]
    }
   ]
  },
  {
   "cell_type": "markdown",
   "source": [
    "#### How many flights exist starting from one to three with **exactly** three routes?"
   ],
   "metadata": {
    "id": "IBpmdhl_da5F"
   }
  },
  {
   "cell_type": "code",
   "source": [
    "print(\"Starting from 1 to 3 there are {} flights with exactly 3 routes\".format(n_flights(1, 3, 3, C)))"
   ],
   "metadata": {
    "colab": {
     "base_uri": "https://localhost:8080/"
    },
    "id": "DvFpWtGtdq7z",
    "executionInfo": {
     "status": "ok",
     "timestamp": 1694009693425,
     "user_tz": -120,
     "elapsed": 638,
     "user": {
      "displayName": "Leonardo Saccotelli",
      "userId": "14676426566890310018"
     }
    },
    "outputId": "778ecbf2-47e8-4c8a-98f3-9773b1dfa74b",
    "ExecuteTime": {
     "end_time": "2023-10-05T09:44:38.856506400Z",
     "start_time": "2023-10-05T09:44:38.632537300Z"
    }
   },
   "execution_count": 17,
   "outputs": [
    {
     "name": "stdout",
     "output_type": "stream",
     "text": [
      "Starting from 1 to 3 there are 1 flights with exactly 3 routes\n"
     ]
    }
   ]
  },
  {
   "cell_type": "markdown",
   "source": [
    "#### How many flights exist starting from 2 to 0 with **at most** three routes?"
   ],
   "metadata": {
    "id": "O8TDOOFAd1yt"
   }
  },
  {
   "cell_type": "code",
   "source": [
    "print(\"Starting from 2 to 0 there are {} flights with at most 3 routes\".format(n_flights(2, 0, 1, C) +\n",
    "                                                                               n_flights(2, 0, 2, C) +\n",
    "                                                                               n_flights(2, 0, 3, C)))"
   ],
   "metadata": {
    "colab": {
     "base_uri": "https://localhost:8080/"
    },
    "id": "hrG-on_Sd1yv",
    "executionInfo": {
     "status": "ok",
     "timestamp": 1694009693426,
     "user_tz": -120,
     "elapsed": 24,
     "user": {
      "displayName": "Leonardo Saccotelli",
      "userId": "14676426566890310018"
     }
    },
    "outputId": "72684cf9-35bc-4bc1-e8bd-4b4d77b7f61a",
    "ExecuteTime": {
     "end_time": "2023-10-05T09:44:39.012859100Z",
     "start_time": "2023-10-05T09:44:38.804449600Z"
    }
   },
   "execution_count": 18,
   "outputs": [
    {
     "name": "stdout",
     "output_type": "stream",
     "text": [
      "Starting from 2 to 0 there are 4 flights with at most 3 routes\n"
     ]
    }
   ]
  },
  {
   "cell_type": "markdown",
   "source": [
    "### Exercise n. 2"
   ],
   "metadata": {
    "id": "ANNDjB71asw3"
   }
  },
  {
   "cell_type": "code",
   "source": [
    "airport_names = ['0', '1', '2', '3', '4', '5']\n",
    "flights = [('0','1'),('0','5'), ('1','2'), ('1','4'),('2','0'),('3','0'),('3','2'),\n",
    "           ('4','1'),('4','3'), ('5','1'), ('5','2'), ('5','3')]\n",
    "G, C = create_airport_graph(airport_names, flights)"
   ],
   "metadata": {
    "colab": {
     "base_uri": "https://localhost:8080/",
     "height": 516
    },
    "id": "Db6PpDYUrtbr",
    "executionInfo": {
     "status": "ok",
     "timestamp": 1694009693426,
     "user_tz": -120,
     "elapsed": 21,
     "user": {
      "displayName": "Leonardo Saccotelli",
      "userId": "14676426566890310018"
     }
    },
    "outputId": "095de34a-4f7f-429e-e238-ce1dbe8ec451",
    "ExecuteTime": {
     "end_time": "2023-10-05T09:44:39.497094200Z",
     "start_time": "2023-10-05T09:44:38.925908800Z"
    }
   },
   "execution_count": 19,
   "outputs": [
    {
     "data": {
      "text/plain": "<Figure size 640x480 with 1 Axes>",
      "image/png": "[encoded data removed]"
     },
     "metadata": {},
     "output_type": "display_data"
    }
   ]
  },
  {
   "cell_type": "code",
   "source": [
    "print(\"The related connectivity matrix is C =\\n {}\".format(C))"
   ],
   "metadata": {
    "colab": {
     "base_uri": "https://localhost:8080/"
    },
    "id": "3iuVZwd5_s44",
    "executionInfo": {
     "status": "ok",
     "timestamp": 1694009693427,
     "user_tz": -120,
     "elapsed": 20,
     "user": {
      "displayName": "Leonardo Saccotelli",
      "userId": "14676426566890310018"
     }
    },
    "outputId": "84e6ca48-21f7-4d2d-87e6-a1e757344334",
    "ExecuteTime": {
     "end_time": "2023-10-05T09:44:39.505087200Z",
     "start_time": "2023-10-05T09:44:39.485099700Z"
    }
   },
   "execution_count": 20,
   "outputs": [
    {
     "name": "stdout",
     "output_type": "stream",
     "text": [
      "The related connectivity matrix is C =\n",
      " [[0 1 0 0 0 1]\n",
      " [0 0 1 0 1 0]\n",
      " [1 0 0 0 0 0]\n",
      " [1 0 1 0 0 0]\n",
      " [0 1 0 1 0 0]\n",
      " [0 1 1 1 0 0]]\n"
     ]
    }
   ]
  },
  {
   "cell_type": "markdown",
   "source": [
    "#### How many flights exist starting from five to zero with **exactly** two routes?"
   ],
   "metadata": {
    "id": "oqMRWUjbeNKl"
   }
  },
  {
   "cell_type": "code",
   "source": [
    "print(\"Starting from 5 to 0 there are {} flights with exactly 2 routes\".format(n_flights(5, 0, 2, C)))"
   ],
   "metadata": {
    "id": "eq7R-wgVeNKn",
    "colab": {
     "base_uri": "https://localhost:8080/"
    },
    "executionInfo": {
     "status": "ok",
     "timestamp": 1694009693428,
     "user_tz": -120,
     "elapsed": 19,
     "user": {
      "displayName": "Leonardo Saccotelli",
      "userId": "14676426566890310018"
     }
    },
    "outputId": "002c3cf0-0d2d-4a90-f982-d71b36bd2a03",
    "ExecuteTime": {
     "end_time": "2023-10-05T09:44:39.726088100Z",
     "start_time": "2023-10-05T09:44:39.501108500Z"
    }
   },
   "execution_count": 21,
   "outputs": [
    {
     "name": "stdout",
     "output_type": "stream",
     "text": [
      "Starting from 5 to 0 there are 2 flights with exactly 2 routes\n"
     ]
    }
   ]
  },
  {
   "cell_type": "markdown",
   "source": [
    "#### How many flights exist starting from five to zero with **exactly** 3 routes?"
   ],
   "metadata": {
    "id": "1RO_WiQXeY71"
   }
  },
  {
   "cell_type": "code",
   "source": [
    "print(\"Starting from 5 to 0 there are {} flights with exactly 3 routes\".format(n_flights(5, 0, 3, C)))"
   ],
   "metadata": {
    "id": "shfIGxEfeY72",
    "colab": {
     "base_uri": "https://localhost:8080/"
    },
    "executionInfo": {
     "status": "ok",
     "timestamp": 1694009693428,
     "user_tz": -120,
     "elapsed": 17,
     "user": {
      "displayName": "Leonardo Saccotelli",
      "userId": "14676426566890310018"
     }
    },
    "outputId": "023fb8b6-2278-4311-c357-c1e6373b7548",
    "ExecuteTime": {
     "end_time": "2023-10-05T09:44:39.843514700Z",
     "start_time": "2023-10-05T09:44:39.672107400Z"
    }
   },
   "execution_count": 22,
   "outputs": [
    {
     "name": "stdout",
     "output_type": "stream",
     "text": [
      "Starting from 5 to 0 there are 2 flights with exactly 3 routes\n"
     ]
    }
   ]
  },
  {
   "cell_type": "markdown",
   "source": [
    "#### How many flights exist starting from 2 to 0 with **at most** three routes?"
   ],
   "metadata": {
    "id": "jIk2SVoreNKp"
   }
  },
  {
   "cell_type": "code",
   "source": [
    "print(\"Starting from 2 to 0 there are {} flights with at most 3 routes\".format(n_flights(2, 0, 1, C) +\n",
    "                                                                               n_flights(2, 0, 2, C) +\n",
    "                                                                               n_flights(2, 0, 3, C)))"
   ],
   "metadata": {
    "id": "hWlH7OjeeNKr",
    "colab": {
     "base_uri": "https://localhost:8080/"
    },
    "executionInfo": {
     "status": "ok",
     "timestamp": 1694009693429,
     "user_tz": -120,
     "elapsed": 16,
     "user": {
      "displayName": "Leonardo Saccotelli",
      "userId": "14676426566890310018"
     }
    },
    "outputId": "67680501-22bb-4800-ac87-7a9767b66ad9",
    "ExecuteTime": {
     "end_time": "2023-10-05T09:44:40.106305100Z",
     "start_time": "2023-10-05T09:44:39.827524200Z"
    }
   },
   "execution_count": 23,
   "outputs": [
    {
     "name": "stdout",
     "output_type": "stream",
     "text": [
      "Starting from 2 to 0 there are 1 flights with at most 3 routes\n"
     ]
    }
   ]
  },
  {
   "cell_type": "markdown",
   "source": [
    "#### How many flights exist starting from 3 to 4 with **at most** five routes?"
   ],
   "metadata": {
    "id": "LalUOiHueuo3"
   }
  },
  {
   "cell_type": "code",
   "source": [
    "print(\"Starting from 3 to 4 there are {} flights with at most 5 routes\".format(n_flights(3, 4, 1, C) +\n",
    "                                                                               n_flights(3, 4, 2, C) +\n",
    "                                                                               n_flights(3, 4, 3, C) +\n",
    "                                                                               n_flights(3, 4, 4, C) +\n",
    "                                                                               n_flights(3, 4, 5, C)))"
   ],
   "metadata": {
    "id": "SLr6kcNreuo4",
    "colab": {
     "base_uri": "https://localhost:8080/"
    },
    "executionInfo": {
     "status": "ok",
     "timestamp": 1694009693430,
     "user_tz": -120,
     "elapsed": 13,
     "user": {
      "displayName": "Leonardo Saccotelli",
      "userId": "14676426566890310018"
     }
    },
    "outputId": "0caf8437-8609-430b-8400-d0fe6d4e1e6d",
    "ExecuteTime": {
     "end_time": "2023-10-05T09:44:40.270432200Z",
     "start_time": "2023-10-05T09:44:40.091311300Z"
    }
   },
   "execution_count": 24,
   "outputs": [
    {
     "name": "stdout",
     "output_type": "stream",
     "text": [
      "Starting from 3 to 4 there are 5 flights with at most 5 routes\n"
     ]
    }
   ]
  },
  {
   "cell_type": "markdown",
   "source": [
    "### Exercise n. 3"
   ],
   "metadata": {
    "id": "i0D5ucgAa1ZO"
   }
  },
  {
   "cell_type": "code",
   "source": [
    "airport_names = ['0', '1', '2', '3', '4']\n",
    "flights = [('0','1'),('0','3'), ('1','2'), ('1','3'),('2','0'),('2','3'),('2','4'),\n",
    "           ('3','4'),('4','1'), ('4','2')]\n",
    "G, C = create_airport_graph(airport_names, flights)"
   ],
   "metadata": {
    "id": "z6Hdq5LEwhz2",
    "executionInfo": {
     "status": "ok",
     "timestamp": 1694009694150,
     "user_tz": -120,
     "elapsed": 731,
     "user": {
      "displayName": "Leonardo Saccotelli",
      "userId": "14676426566890310018"
     }
    },
    "colab": {
     "base_uri": "https://localhost:8080/",
     "height": 516
    },
    "outputId": "5858332d-79a9-4d06-b25e-cc6e0dcec75a",
    "ExecuteTime": {
     "end_time": "2023-10-05T09:44:40.718410300Z",
     "start_time": "2023-10-05T09:44:40.270432200Z"
    }
   },
   "execution_count": 25,
   "outputs": [
    {
     "data": {
      "text/plain": "<Figure size 640x480 with 1 Axes>",
      "image/png": "[encoded data removed]"
     },
     "metadata": {},
     "output_type": "display_data"
    }
   ]
  },
  {
   "cell_type": "code",
   "source": [
    "print(\"The related connectivity matrix is C =\\n {}\".format(C))"
   ],
   "metadata": {
    "colab": {
     "base_uri": "https://localhost:8080/"
    },
    "id": "jCMErqqUw-HK",
    "executionInfo": {
     "status": "ok",
     "timestamp": 1694009694151,
     "user_tz": -120,
     "elapsed": 37,
     "user": {
      "displayName": "Leonardo Saccotelli",
      "userId": "14676426566890310018"
     }
    },
    "outputId": "c1552052-4c00-4b02-8c07-fe3cd069fff2",
    "ExecuteTime": {
     "end_time": "2023-10-05T09:44:40.726386900Z",
     "start_time": "2023-10-05T09:44:40.712398200Z"
    }
   },
   "execution_count": 26,
   "outputs": [
    {
     "name": "stdout",
     "output_type": "stream",
     "text": [
      "The related connectivity matrix is C =\n",
      " [[0 1 0 1 0]\n",
      " [0 0 1 1 0]\n",
      " [1 0 0 1 1]\n",
      " [0 0 0 0 1]\n",
      " [0 1 1 0 0]]\n"
     ]
    }
   ]
  },
  {
   "cell_type": "markdown",
   "source": [
    "#### How many flights exist starting from 3 to 0 with **at most** four routes?"
   ],
   "metadata": {
    "id": "KZthc0UFfMaJ"
   }
  },
  {
   "cell_type": "code",
   "source": [
    "print(\"Starting from 3 to 0 there are {} flights with at most 4 routes\".format(n_flights(3, 0, 1, C) +\n",
    "                                                                               n_flights(3, 0, 2, C) +\n",
    "                                                                               n_flights(3, 0, 3, C) +\n",
    "                                                                               n_flights(3, 0, 4, C)))"
   ],
   "metadata": {
    "colab": {
     "base_uri": "https://localhost:8080/"
    },
    "id": "3jYaeNqYfMaK",
    "executionInfo": {
     "status": "ok",
     "timestamp": 1694009694151,
     "user_tz": -120,
     "elapsed": 31,
     "user": {
      "displayName": "Leonardo Saccotelli",
      "userId": "14676426566890310018"
     }
    },
    "outputId": "42cf8ea8-a671-4f46-b104-979b03db0725",
    "ExecuteTime": {
     "end_time": "2023-10-05T09:44:40.923743800Z",
     "start_time": "2023-10-05T09:44:40.726386900Z"
    }
   },
   "execution_count": 27,
   "outputs": [
    {
     "name": "stdout",
     "output_type": "stream",
     "text": [
      "Starting from 3 to 0 there are 2 flights with at most 4 routes\n"
     ]
    }
   ]
  },
  {
   "cell_type": "markdown",
   "source": [
    "#### How many flights exist starting from 4 to 2 with **at most** four routes?"
   ],
   "metadata": {
    "id": "qSj6CW-kfMaL"
   }
  },
  {
   "cell_type": "code",
   "source": [
    "print(\"Starting from 4 to 2 there are {} flights with at most 4 routes\".format(n_flights(4, 2, 1, C) +\n",
    "                                                                               n_flights(4, 2, 2, C) +\n",
    "                                                                               n_flights(4, 2, 3, C) +\n",
    "                                                                               n_flights(4, 2, 4, C)))"
   ],
   "metadata": {
    "colab": {
     "base_uri": "https://localhost:8080/"
    },
    "id": "xsCT4m_5fMaL",
    "executionInfo": {
     "status": "ok",
     "timestamp": 1694009694152,
     "user_tz": -120,
     "elapsed": 29,
     "user": {
      "displayName": "Leonardo Saccotelli",
      "userId": "14676426566890310018"
     }
    },
    "outputId": "2e8afe19-175b-46b0-d49e-4afd1acb4329",
    "ExecuteTime": {
     "end_time": "2023-10-05T09:44:41.017691Z",
     "start_time": "2023-10-05T09:44:40.851683800Z"
    }
   },
   "execution_count": 28,
   "outputs": [
    {
     "name": "stdout",
     "output_type": "stream",
     "text": [
      "Starting from 4 to 2 there are 8 flights with at most 4 routes\n"
     ]
    }
   ]
  },
  {
   "cell_type": "markdown",
   "source": [
    "### Exercise n. 4"
   ],
   "metadata": {
    "id": "gYgxGzV2bYqL"
   }
  },
  {
   "cell_type": "code",
   "source": [
    "airport_names = ['0', '1', '2', '3', '4', '5', '6', '7']\n",
    "flights = [('0','2'),('0','3'), ('0','6'),('1','4'), ('1','6'),('2','0'), ('2','1'),\n",
    "     ('2','7'),('3','5'), ('3','6'), ('4','2'),('4','3'), ('4','7'), ('5','1'),\n",
    "     ('5','7'), ('6','4'), ('7','0'),('7','6')]\n",
    "G, C = create_airport_graph(airport_names, flights)"
   ],
   "metadata": {
    "id": "N_bbWM7wxMbk",
    "executionInfo": {
     "status": "ok",
     "timestamp": 1694009694153,
     "user_tz": -120,
     "elapsed": 28,
     "user": {
      "displayName": "Leonardo Saccotelli",
      "userId": "14676426566890310018"
     }
    },
    "colab": {
     "base_uri": "https://localhost:8080/",
     "height": 516
    },
    "outputId": "e8864148-0ccf-4864-eead-2a110de0bd3e",
    "ExecuteTime": {
     "end_time": "2023-10-05T09:44:41.574667400Z",
     "start_time": "2023-10-05T09:44:40.978712500Z"
    }
   },
   "execution_count": 29,
   "outputs": [
    {
     "data": {
      "text/plain": "<Figure size 640x480 with 1 Axes>",
      "image/png": "[encoded data removed]"
     },
     "metadata": {},
     "output_type": "display_data"
    }
   ]
  },
  {
   "cell_type": "code",
   "source": [
    "print(\"The related connectivity matrix is C =\\n {}\".format(C))"
   ],
   "metadata": {
    "id": "utbpQ9MHyYLl",
    "colab": {
     "base_uri": "https://localhost:8080/"
    },
    "executionInfo": {
     "status": "ok",
     "timestamp": 1694009694153,
     "user_tz": -120,
     "elapsed": 25,
     "user": {
      "displayName": "Leonardo Saccotelli",
      "userId": "14676426566890310018"
     }
    },
    "outputId": "c4a3adb1-73d3-4305-8f46-1b848703ecca",
    "ExecuteTime": {
     "end_time": "2023-10-05T09:44:41.599650900Z",
     "start_time": "2023-10-05T09:44:41.569670900Z"
    }
   },
   "execution_count": 30,
   "outputs": [
    {
     "name": "stdout",
     "output_type": "stream",
     "text": [
      "The related connectivity matrix is C =\n",
      " [[0 0 1 1 0 0 1 0]\n",
      " [0 0 0 0 1 0 1 0]\n",
      " [1 1 0 0 0 0 0 1]\n",
      " [0 0 0 0 0 1 1 0]\n",
      " [0 0 1 1 0 0 0 1]\n",
      " [0 1 0 0 0 0 0 1]\n",
      " [0 0 0 0 1 0 0 0]\n",
      " [1 0 0 0 0 0 1 0]]\n"
     ]
    }
   ]
  },
  {
   "cell_type": "markdown",
   "source": [
    "#### How many flights exist starting from zero to seven with **exactly** 3 routes ?"
   ],
   "metadata": {
    "id": "EMuiViRbfsBQ"
   }
  },
  {
   "cell_type": "code",
   "source": [
    "print(\"Starting from 0 to 7 there are {} flights with exactly 3 routes\".format(n_flights(0, 7, 3, C)))"
   ],
   "metadata": {
    "colab": {
     "base_uri": "https://localhost:8080/"
    },
    "id": "AewAQnjOfsBs",
    "executionInfo": {
     "status": "ok",
     "timestamp": 1694009694154,
     "user_tz": -120,
     "elapsed": 23,
     "user": {
      "displayName": "Leonardo Saccotelli",
      "userId": "14676426566890310018"
     }
    },
    "outputId": "cfab4508-9dde-43d9-ec53-b482c410cb4f",
    "ExecuteTime": {
     "end_time": "2023-10-05T09:44:41.945320600Z",
     "start_time": "2023-10-05T09:44:41.585661900Z"
    }
   },
   "execution_count": 31,
   "outputs": [
    {
     "name": "stdout",
     "output_type": "stream",
     "text": [
      "Starting from 0 to 7 there are 2 flights with exactly 3 routes\n"
     ]
    }
   ]
  },
  {
   "cell_type": "markdown",
   "source": [
    "#### How many flights exist starting from four to six with **exactly** 4 routes?"
   ],
   "metadata": {
    "id": "KA7-AJ00fsBs"
   }
  },
  {
   "cell_type": "code",
   "source": [
    "print(\"Starting from 4 to 6 there are {} flights with exactly 4 routes\".format(n_flights(4, 6, 4, C)))"
   ],
   "metadata": {
    "colab": {
     "base_uri": "https://localhost:8080/"
    },
    "id": "xWOHSCDwfsBt",
    "executionInfo": {
     "status": "ok",
     "timestamp": 1694009694155,
     "user_tz": -120,
     "elapsed": 21,
     "user": {
      "displayName": "Leonardo Saccotelli",
      "userId": "14676426566890310018"
     }
    },
    "outputId": "d1a8381e-0311-491d-d36c-2639fe067823",
    "ExecuteTime": {
     "end_time": "2023-10-05T09:44:41.990294700Z",
     "start_time": "2023-10-05T09:44:41.873567900Z"
    }
   },
   "execution_count": 32,
   "outputs": [
    {
     "name": "stdout",
     "output_type": "stream",
     "text": [
      "Starting from 4 to 6 there are 5 flights with exactly 4 routes\n"
     ]
    }
   ]
  },
  {
   "cell_type": "markdown",
   "source": [
    "#### How many flights exist starting from 4 to 6 with **at most** four routes?"
   ],
   "metadata": {
    "id": "NG7lTrd5fsBt"
   }
  },
  {
   "cell_type": "code",
   "source": [
    "print(\"Starting from 4 to 6 there are {} flights with at most 4 routes\".format(n_flights(4, 6, 1, C) +\n",
    "                                                                               n_flights(4, 6, 2, C) +\n",
    "                                                                               n_flights(4, 6, 3, C) +\n",
    "                                                                               n_flights(4, 6, 4, C)))"
   ],
   "metadata": {
    "colab": {
     "base_uri": "https://localhost:8080/"
    },
    "id": "fNAtomwTfsBt",
    "executionInfo": {
     "status": "ok",
     "timestamp": 1694009694155,
     "user_tz": -120,
     "elapsed": 19,
     "user": {
      "displayName": "Leonardo Saccotelli",
      "userId": "14676426566890310018"
     }
    },
    "outputId": "b8fe457b-cf6d-4011-e154-65aeed467b8c",
    "ExecuteTime": {
     "end_time": "2023-10-05T09:44:42.223477800Z",
     "start_time": "2023-10-05T09:44:41.967308700Z"
    }
   },
   "execution_count": 33,
   "outputs": [
    {
     "name": "stdout",
     "output_type": "stream",
     "text": [
      "Starting from 4 to 6 there are 11 flights with at most 4 routes\n"
     ]
    }
   ]
  },
  {
   "cell_type": "markdown",
   "source": [
    "### Exercise n. 5"
   ],
   "metadata": {
    "id": "nQIJY4Q7z_Ft"
   }
  },
  {
   "cell_type": "code",
   "source": [
    "airport_names = ['0', '1', '2', '3', '4', '5']\n",
    "flights = [('0','2'),('0','5'), ('1','2'),('1','4'), ('2','0'),('2','1'), ('2','4'),\n",
    "     ('2','5'),('3','0'), ('3','5'), ('4','1'),('4','3'), ('5','3')]\n",
    "G, C = create_airport_graph(airport_names, flights)"
   ],
   "metadata": {
    "executionInfo": {
     "status": "ok",
     "timestamp": 1694009694684,
     "user_tz": -120,
     "elapsed": 546,
     "user": {
      "displayName": "Leonardo Saccotelli",
      "userId": "14676426566890310018"
     }
    },
    "colab": {
     "base_uri": "https://localhost:8080/",
     "height": 516
    },
    "outputId": "4c8a04d6-99ca-4d16-86d1-f12e279c3a55",
    "id": "Cb4y8LD5z_Fu",
    "ExecuteTime": {
     "end_time": "2023-10-05T09:44:42.810810600Z",
     "start_time": "2023-10-05T09:44:42.221484400Z"
    }
   },
   "execution_count": 34,
   "outputs": [
    {
     "data": {
      "text/plain": "<Figure size 640x480 with 1 Axes>",
      "image/png": "[encoded data removed]"
     },
     "metadata": {},
     "output_type": "display_data"
    }
   ]
  },
  {
   "cell_type": "code",
   "source": [
    "print(\"The related connectivity matrix is C =\\n {}\".format(C))"
   ],
   "metadata": {
    "colab": {
     "base_uri": "https://localhost:8080/"
    },
    "executionInfo": {
     "status": "ok",
     "timestamp": 1694009694685,
     "user_tz": -120,
     "elapsed": 27,
     "user": {
      "displayName": "Leonardo Saccotelli",
      "userId": "14676426566890310018"
     }
    },
    "outputId": "005ee342-e21b-42f7-d79d-76c3cdbb8b72",
    "id": "06FY_BQoz_Fu",
    "ExecuteTime": {
     "end_time": "2023-10-05T09:44:43.060397700Z",
     "start_time": "2023-10-05T09:44:42.801816300Z"
    }
   },
   "execution_count": 35,
   "outputs": [
    {
     "name": "stdout",
     "output_type": "stream",
     "text": [
      "The related connectivity matrix is C =\n",
      " [[0 0 1 0 0 1]\n",
      " [0 0 1 0 1 0]\n",
      " [1 1 0 0 1 1]\n",
      " [1 0 0 0 0 1]\n",
      " [0 1 0 1 0 0]\n",
      " [0 0 0 1 0 0]]\n"
     ]
    }
   ]
  },
  {
   "cell_type": "markdown",
   "source": [
    "#### How many flights exist starting from 0 to 5 with **exactly** 3 routes?"
   ],
   "metadata": {
    "id": "wAMUc_x2z_Fv"
   }
  },
  {
   "cell_type": "code",
   "source": [
    "print(\"Starting from 0 to 5 there are {} flights with exactly 3 routes\".format(n_flights(0, 5, 3, C)))"
   ],
   "metadata": {
    "colab": {
     "base_uri": "https://localhost:8080/"
    },
    "executionInfo": {
     "status": "ok",
     "timestamp": 1694009694685,
     "user_tz": -120,
     "elapsed": 17,
     "user": {
      "displayName": "Leonardo Saccotelli",
      "userId": "14676426566890310018"
     }
    },
    "outputId": "460b3a1c-1e27-47c6-f140-60e31e0f19f7",
    "id": "PS6_lochz_Fv",
    "ExecuteTime": {
     "end_time": "2023-10-05T09:44:43.335755900Z",
     "start_time": "2023-10-05T09:44:42.816809900Z"
    }
   },
   "execution_count": 36,
   "outputs": [
    {
     "name": "stdout",
     "output_type": "stream",
     "text": [
      "Starting from 0 to 5 there are 2 flights with exactly 3 routes\n"
     ]
    }
   ]
  },
  {
   "cell_type": "markdown",
   "source": [
    "#### How many flights exist starting from two to three with **exactly** 4 routes?"
   ],
   "metadata": {
    "id": "oiFqSkj2z_Fv"
   }
  },
  {
   "cell_type": "code",
   "source": [
    "print(\"Starting from 2 to 3 there are {} flights with exactly 4 routes\".format(n_flights(2, 3, 4, C)))"
   ],
   "metadata": {
    "colab": {
     "base_uri": "https://localhost:8080/"
    },
    "executionInfo": {
     "status": "ok",
     "timestamp": 1694009694686,
     "user_tz": -120,
     "elapsed": 14,
     "user": {
      "displayName": "Leonardo Saccotelli",
      "userId": "14676426566890310018"
     }
    },
    "outputId": "4fc845a2-6c41-4fd9-aa36-87f46dba9b62",
    "id": "C04Qmv85z_Fw",
    "ExecuteTime": {
     "end_time": "2023-10-05T09:44:43.379729300Z",
     "start_time": "2023-10-05T09:44:43.101375500Z"
    }
   },
   "execution_count": 37,
   "outputs": [
    {
     "name": "stdout",
     "output_type": "stream",
     "text": [
      "Starting from 2 to 3 there are 7 flights with exactly 4 routes\n"
     ]
    }
   ]
  },
  {
   "cell_type": "markdown",
   "source": [
    "#### How many flights exist starting from 4 to 1 with **at most** four routes?"
   ],
   "metadata": {
    "id": "2rz2f7_Xz_Fw"
   }
  },
  {
   "cell_type": "code",
   "source": [
    "print(\"Starting from 4 to 1 there are {} flights with at most 4 routes\".format(n_flights(4, 1, 1, C) +\n",
    "                                                                               n_flights(4, 1, 2, C) +\n",
    "                                                                               n_flights(4, 1, 3, C) +\n",
    "                                                                               n_flights(4, 1, 4, C)))"
   ],
   "metadata": {
    "colab": {
     "base_uri": "https://localhost:8080/"
    },
    "executionInfo": {
     "status": "ok",
     "timestamp": 1694009694686,
     "user_tz": -120,
     "elapsed": 10,
     "user": {
      "displayName": "Leonardo Saccotelli",
      "userId": "14676426566890310018"
     }
    },
    "outputId": "5199076f-3abe-43d9-d7d0-682a3d2b4ad8",
    "id": "tXrSzwAIz_Fw",
    "ExecuteTime": {
     "end_time": "2023-10-05T09:44:43.517649900Z",
     "start_time": "2023-10-05T09:44:43.358741Z"
    }
   },
   "execution_count": 38,
   "outputs": [
    {
     "name": "stdout",
     "output_type": "stream",
     "text": [
      "Starting from 4 to 1 there are 5 flights with at most 4 routes\n"
     ]
    }
   ]
  }
 ]
}
