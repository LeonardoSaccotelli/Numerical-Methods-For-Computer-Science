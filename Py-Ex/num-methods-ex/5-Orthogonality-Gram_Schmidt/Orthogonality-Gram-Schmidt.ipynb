{
 "cells": [
  {
   "cell_type": "markdown",
   "metadata": {},
   "source": [
    "# Orthogonality, Gram-Schmidt algorithm and QR decomposition\n",
    "<hr>\n",
    "This notebook introduces the concept of orthogonality matrices. We will show how to create and how to check whether a matrix is orthogonal or not. Then we implement the QR decomposition to build an orthonormal basis, starting from a generic basis. For the QR decomposition we implemented both the Standard and the Modified Gram-Schimidt procedure, which is more stable than the basic algorithm. Then, we will compare the QR decomposition given by the implemented procedure with the procedure in the package, which use the Householder transformation. Lastly, we will also show the QR decompostion with pivoting."
   ]
  },
  {
   "cell_type": "markdown",
   "metadata": {},
   "source": [
    "## Import libraries"
   ]
  },
  {
   "cell_type": "code",
   "outputs": [],
   "source": [
    "import scipy as sp\n",
    "import numpy as np\n",
    "import scipy.stats as sst\n",
    "import scipy.linalg as spl "
   ],
   "metadata": {
    "collapsed": false,
    "ExecuteTime": {
     "end_time": "2024-01-24T15:52:44.205409500Z",
     "start_time": "2024-01-24T15:52:39.798452Z"
    }
   },
   "execution_count": 1
  },
  {
   "cell_type": "markdown",
   "metadata": {},
   "source": [
    "## Orthogonal matrices: General check"
   ]
  },
  {
   "cell_type": "markdown",
   "source": [
    "Create an orthogonal random matrix using the statistical package of scipy. \n",
    "<b>Orthogonal</b> matrices are <b>square matrices</b>, so we can select only one dimension."
   ],
   "metadata": {
    "collapsed": false
   }
  },
  {
   "cell_type": "code",
   "execution_count": 2,
   "metadata": {
    "ExecuteTime": {
     "end_time": "2024-01-24T15:52:44.267373400Z",
     "start_time": "2024-01-24T15:52:44.165435400Z"
    }
   },
   "outputs": [
    {
     "name": "stdout",
     "output_type": "stream",
     "text": [
      "Orthogonal Random matrix of size 3x3: \n",
      " [[-0.48344283  0.78704386 -0.38320359]\n",
      " [-0.43502316  0.16386988  0.88538213]\n",
      " [ 0.75963009  0.59473408  0.26316059]]\n"
     ]
    }
   ],
   "source": [
    "M = sst.ortho_group.rvs(dim=3) \n",
    "print('Orthogonal Random matrix of size 3x3: \\n', M)"
   ]
  },
  {
   "cell_type": "markdown",
   "source": [
    "We can check if a matrix is an orthogonal matrix by checking the main property of orthogonal matrices: \n",
    "* the product between an orthogonal matrix and its transpose leads to the identity matrix ( $M M^T = M^TM = I$ )\n",
    "* the inverse of an orthogonal matrix is equal to the transpose of the matrix itself ( $M^T = M^{-1}$ )\n",
    "* the determinant of an orthogonal matrix is always equal to 1 or -1"
   ],
   "metadata": {
    "collapsed": false
   }
  },
  {
   "cell_type": "code",
   "execution_count": 3,
   "metadata": {
    "ExecuteTime": {
     "end_time": "2024-01-24T15:52:44.352324800Z",
     "start_time": "2024-01-24T15:52:44.196416800Z"
    }
   },
   "outputs": [
    {
     "name": "stdout",
     "output_type": "stream",
     "text": [
      "dot product M*M^T = I: \n",
      " [[ 1.00000000e+00  2.39822332e-16 -7.24669874e-17]\n",
      " [ 2.39822332e-16  1.00000000e+00  8.79790241e-17]\n",
      " [-7.24669874e-17  8.79790241e-17  1.00000000e+00]]\n",
      "\n",
      "dot product M^T*M = I: \n",
      " [[ 1.00000000e+00  5.57173139e-17 -7.13835139e-17]\n",
      " [ 5.57173139e-17  1.00000000e+00  4.02157739e-16]\n",
      " [-7.13835139e-17  4.02157739e-16  1.00000000e+00]]\n",
      "\n",
      "What we obtain is the identity matrix. On the main diagonal we obtain 1 in both matrices.\n",
      "In all the other position we have elements related to the machine precision. So, even if theoretically\n",
      "we don't obtain the identity matrix, numerically these elements are related to machine precision and so\n",
      "we can say that we obtain the identity matrix.\n"
     ]
    }
   ],
   "source": [
    "print('dot product M*M^T = I: \\n', np.dot(M,M.T))\n",
    "print('\\ndot product M^T*M = I: \\n', np.dot(M.T,M))\n",
    "print('\\nWhat we obtain is the identity matrix. On the main diagonal we obtain 1 in both matrices.\\n'\n",
    "      'In all the other position we have elements related to the machine precision. So, even if theoretically\\n'\n",
    "      'we don\\'t obtain the identity matrix, numerically these elements are related to machine precision and so\\n'\n",
    "      'we can say that we obtain the identity matrix.')"
   ]
  },
  {
   "cell_type": "code",
   "execution_count": 4,
   "metadata": {
    "ExecuteTime": {
     "end_time": "2024-01-24T15:52:44.416288Z",
     "start_time": "2024-01-24T15:52:44.302353500Z"
    }
   },
   "outputs": [
    {
     "name": "stdout",
     "output_type": "stream",
     "text": [
      "Determinant of the matrix M:  0.9999999999999998\n"
     ]
    }
   ],
   "source": [
    "print('Determinant of the matrix M: ', sp.linalg.det(M)) # det = -1 or det = 1"
   ]
  },
  {
   "cell_type": "markdown",
   "metadata": {},
   "source": [
    "#### Generic random matrix\n",
    "Create a generic random matrix with uniform distribution and check that the given matrix is not orthogonal."
   ]
  },
  {
   "cell_type": "code",
   "execution_count": 5,
   "metadata": {
    "ExecuteTime": {
     "end_time": "2024-01-24T15:52:45.495551600Z",
     "start_time": "2024-01-24T15:52:45.479559800Z"
    }
   },
   "outputs": [
    {
     "name": "stdout",
     "output_type": "stream",
     "text": [
      "Generic Random matrix: \n",
      " [[0.41666198 0.89583484 0.28698528]\n",
      " [0.01193928 0.27755145 0.60142322]\n",
      " [0.30357882 0.72338563 0.04746971]\n",
      " [0.82879544 0.03098105 0.61571325]\n",
      " [0.6623613  0.69922799 0.20292096]]\n"
     ]
    }
   ],
   "source": [
    "A= np.random.rand(5,3)\n",
    "print('Generic Random matrix: \\n',A)"
   ]
  },
  {
   "cell_type": "code",
   "execution_count": 6,
   "metadata": {
    "ExecuteTime": {
     "end_time": "2024-01-24T15:52:45.619482Z",
     "start_time": "2024-01-24T15:52:45.494554200Z"
    }
   },
   "outputs": [
    {
     "name": "stdout",
     "output_type": "stream",
     "text": [
      "Rank of A: 3\n",
      "dot product M*M^T =/= I: \n",
      " [[1.05848781 0.42621452 0.78814691 0.54978209 0.96060889]\n",
      " [0.42621452 0.43888725 0.23295064 0.3887983  0.32402124]\n",
      " [0.78814691 0.23295064 0.61770025 0.30324372 0.71652294]\n",
      " [0.54978209 0.3887983  0.30324372 1.06696452 0.69556597]\n",
      " [0.96060889 0.32402124 0.71652294 0.69556597 0.96881919]]\n",
      "\n",
      "dot product M^T*M =/= I: \n",
      " [[1.39153423 1.08499715 0.78587455]\n",
      " [1.08499715 1.89272125 0.61931967]\n",
      " [0.78587455 0.61931967 0.86660354]]\n"
     ]
    }
   ],
   "source": [
    "print('Rank of A:', np.linalg.matrix_rank(A))\n",
    "print('dot product M*M^T =/= I: \\n', np.dot(A,A.T))\n",
    "print('\\ndot product M^T*M =/= I: \\n', np.dot(A.T,A))"
   ]
  },
  {
   "cell_type": "markdown",
   "metadata": {},
   "source": [
    "### QR decomposition using Standard Gram-Schmidt procedure\n",
    "The QR decomposition is a factorization of type A = QR, where Q(U) is an orthogonal matrix and R is an upper triangular matrix, if A is square. The QR factorization implemented uses the Standard Gram-Schmidt procedure.\n",
    "Gram-Schmidt procedure used to orthogonalize a set of <b>linearly independent </b> vectors or columns of a matrix. This procedure gives in output the QR factorization related to the matrix X. <br>\n",
    "Gram-Schmidt algorithm is defined in the following way:\n",
    "* Compute the first orthonormal vector $u_1 = \\frac{x_1}{\\alpha_1}$, where $\\alpha_1 = \\|x_i\\|$\n",
    "* Compute the k+1 orthonormal vector $u_{k+1} = \\frac{z_{k+1}}{\\alpha_{k+1}}$, where $\\alpha_{k+1} = \\|z_{k+1}\\|$ and $z_{k+1}= x_{k+1} - \\sum_{i=1}^{k} <u_{i} | x_{k+1}>u_{i} $<br>\n",
    "\n",
    "Input and Output parameters:\n",
    "* INPUT \n",
    "  * <b>X</b>: a matrix for which the columns define a set of linearly independent vectors\n",
    "* OUTPUT \n",
    "  * <b>U</b>: the orthogonal matrix, for which the columns define an orthonormal set of vectors\n",
    "  * <b>R</b>: the upper triangular matrix which collects the coefficients $\\alpha^{(k)}_i$ "
   ]
  },
  {
   "cell_type": "code",
   "outputs": [],
   "source": [
    "def Gram_Schmidt(X):\n",
    "    (m,n) = X.shape\n",
    "    U = np.zeros((m,n))\n",
    "    R = np.zeros((n,n))\n",
    "    \n",
    "    for i in range(n):  # this loop selects the columns of the input matrix, which are the set of linear independent vectors\n",
    "        U[:,i] = X[:,i] # at each iteration, we take the vector x_k+1 needed to compute z_k+1\n",
    "        for j in range(i):\n",
    "            R[j,i] = np.inner(X[:,i], U[:,j]) # compute the inner product <u_i | x_k+1>\n",
    "            U[:,i] = U[:,i] - R[j,i]*U[:,j]   # compute z_k+1 = x_k+1 - <u_i | x_k+1>*u_i\n",
    "        R[i,i]= np.linalg.norm(U[:,i],2)    # compute alpha = || z_k+1 ||  \n",
    "        U[:,i] = U[:,i]/R[i,i] # compute u_i = z_k+1 / alpha\n",
    "    return U,R"
   ],
   "metadata": {
    "collapsed": false,
    "ExecuteTime": {
     "end_time": "2024-01-24T15:52:46.065222Z",
     "start_time": "2024-01-24T15:52:45.959285300Z"
    }
   },
   "execution_count": 7
  },
  {
   "cell_type": "markdown",
   "source": [
    "#### Example 1"
   ],
   "metadata": {
    "collapsed": false
   }
  },
  {
   "cell_type": "code",
   "execution_count": 8,
   "metadata": {
    "ExecuteTime": {
     "end_time": "2024-01-24T15:52:47.247986300Z",
     "start_time": "2024-01-24T15:52:47.182026400Z"
    }
   },
   "outputs": [
    {
     "name": "stdout",
     "output_type": "stream",
     "text": [
      "Matrix A:\n",
      " [[ 1  0  0]\n",
      " [ 0  1  0]\n",
      " [-3 -2  0]\n",
      " [ 0  0  1]\n",
      " [ 2  1 -1]]\n"
     ]
    }
   ],
   "source": [
    "A = np.array([[1,0,-3,0,2],[0,1,-2,0,1],[0,0,0,1,-1]])\n",
    "A=A.T\n",
    "print('Matrix A:\\n', A)"
   ]
  },
  {
   "cell_type": "code",
   "outputs": [
    {
     "name": "stdout",
     "output_type": "stream",
     "text": [
      "\n",
      "QR factorization of A using standard Gram-Schmidt procedure:\n",
      "Matrix U =\n",
      " [[ 0.26726124 -0.47809144  0.153393  ]\n",
      " [ 0.          0.83666003 -0.0766965 ]\n",
      " [-0.80178373 -0.23904572 -0.306786  ]\n",
      " [ 0.          0.          0.76696499]\n",
      " [ 0.53452248 -0.11952286 -0.53687549]]\n",
      "\n",
      "Matrix R =\n",
      " [[ 3.74165739  2.13808994 -0.53452248]\n",
      " [ 0.          1.19522861  0.11952286]\n",
      " [ 0.          0.          1.30384048]]\n"
     ]
    }
   ],
   "source": [
    "(U,R) = Gram_Schmidt(A)\n",
    "print('\\nQR factorization of A using standard Gram-Schmidt procedure:')\n",
    "print('Matrix U =\\n',U)\n",
    "print('\\nMatrix R =\\n',R)"
   ],
   "metadata": {
    "collapsed": false,
    "ExecuteTime": {
     "end_time": "2024-01-24T15:52:47.795670Z",
     "start_time": "2024-01-24T15:52:47.710722300Z"
    }
   },
   "execution_count": 9
  },
  {
   "cell_type": "code",
   "outputs": [
    {
     "name": "stdout",
     "output_type": "stream",
     "text": [
      "dot product U^T*U == I, the columns are an orthonormal set: \n",
      " [[ 1.00000000e+00 -1.58953834e-16  7.71309326e-17]\n",
      " [-1.58953834e-16  1.00000000e+00 -8.02189320e-17]\n",
      " [ 7.71309326e-17 -8.02189320e-17  1.00000000e+00]]\n",
      "\n",
      "dot product U*U^T =/= I, the rows are not an orthonormal set: \n",
      " [[ 0.32352941 -0.41176471 -0.14705882  0.11764706  0.11764706]\n",
      " [-0.41176471  0.70588235 -0.17647059 -0.05882353 -0.05882353]\n",
      " [-0.14705882 -0.17647059  0.79411765 -0.23529412 -0.23529412]\n",
      " [ 0.11764706 -0.05882353 -0.23529412  0.58823529 -0.41176471]\n",
      " [ 0.11764706 -0.05882353 -0.23529412 -0.41176471  0.58823529]]\n",
      "\n",
      "Since the matrix is not square, only U^T*U is equal to the identity. If we compute U*U^T is different from the identity.\n",
      "U is NOT an orthogonal matrix. An easy way to check is computing the norm of the residuals.\n"
     ]
    }
   ],
   "source": [
    "print('dot product U^T*U == I, the columns are an orthonormal set: \\n', np.dot(U.T,U))\n",
    "print('\\ndot product U*U^T =/= I, the rows are not an orthonormal set: \\n', np.dot(U,U.T))\n",
    "print('\\nSince the matrix is not square, only U^T*U is equal to the identity. '\n",
    "      'If we compute U*U^T is different from the identity.\\nU is NOT an orthogonal matrix. '\n",
    "      'An easy way to check is computing the norm of the residuals.')"
   ],
   "metadata": {
    "collapsed": false,
    "ExecuteTime": {
     "end_time": "2024-01-24T15:52:48.092538Z",
     "start_time": "2024-01-24T15:52:48.024578100Z"
    }
   },
   "execution_count": 10
  },
  {
   "cell_type": "code",
   "outputs": [
    {
     "name": "stdout",
     "output_type": "stream",
     "text": [
      "||U^T*U - I|| = 2.960187663962567e-16\n",
      "||U*U^T - I|| = 1.4142135623730951\n"
     ]
    }
   ],
   "source": [
    "print('||U^T*U - I|| =', np.linalg.norm(np.dot(U.T,U)-np.eye(3)))\n",
    "print('||U*U^T - I|| =', np.linalg.norm(np.dot(U,U.T)-np.eye(5)))"
   ],
   "metadata": {
    "collapsed": false,
    "ExecuteTime": {
     "end_time": "2024-01-24T15:52:48.380386200Z",
     "start_time": "2024-01-24T15:52:48.329400400Z"
    }
   },
   "execution_count": 11
  },
  {
   "cell_type": "markdown",
   "source": [
    "#### Example 2"
   ],
   "metadata": {
    "collapsed": false
   }
  },
  {
   "cell_type": "code",
   "execution_count": 12,
   "metadata": {
    "ExecuteTime": {
     "end_time": "2024-01-24T15:52:48.908226400Z",
     "start_time": "2024-01-24T15:52:48.862255800Z"
    }
   },
   "outputs": [
    {
     "name": "stdout",
     "output_type": "stream",
     "text": [
      "Matrix A:\n",
      " [[ 1  0  4]\n",
      " [ 0  0  0]\n",
      " [ 0  1  1]\n",
      " [ 1 -1 -3]]\n"
     ]
    }
   ],
   "source": [
    "A = np.array( [[1, 0, 0, 1 ],[0,0,1,-1],[4,0,1,-3]])\n",
    "A=A.T\n",
    "print('Matrix A:\\n', A)"
   ]
  },
  {
   "cell_type": "code",
   "outputs": [
    {
     "name": "stdout",
     "output_type": "stream",
     "text": [
      "\n",
      "QR factorization of A using standard Gram-Schmidt procedure:\n",
      "Matrix U =\n",
      " [[ 0.70710678  0.40824829  0.57735027]\n",
      " [ 0.          0.          0.        ]\n",
      " [ 0.          0.81649658 -0.57735027]\n",
      " [ 0.70710678 -0.40824829 -0.57735027]]\n",
      "\n",
      "Matrix R =\n",
      " [[ 1.41421356 -0.70710678  0.70710678]\n",
      " [ 0.          1.22474487  3.67423461]\n",
      " [ 0.          0.          3.46410162]]\n"
     ]
    }
   ],
   "source": [
    "(U,R) = Gram_Schmidt(A)\n",
    "print('\\nQR factorization of A using standard Gram-Schmidt procedure:')\n",
    "print('Matrix U =\\n',U)\n",
    "print('\\nMatrix R =\\n',R)"
   ],
   "metadata": {
    "collapsed": false,
    "ExecuteTime": {
     "end_time": "2024-01-24T15:52:49.175268100Z",
     "start_time": "2024-01-24T15:52:49.128296400Z"
    }
   },
   "execution_count": 13
  },
  {
   "cell_type": "code",
   "outputs": [
    {
     "name": "stdout",
     "output_type": "stream",
     "text": [
      "dot product U^T*U == I, the columns are an orthonormal set: \n",
      " [[ 1.00000000e+00 -1.25760346e-16  1.39213053e-16]\n",
      " [-1.25760346e-16  1.00000000e+00 -2.14036242e-16]\n",
      " [ 1.39213053e-16 -2.14036242e-16  1.00000000e+00]]\n",
      "\n",
      "dot product U*U^T =/= I, the rows are not an orthonormal set: \n",
      " [[ 1.00000000e+00  0.00000000e+00 -1.72174929e-16 -9.09009624e-17]\n",
      " [ 0.00000000e+00  0.00000000e+00  0.00000000e+00  0.00000000e+00]\n",
      " [-1.72174929e-16  0.00000000e+00  1.00000000e+00 -1.22556038e-16]\n",
      " [-9.09009624e-17  0.00000000e+00 -1.22556038e-16  1.00000000e+00]]\n",
      "\n",
      "Since the matrix is not square, only U^T*U is equal to the identity. If we compute U*U^T is different from the identity.\n",
      "U is NOT an orthogonal matrix. An easy way to check is computing the norm of the residuals.\n"
     ]
    }
   ],
   "source": [
    "print('dot product U^T*U == I, the columns are an orthonormal set: \\n', np.dot(U.T,U))\n",
    "print('\\ndot product U*U^T =/= I, the rows are not an orthonormal set: \\n', np.dot(U,U.T))\n",
    "print('\\nSince the matrix is not square, only U^T*U is equal to the identity. '\n",
    "      'If we compute U*U^T is different from the identity.\\nU is NOT an orthogonal matrix. '\n",
    "      'An easy way to check is computing the norm of the residuals.')"
   ],
   "metadata": {
    "collapsed": false,
    "ExecuteTime": {
     "end_time": "2024-01-24T15:52:49.535061300Z",
     "start_time": "2024-01-24T15:52:49.470099200Z"
    }
   },
   "execution_count": 14
  },
  {
   "cell_type": "code",
   "execution_count": 15,
   "metadata": {
    "ExecuteTime": {
     "end_time": "2024-01-24T15:52:49.742295300Z",
     "start_time": "2024-01-24T15:52:49.686329300Z"
    }
   },
   "outputs": [
    {
     "name": "stdout",
     "output_type": "stream",
     "text": [
      "||U^T*U - I|| = 5.567102687959989e-16\n",
      "||U*U^T - I|| = 1.0\n"
     ]
    }
   ],
   "source": [
    "print('||U^T*U - I|| =', np.linalg.norm(np.dot(U.T,U)-np.eye(3)))\n",
    "print('||U*U^T - I|| =', np.linalg.norm(np.dot(U,U.T)-np.eye(4)))"
   ]
  },
  {
   "cell_type": "markdown",
   "source": [
    "#### Example 3"
   ],
   "metadata": {
    "collapsed": false
   }
  },
  {
   "cell_type": "code",
   "execution_count": 16,
   "metadata": {
    "ExecuteTime": {
     "end_time": "2024-01-24T15:52:50.104086800Z",
     "start_time": "2024-01-24T15:52:50.020134400Z"
    }
   },
   "outputs": [
    {
     "name": "stdout",
     "output_type": "stream",
     "text": [
      "Matrix A:\n",
      " [[ 1  0  4]\n",
      " [ 0  0  0]\n",
      " [ 0  1  1]\n",
      " [ 1 -1  3]]\n"
     ]
    }
   ],
   "source": [
    "A = np.array( [[1, 0, 0, 1 ],[0,0,1,-1],[4,0,1,3]])\n",
    "A=A.T\n",
    "print('Matrix A:\\n', A)"
   ]
  },
  {
   "cell_type": "code",
   "outputs": [
    {
     "name": "stdout",
     "output_type": "stream",
     "text": [
      "\n",
      "QR factorization of A using standard Gram-Schmidt procedure:\n",
      "Matrix U =\n",
      " [[ 0.70710678  0.40824829  0.80949051]\n",
      " [ 0.          0.          0.        ]\n",
      " [ 0.          0.81649658  0.231283  ]\n",
      " [ 0.70710678 -0.40824829  0.53966034]]\n",
      "\n",
      "Matrix R =\n",
      " [[ 1.41421356e+00 -7.07106781e-01  4.94974747e+00]\n",
      " [ 0.00000000e+00  1.22474487e+00  1.22474487e+00]\n",
      " [ 0.00000000e+00  0.00000000e+00  1.44008380e-15]]\n"
     ]
    }
   ],
   "source": [
    "(U,R) = Gram_Schmidt(A)\n",
    "print('\\nQR factorization of A using standard Gram-Schmidt procedure:')\n",
    "print('Matrix U =\\n',U)\n",
    "print('\\nMatrix R =\\n',R)"
   ],
   "metadata": {
    "collapsed": false,
    "ExecuteTime": {
     "end_time": "2024-01-24T15:52:50.309985Z",
     "start_time": "2024-01-24T15:52:50.261994900Z"
    }
   },
   "execution_count": 17
  },
  {
   "cell_type": "code",
   "execution_count": 18,
   "metadata": {
    "ExecuteTime": {
     "end_time": "2024-01-24T15:52:50.512222400Z",
     "start_time": "2024-01-24T15:52:50.468250300Z"
    }
   },
   "outputs": [
    {
     "name": "stdout",
     "output_type": "stream",
     "text": [
      "In this case we can check that in the matrix R we obtained 10e-15. Why?\n",
      "This happens because Gram-Schmidt works only if the set of vectors is linearly independent.\n",
      "We can check the rank to be sure that the matrix is not full-rank.\n",
      "Rank of A: 2\n"
     ]
    }
   ],
   "source": [
    "print('In this case we can check that in the matrix R we obtained 10e-15. Why?\\n'\n",
    "      'This happens because Gram-Schmidt works only if the set of vectors is linearly independent.\\n'\n",
    "      'We can check the rank to be sure that the matrix is not full-rank.')\n",
    "print('Rank of A:', np.linalg.matrix_rank(A))"
   ]
  },
  {
   "cell_type": "code",
   "outputs": [
    {
     "name": "stdout",
     "output_type": "stream",
     "text": [
      "dot product U^T*U =/= I, the columns are not an orthonormal set: \n",
      " [[ 1.00000000e+00 -1.25760346e-16  9.53993717e-01]\n",
      " [-1.25760346e-16  1.00000000e+00  2.98999487e-01]\n",
      " [ 9.53993717e-01  2.98999487e-01  1.00000000e+00]]\n",
      "\n",
      "dot product U*U^T =/= I, the rows are not an orthonormal set: \n",
      " [[ 1.32194156  0.          0.52055473  0.77018326]\n",
      " [ 0.          0.          0.          0.        ]\n",
      " [ 0.52055473  0.          0.72015849 -0.20851907]\n",
      " [ 0.77018326  0.         -0.20851907  0.95789995]]\n",
      "\n",
      "The matrix is not square and the set of vectors are not linearly independent.\n",
      "We are not able to retrieve the identity.\n",
      "An easy way to check is computing the norm of the residuals.\n"
     ]
    }
   ],
   "source": [
    "print('dot product U^T*U =/= I, the columns are not an orthonormal set: \\n', np.dot(U.T,U))\n",
    "print('\\ndot product U*U^T =/= I, the rows are not an orthonormal set: \\n', np.dot(U,U.T))\n",
    "print('\\nThe matrix is not square and the set of vectors are not linearly independent.\\nWe are not able to retrieve the identity.\\n'\n",
    "      'An easy way to check is computing the norm of the residuals.')"
   ],
   "metadata": {
    "collapsed": false,
    "ExecuteTime": {
     "end_time": "2024-01-24T15:52:50.914989800Z",
     "start_time": "2024-01-24T15:52:50.769074200Z"
    }
   },
   "execution_count": 19
  },
  {
   "cell_type": "code",
   "outputs": [
    {
     "name": "stdout",
     "output_type": "stream",
     "text": [
      "||U^T*U - I|| = 1.413863292754751\n",
      "||U*U^T - I|| = 1.731764825430782\n"
     ]
    }
   ],
   "source": [
    "print('||U^T*U - I|| =', np.linalg.norm(np.dot(U.T,U)-np.eye(3)))\n",
    "print('||U*U^T - I|| =', np.linalg.norm(np.dot(U,U.T)-np.eye(4)))"
   ],
   "metadata": {
    "collapsed": false,
    "ExecuteTime": {
     "end_time": "2024-01-24T15:52:51.060907400Z",
     "start_time": "2024-01-24T15:52:51.035920100Z"
    }
   },
   "execution_count": 20
  },
  {
   "cell_type": "markdown",
   "source": [
    "#### Example 4"
   ],
   "metadata": {
    "collapsed": false
   }
  },
  {
   "cell_type": "code",
   "execution_count": 21,
   "metadata": {
    "ExecuteTime": {
     "end_time": "2024-01-24T15:52:51.467004200Z",
     "start_time": "2024-01-24T15:52:51.402042Z"
    }
   },
   "outputs": [
    {
     "name": "stdout",
     "output_type": "stream",
     "text": [
      "Matrix B:\n",
      " [[0.44624462 0.8878012  0.85143176]\n",
      " [0.5441883  0.42121463 0.34588257]\n",
      " [0.75972005 0.34181836 0.34844856]]\n"
     ]
    }
   ],
   "source": [
    "B = np.random.rand(3,3)\n",
    "print('Matrix B:\\n', B)"
   ]
  },
  {
   "cell_type": "code",
   "outputs": [
    {
     "name": "stdout",
     "output_type": "stream",
     "text": [
      "\n",
      "QR factorization of B using standard Gram-Schmidt procedure:\n",
      "Matrix U =\n",
      " [[ 0.43090797  0.87564789  0.21808047]\n",
      " [ 0.52548549 -0.04702355 -0.84950208]\n",
      " [ 0.73360979 -0.48065534  0.48040309]]\n",
      "\n",
      "Matrix R =\n",
      " [[1.03559148 0.85466408 0.80427028]\n",
      " [0.         0.59329742 0.56180614]\n",
      " [0.         0.         0.05924844]]\n"
     ]
    }
   ],
   "source": [
    "(UB,RB) = Gram_Schmidt(B)\n",
    "print('\\nQR factorization of B using standard Gram-Schmidt procedure:')\n",
    "print('Matrix U =\\n',UB)\n",
    "print('\\nMatrix R =\\n',RB)"
   ],
   "metadata": {
    "collapsed": false,
    "ExecuteTime": {
     "end_time": "2024-01-24T15:52:51.734996600Z",
     "start_time": "2024-01-24T15:52:51.676028900Z"
    }
   },
   "execution_count": 22
  },
  {
   "cell_type": "code",
   "execution_count": 23,
   "metadata": {
    "ExecuteTime": {
     "end_time": "2024-01-24T15:52:51.942889700Z",
     "start_time": "2024-01-24T15:52:51.904912900Z"
    }
   },
   "outputs": [
    {
     "name": "stdout",
     "output_type": "stream",
     "text": [
      "dot product U^T*U == I: \n",
      " [[1.00000000e+00 3.33224059e-17 6.19683798e-16]\n",
      " [3.33224059e-17 1.00000000e+00 1.36581875e-15]\n",
      " [6.19683798e-16 1.36581875e-15 1.00000000e+00]]\n",
      "\n",
      "dot product U*U^T == I: \n",
      " [[ 1.00000000e+00 -1.17053314e-15  8.25450186e-16]\n",
      " [-1.17053314e-15  1.00000000e+00  3.04706413e-16]\n",
      " [ 8.25450186e-16  3.04706413e-16  1.00000000e+00]]\n"
     ]
    }
   ],
   "source": [
    "print('dot product U^T*U == I: \\n', np.dot(UB.T,UB))\n",
    "print('\\ndot product U*U^T == I: \\n', np.dot(UB,UB.T))"
   ]
  },
  {
   "cell_type": "code",
   "execution_count": 24,
   "metadata": {
    "ExecuteTime": {
     "end_time": "2024-01-24T15:52:52.257691700Z",
     "start_time": "2024-01-24T15:52:52.149753900Z"
    }
   },
   "outputs": [
    {
     "name": "stdout",
     "output_type": "stream",
     "text": [
      "B-np.dot(UB,RB):\n",
      " [[0. 0. 0.]\n",
      " [0. 0. 0.]\n",
      " [0. 0. 0.]]\n"
     ]
    }
   ],
   "source": [
    "print('B-np.dot(UB,RB):\\n', B-np.dot(UB,RB))"
   ]
  },
  {
   "cell_type": "markdown",
   "source": [
    "### QR decomposition using the Householder transformation\n",
    "We use the implemented method in a lapack library, written in Fortran.\n"
   ],
   "metadata": {
    "collapsed": false
   }
  },
  {
   "cell_type": "markdown",
   "source": [
    "#### Example 1"
   ],
   "metadata": {
    "collapsed": false
   }
  },
  {
   "cell_type": "code",
   "execution_count": 25,
   "metadata": {
    "ExecuteTime": {
     "end_time": "2024-01-24T15:52:53.146186400Z",
     "start_time": "2024-01-24T15:52:53.072230500Z"
    }
   },
   "outputs": [
    {
     "name": "stdout",
     "output_type": "stream",
     "text": [
      "\n",
      "QR factorization of B using Householder transformation:\n",
      "Matrix Q =\n",
      " [[-0.43090797  0.87564789  0.21808047]\n",
      " [-0.52548549 -0.04702355 -0.84950208]\n",
      " [-0.73360979 -0.48065534  0.48040309]]\n",
      "\n",
      "Matrix R =\n",
      " [[-1.03559148 -0.85466408 -0.80427028]\n",
      " [ 0.          0.59329742  0.56180614]\n",
      " [ 0.          0.          0.05924844]]\n"
     ]
    }
   ],
   "source": [
    "(Q,R)=np.linalg.qr(B)\n",
    "print('\\nQR factorization of B using Householder transformation:')\n",
    "print('Matrix Q =\\n',Q)\n",
    "print('\\nMatrix R =\\n',R)"
   ]
  },
  {
   "cell_type": "code",
   "execution_count": 26,
   "metadata": {
    "ExecuteTime": {
     "end_time": "2024-01-24T15:52:53.371056400Z",
     "start_time": "2024-01-24T15:52:53.307093600Z"
    }
   },
   "outputs": [
    {
     "name": "stdout",
     "output_type": "stream",
     "text": [
      "The QR decomposition of the matrix B using the Gram-Schmidt procedure gives the\n",
      "the same values with different sign. So the QR decomposition is not totally unique.\n",
      "Sometimes the sign could be different but the values are the same.\n",
      "\n",
      "Matrix U =\n",
      " [[ 0.43090797  0.87564789  0.21808047]\n",
      " [ 0.52548549 -0.04702355 -0.84950208]\n",
      " [ 0.73360979 -0.48065534  0.48040309]]\n",
      "\n",
      "Matrix R =\n",
      " [[1.03559148 0.85466408 0.80427028]\n",
      " [0.         0.59329742 0.56180614]\n",
      " [0.         0.         0.05924844]]\n"
     ]
    }
   ],
   "source": [
    "print('The QR decomposition of the matrix B using the Gram-Schmidt procedure gives the\\n'\n",
    "      'the same values with different sign. So the QR decomposition is not totally unique.\\n'\n",
    "      'Sometimes the sign could be different but the values are the same.\\n')\n",
    "print('Matrix U =\\n',UB)\n",
    "print('\\nMatrix R =\\n',RB)"
   ]
  },
  {
   "cell_type": "markdown",
   "source": [
    "#### Example 2\n",
    "In this example, we use again the matrix A, which wasn't full rank to show that the QR decomposition using the Householder transformation works also with matrix that has not full rank."
   ],
   "metadata": {
    "collapsed": false
   }
  },
  {
   "cell_type": "code",
   "execution_count": 27,
   "metadata": {
    "ExecuteTime": {
     "end_time": "2024-01-24T15:52:54.079118300Z",
     "start_time": "2024-01-24T15:52:54.021152700Z"
    }
   },
   "outputs": [
    {
     "name": "stdout",
     "output_type": "stream",
     "text": [
      "\n",
      "QR factorization (Thin QR) of A using Householder transformation:\n",
      "Matrix Q =\n",
      " [[-0.70710678 -0.40824829 -0.09763107]\n",
      " [-0.          0.          0.98559856]\n",
      " [-0.         -0.81649658  0.09763107]\n",
      " [-0.70710678  0.40824829  0.09763107]]\n",
      "\n",
      "Matrix R =\n",
      " [[-1.41421356e+00  7.07106781e-01 -4.94974747e+00]\n",
      " [ 0.00000000e+00 -1.22474487e+00 -1.22474487e+00]\n",
      " [ 0.00000000e+00  0.00000000e+00  3.14018492e-16]]\n"
     ]
    }
   ],
   "source": [
    "(Q,R)=np.linalg.qr(A)\n",
    "print('\\nQR factorization (Thin QR) of A using Householder transformation:')\n",
    "print('Matrix Q =\\n',Q)\n",
    "print('\\nMatrix R =\\n',R)"
   ]
  },
  {
   "cell_type": "code",
   "execution_count": 28,
   "metadata": {
    "ExecuteTime": {
     "end_time": "2024-01-24T15:52:54.568225200Z",
     "start_time": "2024-01-24T15:52:54.511259100Z"
    }
   },
   "outputs": [
    {
     "name": "stdout",
     "output_type": "stream",
     "text": [
      "dot product Q^T*Q == I: \n",
      " [[ 1.00000000e+00 -4.72557231e-17 -2.13246765e-17]\n",
      " [-4.72557231e-17  1.00000000e+00 -2.86325893e-16]\n",
      " [-2.13246765e-17 -2.86325893e-16  1.00000000e+00]]\n"
     ]
    }
   ],
   "source": [
    "print('dot product Q^T*Q == I: \\n', np.dot(Q.T,Q))"
   ]
  },
  {
   "cell_type": "markdown",
   "source": [
    "### QR decomposition with pivoting"
   ],
   "metadata": {
    "collapsed": false
   }
  },
  {
   "cell_type": "markdown",
   "source": [
    "#### Example 1"
   ],
   "metadata": {
    "collapsed": false
   }
  },
  {
   "cell_type": "code",
   "execution_count": 29,
   "metadata": {
    "ExecuteTime": {
     "end_time": "2024-01-24T15:52:55.803191600Z",
     "start_time": "2024-01-24T15:52:55.708240600Z"
    }
   },
   "outputs": [
    {
     "name": "stdout",
     "output_type": "stream",
     "text": [
      "\n",
      "QR factorization of A using pivoting:\n",
      "Matrix Q =\n",
      " [[-0.78446454 -0.22645541 -0.44323528 -0.36996732]\n",
      " [-0.          0.          0.64080219 -0.76770603]\n",
      " [-0.19611614 -0.79259392  0.44323528  0.36996732]\n",
      " [-0.58834841  0.56613852  0.44323528  0.36996732]]\n",
      "\n",
      "Matrix R =\n",
      " [[-5.09901951e+00  3.92232270e-01 -1.37281295e+00]\n",
      " [ 0.00000000e+00 -1.35873244e+00  3.39683110e-01]\n",
      " [ 0.00000000e+00  0.00000000e+00 -8.32667268e-17]\n",
      " [ 0.00000000e+00  0.00000000e+00  0.00000000e+00]]\n",
      "\n",
      "Permutation vector P = [2 1 0]\n"
     ]
    }
   ],
   "source": [
    "[Qp,Rp,Pp]=spl.qr(A,pivoting=True)\n",
    "print('\\nQR factorization of A using pivoting:')\n",
    "print('Matrix Q =\\n',Qp)\n",
    "print('\\nMatrix R =\\n',Rp)\n",
    "print('\\nPermutation vector P =', Pp)"
   ]
  },
  {
   "cell_type": "markdown",
   "source": [
    "#### Example 2"
   ],
   "metadata": {
    "collapsed": false
   }
  },
  {
   "cell_type": "code",
   "execution_count": 30,
   "metadata": {
    "ExecuteTime": {
     "end_time": "2024-01-24T15:52:56.448177300Z",
     "start_time": "2024-01-24T15:52:56.388212600Z"
    }
   },
   "outputs": [
    {
     "name": "stdout",
     "output_type": "stream",
     "text": [
      "Matrix A:\n",
      " [[1.e+00 1.e+00 1.e+00]\n",
      " [1.e-16 1.e-16 0.e+00]\n",
      " [1.e-16 0.e+00 1.e-16]]\n"
     ]
    }
   ],
   "source": [
    "AT = np.array([[1, 1e-16,1e-16],[1, 1e-16, 0], [1, 0, 1e-16]])\n",
    "A = AT.T\n",
    "print('Matrix A:\\n', A)"
   ]
  },
  {
   "cell_type": "code",
   "outputs": [
    {
     "name": "stdout",
     "output_type": "stream",
     "text": [
      "Matrix Q =\n",
      " [[-0.70710678 -0.40824829 -0.09763107]\n",
      " [-0.          0.          0.98559856]\n",
      " [-0.         -0.81649658  0.09763107]\n",
      " [-0.70710678  0.40824829  0.09763107]]\n",
      "\n",
      "Matrix R =\n",
      " [[ 1.00000000e+00  1.00000000e+00  1.00000000e+00]\n",
      " [ 0.00000000e+00  1.00000000e-16 -1.00000000e-16]\n",
      " [ 0.00000000e+00  0.00000000e+00  1.41421356e-16]]\n",
      "\n",
      "||U*R-A|| = 3.758512058236175e-33\n",
      "||U^T*U-I|| = 0.7071067811865477\n",
      "||U*U^T-I|| = 0.7071067811865476\n"
     ]
    }
   ],
   "source": [
    "(U,R) = Gram_Schmidt(A)\n",
    "print('Matrix Q =\\n',Q)\n",
    "print('\\nMatrix R =\\n',R)\n",
    "print('\\n||U*R-A|| =', np.linalg.norm(np.dot(U,R)-A,2))\n",
    "print('||U^T*U-I|| =',np.linalg.norm(np.dot(U.T,U)-np.eye(3),2))\n",
    "print('||U*U^T-I|| =',np.linalg.norm(np.dot(U,U.T)-np.eye(3),2))"
   ],
   "metadata": {
    "ExecuteTime": {
     "end_time": "2024-01-24T15:52:56.828240100Z",
     "start_time": "2024-01-24T15:52:56.781271200Z"
    }
   },
   "execution_count": 31
  },
  {
   "cell_type": "code",
   "outputs": [
    {
     "name": "stdout",
     "output_type": "stream",
     "text": [
      "dot product U^T*U =\\= I: \n",
      " [[ 1.00000000e+00 -1.00000000e-16 -1.41421356e-16]\n",
      " [-1.00000000e-16  1.00000000e+00  7.07106781e-01]\n",
      " [-1.41421356e-16  7.07106781e-01  1.00000000e+00]]\n",
      "\n",
      "dot product U*U^T =\\= I: \n",
      " [[1.0e+00 1.0e-16 1.0e-16]\n",
      " [1.0e-16 5.0e-01 5.0e-01]\n",
      " [1.0e-16 5.0e-01 1.5e+00]]\n"
     ]
    }
   ],
   "source": [
    "print('dot product U^T*U =\\= I: \\n', np.dot(U.T,U))\n",
    "print('\\ndot product U*U^T =\\= I: \\n', np.dot(U,U.T))"
   ],
   "metadata": {
    "ExecuteTime": {
     "end_time": "2024-01-24T15:52:57.340009300Z",
     "start_time": "2024-01-24T15:52:57.269052600Z"
    }
   },
   "execution_count": 32
  },
  {
   "cell_type": "markdown",
   "source": [
    "### QR decomposition using Modified Gram-Schmidt procedure"
   ],
   "metadata": {
    "collapsed": false
   }
  },
  {
   "cell_type": "code",
   "execution_count": 33,
   "metadata": {
    "ExecuteTime": {
     "end_time": "2024-01-24T15:52:58.524182300Z",
     "start_time": "2024-01-24T15:52:58.459834500Z"
    }
   },
   "outputs": [],
   "source": [
    "def Modified_Gram_Schmidt(X):\n",
    "    (m,n) = X.shape\n",
    "    U = np.copy(X)\n",
    "    R = np.zeros((n,n))\n",
    "   \n",
    "    R[0,0]= np.linalg.norm(U[:,0],2) \n",
    "    U[:,0] = U[:,0]/R[0,0] #  orthonormal vectors\n",
    "\n",
    "    for i in range(1,n):# loop on the columns, the vectors are linearly independent\n",
    "        for j in range(i,n):\n",
    "            R[i-1,j] = np.inner(U[:,j], U[:,i-1])\n",
    "            U[:,j] = U[:,j] - R[i-1,j]*U[:,i-1]\n",
    "        R[i,i]= np.linalg.norm(U[:,i],2) \n",
    "        U[:,i] = U[:,i]/R[i,i] # orthonormal vectors\n",
    "       \n",
    "    return (U,R)"
   ]
  },
  {
   "cell_type": "markdown",
   "source": [
    "#### Example 1 \n",
    "We will compute the QR decomposition again on the matrix A, for which the QR decomposition using the Standard Gram-Schmidt doesn't work. Now we want to show that using the Modified Gram-Schmidt everything works well."
   ],
   "metadata": {
    "collapsed": false
   }
  },
  {
   "cell_type": "code",
   "execution_count": 34,
   "metadata": {
    "ExecuteTime": {
     "end_time": "2024-01-24T15:53:00.281510800Z",
     "start_time": "2024-01-24T15:53:00.141376100Z"
    }
   },
   "outputs": [
    {
     "name": "stdout",
     "output_type": "stream",
     "text": [
      "Matrix Q =\n",
      " [[-0.70710678 -0.40824829 -0.09763107]\n",
      " [-0.          0.          0.98559856]\n",
      " [-0.         -0.81649658  0.09763107]\n",
      " [-0.70710678  0.40824829  0.09763107]]\n",
      "\n",
      "Matrix R =\n",
      " [[1.e+00 1.e+00 1.e+00]\n",
      " [0.e+00 1.e-16 0.e+00]\n",
      " [0.e+00 0.e+00 1.e-16]]\n",
      "\n",
      "||U*R-A|| = 0.0\n",
      "||U^T*U-I|| = 1.4142135623730949e-16\n",
      "||U*U^T-I|| = 1.4142135623730949e-16\n"
     ]
    }
   ],
   "source": [
    "(U,R) = Modified_Gram_Schmidt(A)\n",
    "print('Matrix Q =\\n',Q)\n",
    "print('\\nMatrix R =\\n',R)\n",
    "print('\\n||U*R-A|| =', np.linalg.norm(np.dot(U,R)-A,2))\n",
    "print('||U^T*U-I|| =',np.linalg.norm(np.dot(U.T,U)-np.eye(3),2))\n",
    "print('||U*U^T-I|| =',np.linalg.norm(np.dot(U,U.T)-np.eye(3),2))"
   ]
  },
  {
   "cell_type": "code",
   "execution_count": 35,
   "metadata": {
    "ExecuteTime": {
     "end_time": "2024-01-24T15:53:01.115167400Z",
     "start_time": "2024-01-24T15:53:01.029154300Z"
    }
   },
   "outputs": [
    {
     "name": "stdout",
     "output_type": "stream",
     "text": [
      "dot product U^T*U == I: \n",
      " [[ 1.e+00 -1.e-16 -1.e-16]\n",
      " [-1.e-16  1.e+00  0.e+00]\n",
      " [-1.e-16  0.e+00  1.e+00]]\n",
      "\n",
      "A-np.dot(U,R): \n",
      " [[0. 0. 0.]\n",
      " [0. 0. 0.]\n",
      " [0. 0. 0.]]\n"
     ]
    }
   ],
   "source": [
    "print('dot product U^T*U == I: \\n', np.dot(U.T,U))\n",
    "print('\\nA-np.dot(U,R): \\n', A-np.dot(U,R))"
   ]
  },
  {
   "cell_type": "markdown",
   "source": [
    "#### Example 2\n",
    "Now we take a random matrix, and we compare the QR decomposition obtained using both Standard and Modified Gram-Schmidt. Since the matrix is random and the columns are linearly independent, then both methods work well."
   ],
   "metadata": {
    "collapsed": false
   }
  },
  {
   "cell_type": "code",
   "execution_count": 36,
   "metadata": {
    "ExecuteTime": {
     "end_time": "2024-01-24T15:53:03.103964100Z",
     "start_time": "2024-01-24T15:53:03.037990900Z"
    }
   },
   "outputs": [
    {
     "name": "stdout",
     "output_type": "stream",
     "text": [
      "\n",
      "QR factorization of A using Modified Gram-Schmidt procedure:\n",
      "||U*R-A|| = 1.914133529053818e-16\n",
      "||U^T*U-I|| = 1.1587736454813618e-15\n",
      "||U*U^T-I|| = 1.2163276376319542e-15\n",
      "\n",
      "QR factorization of A using Standard Gram-Schmidt procedure:\n",
      "||U*R-A|| = 1.5954035382302117e-16\n",
      "||U^T*U-I|| = 4.579167374730279e-15\n",
      "||U*U^T-I|| = 4.6818936560712015e-15\n"
     ]
    }
   ],
   "source": [
    "A=np.random.rand(6,6)\n",
    "print('\\nQR factorization of A using Modified Gram-Schmidt procedure:')\n",
    "(U,R) = Modified_Gram_Schmidt(A)\n",
    "print('||U*R-A|| =', np.linalg.norm(np.dot(U,R)-A,2))\n",
    "print('||U^T*U-I|| =',np.linalg.norm(np.dot(U.T,U)-np.eye(6),2))\n",
    "print('||U*U^T-I|| =',np.linalg.norm(np.dot(U,U.T)-np.eye(6),2))\n",
    "\n",
    "print('\\nQR factorization of A using Standard Gram-Schmidt procedure:')\n",
    "(U,R) = Gram_Schmidt(A)\n",
    "print('||U*R-A|| =', np.linalg.norm(np.dot(U,R)-A,2))\n",
    "print('||U^T*U-I|| =',np.linalg.norm(np.dot(U.T,U)-np.eye(6),2))\n",
    "print('||U*U^T-I|| =',np.linalg.norm(np.dot(U,U.T)-np.eye(6),2))"
   ]
  }
 ],
 "metadata": {
  "anaconda-cloud": {},
  "kernelspec": {
   "display_name": "Python 3 (ipykernel)",
   "language": "python",
   "name": "python3"
  },
  "language": "fsharp",
  "language_info": {
   "codemirror_mode": {
    "name": "ipython",
    "version": 3
   },
   "file_extension": ".py",
   "mimetype": "text/x-python",
   "name": "python",
   "nbconvert_exporter": "python",
   "pygments_lexer": "ipython3",
   "version": "3.8.8"
  }
 },
 "nbformat": 4,
 "nbformat_minor": 4
}
