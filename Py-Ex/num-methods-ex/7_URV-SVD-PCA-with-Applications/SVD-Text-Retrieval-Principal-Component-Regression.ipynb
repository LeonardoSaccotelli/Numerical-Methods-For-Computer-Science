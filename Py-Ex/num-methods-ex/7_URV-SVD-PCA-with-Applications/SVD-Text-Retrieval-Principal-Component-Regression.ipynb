{
 "cells": [
  {
   "cell_type": "markdown",
   "source": [
    "## Text Retrieval with SVD: Principal Component Regression\n",
    "In this notebook with show how to apply the SVD in the context of text retrieval. "
   ],
   "metadata": {}
  },
  {
   "cell_type": "markdown",
   "source": [
    "## Import libraries"
   ],
   "metadata": {
    "collapsed": false
   }
  },
  {
   "cell_type": "code",
   "outputs": [],
   "source": [
    "import numpy as np\n",
    "import matplotlib.pyplot as plt"
   ],
   "metadata": {
    "collapsed": false,
    "ExecuteTime": {
     "end_time": "2024-02-21T20:47:54.503496100Z",
     "start_time": "2024-02-21T20:47:52.536929600Z"
    }
   },
   "execution_count": 1
  },
  {
   "cell_type": "markdown",
   "source": [
    "## Principal component regression"
   ],
   "metadata": {
    "collapsed": false
   }
  },
  {
   "cell_type": "markdown",
   "source": [
    "The minimal norm solution of $\\| Ax -b \\|$ is given byb\n",
    "\n",
    "$$\n",
    "\\sum_{i=1}^r \\frac{u^T_i b}{ \\sigma_i}v_i\n",
    "$$\n",
    "If the smallest singular values are tiny, that is the numerical rank is not the same as the theoretical one, we look for the solution in a subspace of dimension $k$. If we use as a basis for this subspace the first $k$ vector of $v_i$ the solution is \n",
    "\n",
    "$$\n",
    "\\sum_{i=1}^k \\frac{u^T_i b}{ \\sigma_i}v_i\n",
    "$$\n",
    "\n",
    "It is useful to find the minimal value of $k$ that make the residual reduction sufficiently small. This algorithm is called Principal Component Regression\n",
    "\n",
    "We show an example taken form the book of Larns Elden \"Matrix Methods in Data Mining and Pattern Recognition\", SIAM, 2007."
   ],
   "metadata": {
    "collapsed": false
   }
  },
  {
   "cell_type": "markdown",
   "source": [
    "Term-document matrices are used in information retrieval. Consider the following selection of five documents. Keywords, which we call terms, are marked in boldface.\n",
    "\n",
    "<b>Document:</b>\n",
    "Document 1: The <b> Google </b>  <b> matrix </b> $P$ is a model of the <b> Internet</b>.\n",
    "Document 2: $P_{ij}$ is nonzero if there is a <b>link</b> from <b> Web  page</b> j to i.\n",
    "Document 3: The <b>Google</b>  <b>matrix</b> is used to rank all <b> Web pages</b>.\n",
    "Document 4: The <b>ranking</b> is done by solving a <b>matrix</b>  <b>eigenvalue</b> problem.\n",
    "Document 5: <b>England</b> dropped out of the top 10 in the <b>FIFA</b> ranking.\n",
    "    \n",
    "<b>Term<b>:\n",
    "\n",
    "1. eigenvalue \n",
    "2. England \n",
    "3. FIFA \n",
    "4. Google \n",
    "5. Internet \n",
    "6. link \n",
    "7. matrix \n",
    "8. page \n",
    "9. rank \n",
    "10. Web"
   ],
   "metadata": {
    "collapsed": false
   }
  },
  {
   "cell_type": "markdown",
   "source": [
    "We define the associated matrix."
   ],
   "metadata": {
    "collapsed": false
   }
  },
  {
   "cell_type": "code",
   "execution_count": 2,
   "metadata": {
    "tags": [],
    "ExecuteTime": {
     "end_time": "2024-02-21T20:48:38.348542700Z",
     "start_time": "2024-02-21T20:48:38.328553200Z"
    }
   },
   "outputs": [],
   "source": [
    "A = np.array([\n",
    "[0, 0, 0, 1, 0],\n",
    "[0, 0, 0, 0, 1],\n",
    "[0, 0, 0, 0, 1],\n",
    "[1, 0, 1, 0, 0],\n",
    "[1, 0, 0, 0, 0],\n",
    "[0, 1, 0, 0, 0],\n",
    "[1, 0, 1, 1, 0],\n",
    "[0, 1, 1, 0, 0],\n",
    "[0, 0, 1, 1, 1],\n",
    "[0, 1, 1, 0, 0]])"
   ]
  },
  {
   "cell_type": "markdown",
   "metadata": {},
   "source": [
    "We have two query vectors:\n",
    "\n",
    "$q_1$ “contains Google terms\"\n",
    "\n",
    "$q_2$ terms are related only to the “football document.”\n",
    "    "
   ]
  },
  {
   "cell_type": "code",
   "execution_count": 3,
   "metadata": {
    "tags": [],
    "ExecuteTime": {
     "end_time": "2024-02-21T20:48:41.317956Z",
     "start_time": "2024-02-21T20:48:41.290970900Z"
    }
   },
   "outputs": [],
   "source": [
    "q1 = np.array([ \n",
    "[0],\n",
    "[0],\n",
    "[0],\n",
    "[0],\n",
    "[0],\n",
    "[0],\n",
    "[0],\n",
    "[1],\n",
    "[1],\n",
    "[1]])\n",
    "\n",
    "q2 = np.array([ \n",
    "[0],\n",
    "[1],\n",
    "[1],\n",
    "[0],\n",
    "[0],\n",
    "[0],\n",
    "[0],\n",
    "[0],\n",
    "[0],\n",
    "[0]])"
   ]
  },
  {
   "cell_type": "markdown",
   "source": [
    "Compute the SVD saving only the necessary information."
   ],
   "metadata": {
    "collapsed": false
   }
  },
  {
   "cell_type": "code",
   "execution_count": 4,
   "metadata": {
    "tags": [],
    "ExecuteTime": {
     "end_time": "2024-02-21T20:49:06.253833400Z",
     "start_time": "2024-02-21T20:49:05.935552500Z"
    }
   },
   "outputs": [
    {
     "name": "stdout",
     "output_type": "stream",
     "text": [
      "singular values =  [2.85464601 1.88228579 1.73205081 1.2603301  0.84827142]\n",
      "solution vector = \n",
      "[[-4.44444444e-01]\n",
      " [ 2.22222222e-01]\n",
      " [ 6.66666667e-01]\n",
      " [ 6.38378239e-16]\n",
      " [ 1.11111111e-01]]\n",
      "[[ 3.70237707e-01  2.91238553e-01  7.49794211e-01  4.06766946e-01\n",
      "   2.24618430e-01]\n",
      " [-1.39281795e-01  7.02967348e-01  1.90855565e-01 -4.57341116e-01\n",
      "  -4.90765469e-01]\n",
      " [-6.66666667e-01  3.33333333e-01  6.66133815e-16 -8.32667268e-16\n",
      "   6.66666667e-01]\n",
      " [-4.72205185e-01  4.36045597e-02 -3.07754012e-02  7.28100546e-01\n",
      "  -4.94007465e-01]\n",
      " [-4.19645613e-01 -5.54981571e-01  6.32799865e-01 -3.08624936e-01\n",
      "  -1.42154828e-01]]\n"
     ]
    }
   ],
   "source": [
    "U, s, V = np.linalg.svd(A, full_matrices=False)\n",
    "print('singular values = ',s)\n",
    "\n",
    "xT = np.dot(V[0:5,:].T,(np.dot(q1.T, U[:,0:5])/s[0:5]).T)\n",
    "print('solution vector = ')\n",
    "print(xT)\n",
    "print(V)"
   ]
  },
  {
   "cell_type": "code",
   "execution_count": 5,
   "metadata": {
    "tags": [],
    "ExecuteTime": {
     "end_time": "2024-02-21T20:49:19.020929Z",
     "start_time": "2024-02-21T20:49:18.998922300Z"
    }
   },
   "outputs": [
    {
     "name": "stdout",
     "output_type": "stream",
     "text": [
      "q1  coordinates  in terms of the first five left singular vectors of U\n",
      "[[1.213196  ]\n",
      " [0.54741677]\n",
      " [0.76980036]\n",
      " [0.18167938]\n",
      " [0.39805265]]\n",
      "\n",
      "q2  coordinates  in terms of the first five left singular vectors of U\n",
      "[[ 0.15737043]\n",
      " [-0.52145691]\n",
      " [ 0.76980036]\n",
      " [-0.78393345]\n",
      " [-0.33516354]]\n"
     ]
    }
   ],
   "source": [
    "print('q1  coordinates  in terms of the first five left singular vectors of U')\n",
    "print(np.dot( U[:,0:5].T ,q1))\n",
    "print('\\nq2  coordinates  in terms of the first five left singular vectors of U')\n",
    "print(np.dot( U[:,0:5].T ,q2))"
   ]
  },
  {
   "cell_type": "code",
   "execution_count": 6,
   "metadata": {
    "tags": [],
    "ExecuteTime": {
     "end_time": "2024-02-21T20:49:21.112771700Z",
     "start_time": "2024-02-21T20:49:21.060789100Z"
    }
   },
   "outputs": [],
   "source": [
    "# residual of the two vectors changing k\n",
    "res1=np.zeros((6,1)) \n",
    "res2=np.zeros((6,1))\n",
    "nq1 = np.linalg.norm(q1,2)\n",
    "nq2 = np.linalg.norm(q2,2)\n",
    "for i in range(0,6):\n",
    "   # xT1 = np.dot(V[0:i,:].T, np.dot( np.diag(1/s[0:i]),np.dot( U[:,0:i].T ,q1) ))\n",
    "    xT1 = np.dot(V[0:i,:].T,(np.dot( q1.T, U[:,0:i])/s[0:i]).T)\n",
    "    res1[i] = np.linalg.norm( np.dot(A,xT1)-q1,2)/nq1\n",
    "   # xT2 = np.dot(V[0:i,:].T, np.dot( np.diag(1/s[0:i]),np.dot( U[:,0:i].T ,q2) ))\n",
    "    xT2 = np.dot(V[0:i,:].T,(np.dot( q2.T, U[:,0:i])/s[0:i]).T)\n",
    "    res2[i] = np.linalg.norm( np.dot(A,xT2)-q2,2)/nq2"
   ]
  },
  {
   "cell_type": "code",
   "outputs": [
    {
     "data": {
      "text/plain": "<Figure size 640x480 with 1 Axes>",
      "image/png": "[encoded data removed]"
     },
     "metadata": {},
     "output_type": "display_data"
    }
   ],
   "source": [
    "plt.plot(res1,'-o')\n",
    "plt.plot(res2,'-*')\n",
    "plt.xlabel('Truncation index')\n",
    "plt.ylabel('Relative residual')\n",
    "plt.legend(['res query 1', 'res query 2'])\n",
    "plt.show()"
   ],
   "metadata": {
    "collapsed": false,
    "ExecuteTime": {
     "end_time": "2024-02-21T20:49:26.035710500Z",
     "start_time": "2024-02-21T20:49:24.993031800Z"
    }
   },
   "execution_count": 7
  },
  {
   "cell_type": "markdown",
   "source": [
    "If we want to reduce the relative residual to under 0.7 in this example, then we should choose k = 2 for $q_1$ and k = 4 for $q_2$."
   ],
   "metadata": {}
  }
 ],
 "metadata": {
  "kernelspec": {
   "display_name": "Python 3 (ipykernel)",
   "language": "python",
   "name": "python3"
  },
  "language_info": {
   "codemirror_mode": {
    "name": "ipython",
    "version": 3
   },
   "file_extension": ".py",
   "mimetype": "text/x-python",
   "name": "python",
   "nbconvert_exporter": "python",
   "pygments_lexer": "ipython3",
   "version": "3.8.8"
  },
  "vscode": {
   "interpreter": {
    "hash": "43a926e0604d0ceade578535214cf82cece3fdeaebd110f5fd1212ea96e5f67b"
   }
  }
 },
 "nbformat": 4,
 "nbformat_minor": 4
}
