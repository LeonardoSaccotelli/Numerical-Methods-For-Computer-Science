{
 "cells": [
  {
   "cell_type": "markdown",
   "metadata": {},
   "source": [
    "# Linear classifier: Steepest descend algorithm and Perceptron\n",
    "Our model describes a linear classifier that divides the coordinate plane into two halves,\n",
    "the line in the example is y=x.\n",
    "We want to learn a parameter vector such that our model make the right prediction.\n",
    "This model is called a linear perceptron.\n",
    "The cost function minimize the distance in the two norm."
   ]
  },
  {
   "cell_type": "code",
   "metadata": {
    "ExecuteTime": {
     "end_time": "2024-07-17T21:06:48.017673Z",
     "start_time": "2024-07-17T21:06:47.065042Z"
    }
   },
   "source": [
    "import numpy as np\n",
    "import scipy.optimize\n",
    "import matplotlib.pyplot"
   ],
   "outputs": [],
   "execution_count": 1
  },
  {
   "metadata": {},
   "cell_type": "markdown",
   "source": [
    "Let's first define the activation function that we will use in our linear classifier\n",
    "$$\n",
    "f(t) = \\frac{1-e^{-t}}{1+e^{-t}}\n",
    "$$"
   ]
  },
  {
   "metadata": {
    "ExecuteTime": {
     "end_time": "2024-07-17T21:06:48.033680Z",
     "start_time": "2024-07-17T21:06:48.019661Z"
    }
   },
   "cell_type": "code",
   "source": [
    "def activation(t): \n",
    "    return (1-np.exp(-t))/(1+np.exp(-t))"
   ],
   "outputs": [],
   "execution_count": 2
  },
  {
   "metadata": {},
   "cell_type": "markdown",
   "source": [
    "Then, we can define how a single neuron works.\n",
    "$$\n",
    "neuron = f(\\textbf{w}^T\\textbf{x}+b)\n",
    "$$"
   ]
  },
  {
   "cell_type": "code",
   "metadata": {
    "ExecuteTime": {
     "end_time": "2024-07-17T21:06:48.218650Z",
     "start_time": "2024-07-17T21:06:48.036652Z"
    }
   },
   "source": [
    "def neuron(w, b, x):\n",
    "    return activation(np.inner(w,x)+b)"
   ],
   "outputs": [],
   "execution_count": 3
  },
  {
   "metadata": {},
   "cell_type": "markdown",
   "source": "Define some training samples with the labels. After that, we will generate a larger training data with 2 features and 100 samples."
  },
  {
   "cell_type": "code",
   "metadata": {
    "ExecuteTime": {
     "end_time": "2024-07-17T21:06:48.313112Z",
     "start_time": "2024-07-17T21:06:48.222628Z"
    }
   },
   "source": [
    "#Train the neuron with some good data\n",
    "data = np.array([\n",
    "    [[1,1.5],+1],\n",
    "    [[3,4],+1],\n",
    "    [[4,3],-1],\n",
    "    [[1.5,1],-1]], dtype=object)\n",
    "print('first data', data[0,0], 'Label',data[0,1])\n",
    "print('second data', data[2,0],  'Label',data[2,1])\n",
    "dataset = np.random.randn(100,2) #random distribution of normal distributed points"
   ],
   "outputs": [
    {
     "name": "stdout",
     "output_type": "stream",
     "text": [
      "first data [1, 1.5] Label 1\n",
      "second data [4, 3] Label -1\n"
     ]
    }
   ],
   "execution_count": 4
  },
  {
   "metadata": {},
   "cell_type": "markdown",
   "source": [
    "Define the cost function (also called objective or loss function). The parameter theta passed as input is a vector with this shape\n",
    "$$\n",
    "\\theta = \\begin{bmatrix}\n",
    "w_0 \\\\\n",
    "w_1 \\\\\n",
    "\\beta\n",
    "\\end{bmatrix}\n",
    "$$\n",
    "So, it contains the parameters that should be learned. The loss function is just \n",
    "$$\n",
    "\\frac{1}{2}\\sum_{k=1}^{n}(f(\\textbf{w}^T\\textbf{x}+b) - y_k)^2\n",
    "$$"
   ]
  },
  {
   "cell_type": "code",
   "metadata": {
    "ExecuteTime": {
     "end_time": "2024-07-17T21:06:48.468316Z",
     "start_time": "2024-07-17T21:06:48.315098Z"
    }
   },
   "source": [
    "def cost(theta):\n",
    "    w=theta[0:2]\n",
    "    b=theta[2]\n",
    "    c=0\n",
    "    for k in range(len(data)):\n",
    "        #error between the computed output and the real output\n",
    "        c +=(neuron(w,b,data[k,0])-data[k,1])**2\n",
    "    return c/2"
   ],
   "outputs": [],
   "execution_count": 5
  },
  {
   "metadata": {},
   "cell_type": "markdown",
   "source": [
    "Our aim now is to find the minimum of our cost function. We will use the package scipy.optimize, which contains a lot of optimization algorithms, most of them in the class of line search algorithm.\n",
    "\n",
    "So, we will pass the loss function that we want to minimize and the initial point. The starting point is a difficult choice because, according to the initial point, the behavior will change and also the solution will change.\n",
    "\n",
    "Let's define some different starting points and let's see the solutions."
   ]
  },
  {
   "cell_type": "code",
   "metadata": {
    "ExecuteTime": {
     "end_time": "2024-07-17T21:06:48.701155Z",
     "start_time": "2024-07-17T21:06:48.470297Z"
    }
   },
   "source": [
    "x0 = np.array([[1.,1.,1.], \n",
    "               [0.5,1.,0.5], \n",
    "               [1.,0.1,1.5],\n",
    "               [2.5,0.5,1.5]])\n",
    "\n",
    "for i in range(x0.shape[0]):\n",
    "    opt = scipy.optimize.minimize(cost, x0[i])\n",
    "    print(f'sol {i+1}: {opt.x}')\n",
    "    print(f'msg {i+1}: {opt.message}\\n')"
   ],
   "outputs": [
    {
     "name": "stdout",
     "output_type": "stream",
     "text": [
      "sol 1: [-12.60708025  13.24896931  -0.81399506]\n",
      "msg 1: Optimization terminated successfully.\n",
      "\n",
      "sol 2: [-13.4219265   13.61965537  -0.03220813]\n",
      "msg 2: Optimization terminated successfully.\n",
      "\n",
      "sol 3: [-13.08489173  14.94625148  -2.60017078]\n",
      "msg 3: Optimization terminated successfully.\n",
      "\n",
      "sol 4: [-13.64207738  14.52635829  -0.79216869]\n",
      "msg 4: Optimization terminated successfully.\n",
      "\n"
     ]
    }
   ],
   "execution_count": 6
  },
  {
   "metadata": {},
   "cell_type": "markdown",
   "source": "As we can see, changing the input will change the solution and so, we are never sure that we will reach the same solution. "
  },
  {
   "metadata": {},
   "cell_type": "markdown",
   "source": "Now, we can define our neural model. In fact, after computing the parameters, we can use them to compute the solution by the model. "
  },
  {
   "cell_type": "code",
   "metadata": {
    "ExecuteTime": {
     "end_time": "2024-07-17T21:06:48.763354Z",
     "start_time": "2024-07-17T21:06:48.703109Z"
    }
   },
   "source": [
    "def neuronopt(w, b, x): \n",
    "    return neuron(w, b, x)"
   ],
   "outputs": [],
   "execution_count": 7
  },
  {
   "metadata": {
    "ExecuteTime": {
     "end_time": "2024-07-17T21:06:48.916548Z",
     "start_time": "2024-07-17T21:06:48.766341Z"
    }
   },
   "cell_type": "code",
   "source": [
    "x0 = np.array([1.,1.,1.])\n",
    "opt = scipy.optimize.minimize(cost, x0)\n",
    "print(f'model output: {neuronopt(opt.x[0:2], opt.x[2], [4,3])}')"
   ],
   "outputs": [
    {
     "name": "stdout",
     "output_type": "stream",
     "text": [
      "model output: -0.9999796467737655\n"
     ]
    }
   ],
   "execution_count": 8
  },
  {
   "cell_type": "code",
   "metadata": {
    "ExecuteTime": {
     "end_time": "2024-07-17T21:06:48.994274Z",
     "start_time": "2024-07-17T21:06:48.920530Z"
    }
   },
   "source": [
    "datatest1 = np.array([p for p in dataset if neuronopt(opt.x[0:2], opt.x[2], p)>0])\n",
    "datatest2 = np.array([p for p in dataset if neuronopt(opt.x[0:2], opt.x[2], p)<=0])"
   ],
   "outputs": [],
   "execution_count": 9
  },
  {
   "cell_type": "code",
   "metadata": {
    "ExecuteTime": {
     "end_time": "2024-07-17T21:06:49.259599Z",
     "start_time": "2024-07-17T21:06:48.998218Z"
    }
   },
   "source": [
    "matplotlib.pyplot.plot([-2,2],[-2,2],'k', \n",
    "                       datatest1[::,0], datatest1[::,1],'bo',  \n",
    "                       datatest2[::,0], datatest2[::,1],'ro');"
   ],
   "outputs": [
    {
     "data": {
      "text/plain": [
       "<Figure size 640x480 with 1 Axes>"
      ],
      "image/png": "[encoded data removed]"
     },
     "metadata": {},
     "output_type": "display_data"
    }
   ],
   "execution_count": 10
  },
  {
   "metadata": {},
   "cell_type": "markdown",
   "source": [
    "Let's now implement the steepest-descend algorithm.\n",
    "We define two functions: one for the computation of the gradient and one for the computation of the steepest-descend."
   ]
  },
  {
   "cell_type": "code",
   "metadata": {
    "ExecuteTime": {
     "end_time": "2024-07-17T21:06:49.275581Z",
     "start_time": "2024-07-17T21:06:49.261590Z"
    }
   },
   "source": [
    "def grad_cost(theta, data):\n",
    "    \n",
    "    # Let's retrieve the actual weights\n",
    "    w=theta[0:2]\n",
    "    b=theta[2]\n",
    "    \n",
    "    # Define a zero vector for the weights\n",
    "    gr=np.zeros((1,2))\n",
    "    \n",
    "    #b = 0\n",
    "    (n,m)=data.shape\n",
    "    \n",
    "    # For each sample in our training set\n",
    "    for k in range(n):\n",
    "        # Compute the output by the model\n",
    "        yk = neuron(w,b,data[k,0]) \n",
    "        \n",
    "        # We compute the new weights using the computation of the derivative \n",
    "        gr += (yk-data[k,1])*np.asarray(data[k,0])*(1-yk**2)/2.0\n",
    "        b += (yk-data[k,1])*(1-yk**2)/2.0\n",
    "       \n",
    "    # Store the new gradient     \n",
    "    grt = np.array( [gr[0,0], gr[0,1], b])\n",
    "   \n",
    "    return grt"
   ],
   "outputs": [],
   "execution_count": 11
  },
  {
   "cell_type": "code",
   "metadata": {
    "ExecuteTime": {
     "end_time": "2024-07-17T21:06:49.400132Z",
     "start_time": "2024-07-17T21:06:49.277578Z"
    }
   },
   "source": [
    "def steep_desc(theta, alpha, tol, data):\n",
    "    # Copy the parameters from the vector theta\n",
    "    w31 = np.copy(theta)\n",
    "    \n",
    "    # Fix the maximum number of iterations\n",
    "    n_max_iter = 60000\n",
    "    \n",
    "    # Fix the initial error and the initial iteration\n",
    "    err=1\n",
    "    nit=0\n",
    "    \n",
    "    # Let's iterate until we don't reach the \n",
    "    # maximum number of iterations and the error\n",
    "    # is greater than the tolerance\n",
    "    while err > tol and nit < n_max_iter:\n",
    "        # Increase the number of iterations\n",
    "        nit=nit+1\n",
    "        \n",
    "        # Compute the gradient of the cost function\n",
    "        grad = grad_cost(w31, data)\n",
    "        \n",
    "        # Update the weights by subtracting the actual\n",
    "        # gradient multiplied by the learning rate\n",
    "        w31 = w31 - alpha*grad\n",
    "        \n",
    "        # Compute the actual error \n",
    "        err =  np.linalg.norm(np.abs(grad))\n",
    "        \n",
    "    print(f'\\tsol: {w31}')\n",
    "    print(f'\\terror: {err}')\n",
    "    print(f'\\tn_iter: {nit}')\n",
    "\n",
    "    return w31  "
   ],
   "outputs": [],
   "execution_count": 12
  },
  {
   "metadata": {},
   "cell_type": "markdown",
   "source": "Let's compare the solution both with the scipy routine and with the implemented method. Changing the value of alpha (the learning rate) the model will converge faster or slower."
  },
  {
   "cell_type": "code",
   "metadata": {
    "ExecuteTime": {
     "end_time": "2024-07-17T21:06:52.769366Z",
     "start_time": "2024-07-17T21:06:49.402115Z"
    }
   },
   "source": [
    "x0 = np.array([-10.,10.,1])\n",
    "opt = scipy.optimize.minimize(cost,x0)\n",
    "print(f'scipy output: {opt.message}')\n",
    "print(f'\\tsol: {opt.x}')\n",
    "print(f'\\tcost function: {cost(opt.x)}')\n",
    "print(f'\\tn_iter: {opt.nit}')\n",
    "print(f'\\tn_func_eval: {opt.fun}')\n",
    "\n",
    "print(f'\\nimplemented method output')\n",
    "optw = steep_desc(x0, 0.5, 5e-5, data)\n",
    "print(f'\\tcost function: {cost(optw)}')"
   ],
   "outputs": [
    {
     "name": "stdout",
     "output_type": "stream",
     "text": [
      "scipy output: Optimization terminated successfully.\n",
      "\tsol: [-19.27193536  17.19889728   0.1510764 ]\n",
      "\tcost function: 3.162494562218585e-06\n",
      "\tn_iter: 23\n",
      "\tn_func_eval: 3.162494562218585e-06\n",
      "\n",
      "implemented method output\n",
      "\tsol: [-1.09305199e+01  1.09305493e+01 -4.13658262e-10]\n",
      "\terror: 4.99995211703111e-05\n",
      "\tn_iter: 34358\n",
      "\tcost function: 7.10116388117625e-05\n"
     ]
    }
   ],
   "execution_count": 13
  },
  {
   "metadata": {},
   "cell_type": "markdown",
   "source": "Let's define the new linear model with the weights learned by the implemented model."
  },
  {
   "cell_type": "code",
   "metadata": {
    "ExecuteTime": {
     "end_time": "2024-07-17T21:06:52.784530Z",
     "start_time": "2024-07-17T21:06:52.771352Z"
    }
   },
   "source": [
    "def neuronoptw(w, b, x): \n",
    "    return neuron(w, b, x)"
   ],
   "outputs": [],
   "execution_count": 14
  },
  {
   "cell_type": "code",
   "metadata": {
    "ExecuteTime": {
     "end_time": "2024-07-17T21:06:53.033699Z",
     "start_time": "2024-07-17T21:06:52.786487Z"
    }
   },
   "source": [
    "datatest1w = np.array([p for p in dataset if neuronoptw(optw[0:2], optw[2],p)>0])\n",
    "datatest2w = np.array([p for p in dataset if neuronoptw(optw[0:2], optw[2],p)<0])\n",
    "matplotlib.pyplot.plot([-2,2],[-2,2],'k', \n",
    "                       datatest1w[::,0], datatest1w[::,1],'bo',  \n",
    "                       datatest2w[::,0], datatest2w[::,1],'ro');"
   ],
   "outputs": [
    {
     "data": {
      "text/plain": [
       "<Figure size 640x480 with 1 Axes>"
      ],
      "image/png": "[encoded data removed]"
     },
     "metadata": {},
     "output_type": "display_data"
    }
   ],
   "execution_count": 15
  }
 ],
 "metadata": {
  "kernelspec": {
   "display_name": "Python 3 (ipykernel)",
   "language": "python",
   "name": "python3"
  },
  "language_info": {
   "codemirror_mode": {
    "name": "ipython",
    "version": 3
   },
   "file_extension": ".py",
   "mimetype": "text/x-python",
   "name": "python",
   "nbconvert_exporter": "python",
   "pygments_lexer": "ipython3",
   "version": "3.8.8"
  }
 },
 "nbformat": 4,
 "nbformat_minor": 4
}
