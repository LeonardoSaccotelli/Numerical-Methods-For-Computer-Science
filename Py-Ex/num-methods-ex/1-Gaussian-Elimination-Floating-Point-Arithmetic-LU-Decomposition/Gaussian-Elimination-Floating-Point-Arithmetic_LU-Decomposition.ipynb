{
 "nbformat": 4,
 "nbformat_minor": 0,
 "metadata": {
  "colab": {
   "provenance": [],
   "collapsed_sections": [
    "SAy7M1JXlvyV"
   ],
   "toc_visible": true,
   "authorship_tag": "ABX9TyOfp2nG51qjpbnphzvNee6g"
  },
  "kernelspec": {
   "name": "python3",
   "language": "python",
   "display_name": "Python 3 (ipykernel)"
  },
  "language_info": {
   "name": "python"
  }
 },
 "cells": [
  {
   "cell_type": "markdown",
   "source": [
    "1# Gaussian Elimination with Floating Point Arithmetic & LU Decomposition\n",
    "\n",
    "\n",
    "\n",
    "---\n",
    "This notebook highlights how to solve a linear system using the method **linalg.solve**() from the numpy package. In addition, the implementation of **Gaussian elimination**, **Backward substitution** and **Forward substitution** is provided and tested. Then, different example related to the application of Gaussian elimination and Backward substitution to a linear system, in Floating Point Arithmetic. In the second part, we will apply the **LU decomposition** to solve a linear system. Lastly, we will compare the computational cost of Gaussian elimination respect to the LU decomposition."
   ],
   "metadata": {
    "id": "gj6zDxAj8XfT"
   }
  },
  {
   "cell_type": "code",
   "source": [
    "import numpy as np\n",
    "import time\n",
    "import matplotlib.pyplot as plt\n",
    "from scipy import linalg"
   ],
   "metadata": {
    "id": "c8PP_Wnkmpbz",
    "executionInfo": {
     "status": "ok",
     "timestamp": 1696432513521,
     "user_tz": -120,
     "elapsed": 407,
     "user": {
      "displayName": "Leonardo Saccotelli",
      "userId": "14676426566890310018"
     }
    },
    "ExecuteTime": {
     "end_time": "2023-10-05T09:57:16.601736Z",
     "start_time": "2023-10-05T09:57:14.955620300Z"
    }
   },
   "execution_count": 1,
   "outputs": []
  },
  {
   "cell_type": "markdown",
   "metadata": {
    "id": "SAy7M1JXlvyV"
   },
   "source": [
    "## Solve a linear system using np.linalg.solve"
   ]
  },
  {
   "cell_type": "markdown",
   "source": [
    "### Create the matrix of coefficients **A** and the vector of coefficients **b** of size 3x3"
   ],
   "metadata": {
    "id": "ckjSClOIH9dh"
   }
  },
  {
   "cell_type": "code",
   "execution_count": 2,
   "metadata": {
    "scrolled": true,
    "id": "GWGvLv0rlvyV",
    "colab": {
     "base_uri": "https://localhost:8080/"
    },
    "executionInfo": {
     "status": "ok",
     "timestamp": 1696432513521,
     "user_tz": -120,
     "elapsed": 6,
     "user": {
      "displayName": "Leonardo Saccotelli",
      "userId": "14676426566890310018"
     }
    },
    "outputId": "81da6350-d408-4aca-e2c1-dd7f3f57e49f",
    "ExecuteTime": {
     "end_time": "2023-10-05T09:57:16.633716Z",
     "start_time": "2023-10-05T09:57:16.608730300Z"
    }
   },
   "outputs": [
    {
     "name": "stdout",
     "output_type": "stream",
     "text": [
      "Matrix of coefficients A =\n",
      " [[0.39710532 0.22723236 0.32672341]\n",
      " [0.57959874 0.28759566 0.27337166]\n",
      " [0.89791117 0.11603321 0.25290485]]\n",
      "\n",
      "Vector of known terms b = [1 2 3]\n"
     ]
    }
   ],
   "source": [
    "A = np.random.rand(3,3)\n",
    "b = np.array([1,2,3])\n",
    "print('Matrix of coefficients A =\\n', A)\n",
    "print('\\nVector of known terms b =', b)"
   ]
  },
  {
   "cell_type": "markdown",
   "source": [
    "### Solve the linear system using *np.linalg.solve*()"
   ],
   "metadata": {
    "id": "0fYFMklyIZSS"
   }
  },
  {
   "cell_type": "code",
   "source": [
    "x = np.linalg.solve(A,b)\n",
    "print('The linear system solutions are: ', x)\n",
    "print('The object type of the solutions vector is: ', type(x))"
   ],
   "metadata": {
    "colab": {
     "base_uri": "https://localhost:8080/"
    },
    "id": "J7vU-ydXIYZX",
    "executionInfo": {
     "status": "ok",
     "timestamp": 1696432513521,
     "user_tz": -120,
     "elapsed": 6,
     "user": {
      "displayName": "Leonardo Saccotelli",
      "userId": "14676426566890310018"
     }
    },
    "outputId": "3b5675f3-54bf-45e6-be46-80d932c4af0d",
    "ExecuteTime": {
     "end_time": "2023-10-05T09:57:16.826751800Z",
     "start_time": "2023-10-05T09:57:16.636715100Z"
    }
   },
   "execution_count": 3,
   "outputs": [
    {
     "name": "stdout",
     "output_type": "stream",
     "text": [
      "The linear system solutions are:  [ 3.96047375  1.88488377 -3.06385081]\n",
      "The object type of the solutions vector is:  <class 'numpy.ndarray'>\n"
     ]
    }
   ]
  },
  {
   "cell_type": "markdown",
   "source": [
    "### Check for the residuals (errors) between the exact solution and the computed one"
   ],
   "metadata": {
    "id": "BHVuqGmzJx9B"
   }
  },
  {
   "cell_type": "code",
   "execution_count": 4,
   "metadata": {
    "id": "GpeWd-MUlvyW",
    "colab": {
     "base_uri": "https://localhost:8080/"
    },
    "executionInfo": {
     "status": "ok",
     "timestamp": 1696432513522,
     "user_tz": -120,
     "elapsed": 6,
     "user": {
      "displayName": "Leonardo Saccotelli",
      "userId": "14676426566890310018"
     }
    },
    "outputId": "34ee192b-bf68-45aa-8c97-6b3d85c5feeb",
    "ExecuteTime": {
     "end_time": "2023-10-05T09:57:16.974566800Z",
     "start_time": "2023-10-05T09:57:16.823752600Z"
    }
   },
   "outputs": [
    {
     "name": "stdout",
     "output_type": "stream",
     "text": [
      "The residual computed by A*x-b = [-3.33066907e-16 -8.88178420e-16 -8.88178420e-16]\n"
     ]
    }
   ],
   "source": [
    "print('The residual computed by A*x-b =', np.dot(A,x)-b)"
   ]
  },
  {
   "cell_type": "markdown",
   "source": [
    "## Gaussian Elimination, Backward Substitution and Forward Substitution implementation"
   ],
   "metadata": {
    "id": "RoimhaCpKVwI"
   }
  },
  {
   "cell_type": "markdown",
   "source": [
    "### Gaussian Elimination\n",
    "Implementation of Gaussian Elimination to use with square matrix.\n",
    "* INPUT\n",
    "  * **A**: Coefficient matrix A\n",
    "  * **b**: Known terms vector\n",
    "* OUTPUT\n",
    "  * **U[:,0:n]**: The Upper Triangular matrix related to the input matrix A,\n",
    "  * **U[:,n]**: The updated vector of known term"
   ],
   "metadata": {
    "id": "oz8JMlN3iSFr"
   }
  },
  {
   "cell_type": "code",
   "source": [
    "def gaussian_elimination(A, b):\n",
    "  # Create the augmented matrix [A|b]\n",
    "  U = np.hstack((A,b))\n",
    "\n",
    "  # Retrieve the number of rows and columns\n",
    "  (m,n) = np.shape(U)\n",
    "\n",
    "  for j in range(0,n):\n",
    "    for i in range(j+1, m):\n",
    "\n",
    "      # Compute M = U[i,j] / U[j,j]\n",
    "      M = U[i,j] / U[j,j]\n",
    "\n",
    "      # Put zero on all the element below the pivotal element\n",
    "      U[i,j] = 0\n",
    "\n",
    "      # Compute the row elimination\n",
    "      for k in range(j+1, n):\n",
    "        U[i,k] = U[i,k] - M * U[j,k]\n",
    "\n",
    "  return U[:,0:n-1], U[:,n-1]"
   ],
   "metadata": {
    "id": "BZV55QLckMwU",
    "executionInfo": {
     "status": "ok",
     "timestamp": 1696432513522,
     "user_tz": -120,
     "elapsed": 6,
     "user": {
      "displayName": "Leonardo Saccotelli",
      "userId": "14676426566890310018"
     }
    },
    "ExecuteTime": {
     "end_time": "2023-10-05T09:57:17.066513500Z",
     "start_time": "2023-10-05T09:57:16.961576200Z"
    }
   },
   "execution_count": 5,
   "outputs": []
  },
  {
   "cell_type": "markdown",
   "source": [
    "### Forward Substitution\n",
    "Implementation of Forward Substitution used to solve a Lower Triangular System (implementation by row).\n",
    "* INPUT\n",
    "  * **A**: Coefficient matrix\n",
    "  * **b**: Known terms vector\n",
    "* OUTPUT\n",
    "  * **solved**: Boolean values used to indicate if the system could be solved or not\n",
    "  * **x**: A vector of solutions for the given system (if **solved** is True), or a sentence to indicate that the system could not be solved\n",
    "\n"
   ],
   "metadata": {
    "id": "l3-dlkW3OKCZ"
   }
  },
  {
   "cell_type": "code",
   "execution_count": 6,
   "metadata": {
    "id": "244FbWxAlvyZ",
    "executionInfo": {
     "status": "ok",
     "timestamp": 1696432513522,
     "user_tz": -120,
     "elapsed": 6,
     "user": {
      "displayName": "Leonardo Saccotelli",
      "userId": "14676426566890310018"
     }
    },
    "ExecuteTime": {
     "end_time": "2023-10-05T09:57:17.233374700Z",
     "start_time": "2023-10-05T09:57:17.069512900Z"
    }
   },
   "outputs": [],
   "source": [
    "def forward_substitution(A,b):\n",
    "  solved = True\n",
    "\n",
    "  # Check if the matrix is not singular\n",
    "  # The product of the main diagonal MUST be =/= 0\n",
    "  if abs(np.prod(np.diag(A)))< 1.0e-18:\n",
    "    x = 'Linear system without solution!'\n",
    "    solved = False\n",
    "  else:\n",
    "    # Retrieve the number of rows\n",
    "    m = b.shape[0]\n",
    "\n",
    "    # Create a vector to store the solutions\n",
    "    x = np.zeros((m,1))\n",
    "\n",
    "    # Compute the first solution of Lower Tr. System\n",
    "    x[0]=b[0]/A[0,0]\n",
    "\n",
    "    # Compute each solutions Xi and store it\n",
    "    # np.dot compute the product row by columns up to the i-th row\n",
    "    for i in range(1,m):\n",
    "        x[i]=(b[i] - np.dot(A[i,0:i],x[0:i]))/A[i,i]\n",
    "  return solved, x"
   ]
  },
  {
   "cell_type": "markdown",
   "source": [
    "### Backward Substitution\n",
    "Implementation of Backward Substitution used to solve an Upper Triangular System (implementation by row).\n",
    "* INPUT\n",
    "  * **A**: Coefficient matrix\n",
    "  * **b**: Known terms vector\n",
    "* OUTPUT\n",
    "  * **solved**: Boolean values used to indicate if the system could be solved or not\n",
    "  * **x**: A vector of solutions for the given system (if **solved** is True), or a sentence to indicate that the system could not be solved"
   ],
   "metadata": {
    "id": "Y5aJNWR6OXW6"
   }
  },
  {
   "cell_type": "code",
   "execution_count": 7,
   "metadata": {
    "id": "F7bjA2-qOXW7",
    "executionInfo": {
     "status": "ok",
     "timestamp": 1696432513522,
     "user_tz": -120,
     "elapsed": 5,
     "user": {
      "displayName": "Leonardo Saccotelli",
      "userId": "14676426566890310018"
     }
    },
    "ExecuteTime": {
     "end_time": "2023-10-05T09:57:17.361910100Z",
     "start_time": "2023-10-05T09:57:17.226382700Z"
    }
   },
   "outputs": [],
   "source": [
    "def backward_substitution(A,b):\n",
    "  solved = True\n",
    "\n",
    "  # Check if the matrix is not singular\n",
    "  # The product of the main diagonal MUST be =/= 0\n",
    "  if abs(np.prod(np.diag(A)))< 1.0e-18:\n",
    "    x = 'Linear system without solution!'\n",
    "    solved = False\n",
    "  else:\n",
    "    # Retrieve the number of rows\n",
    "    m = b.shape[0]\n",
    "\n",
    "    # Create a vector to store the solutions\n",
    "    x = np.zeros((m,1))\n",
    "\n",
    "    # Compute the first solution of Lower Tr. System\n",
    "    x[m-1]=b[m-1]/A[m-1,m-1]\n",
    "\n",
    "    # Compute each solution Xi and store it\n",
    "    # np.dot compute the product row by columns up to the i-th row\n",
    "    for i in range(m-2, -1, -1):\n",
    "        x[i]=(b[i] - np.dot(A[i,i:m],x[i:m]))/A[i,i]\n",
    "  return solved, x"
   ]
  },
  {
   "cell_type": "markdown",
   "metadata": {
    "id": "a3tOsaTIlvyZ"
   },
   "source": [
    "### Test of Forward substitution\n",
    "To test our implementation, we will create a Lower triangular system **L** with the exact solutions **xt** (x_true); then we will compute the vector of know terms **b** (b = Lxt). At this point, we will apply the **Forward substitution** on **L** and **b**, to find **x**. Lastly, we compare the xt and x, and we compute the absolute error."
   ]
  },
  {
   "cell_type": "code",
   "source": [
    "# Define the size of a linear system\n",
    "n = 6\n",
    "\n",
    "# Create the Lower triangular matrix of size n\n",
    "L  = np.tril(np.random.rand(n,n))\n",
    "print('Matrix of coefficients L =\\n', L)\n",
    "\n",
    "# Fix the exact solutions of the linear system to one\n",
    "xt = np.ones((n,1))\n",
    "\n",
    "# Compute the vector of known terms\n",
    "b  = np.dot(L,xt)\n",
    "print('\\nVector of known terms b =\\n', b)\n",
    "\n",
    "# Computed the solutions using the Forward substitution\n",
    "(solved, x)  = forward_substitution(L, b)\n",
    "\n",
    "print('\\n----------------------------------------------------------------------------')\n",
    "if solved:\n",
    "  print('\\nThe exact solutions are xt =\\n', xt)\n",
    "  print('\\nThe computed solutions are x =\\n', x)\n",
    "  print('\\n----------------------------------------------------------------------------')\n",
    "  print('The absolute error with respect each solution is = ', np.max(abs(x-xt)))\n",
    "  print('The determinant is equal to = ', np.prod(np.diag(L)))\n",
    "  print('The condition number of matrix L is equal to = ', np.linalg.cond(L))\n",
    "else:\n",
    "  print(x)"
   ],
   "metadata": {
    "colab": {
     "base_uri": "https://localhost:8080/"
    },
    "id": "l8TiHesjPRgb",
    "executionInfo": {
     "status": "ok",
     "timestamp": 1696432513522,
     "user_tz": -120,
     "elapsed": 5,
     "user": {
      "displayName": "Leonardo Saccotelli",
      "userId": "14676426566890310018"
     }
    },
    "outputId": "5c8e8645-c701-46bf-d0dc-a2d4928d6ab7",
    "ExecuteTime": {
     "end_time": "2023-10-05T09:57:17.627795400Z",
     "start_time": "2023-10-05T09:57:17.363897600Z"
    }
   },
   "execution_count": 8,
   "outputs": [
    {
     "name": "stdout",
     "output_type": "stream",
     "text": [
      "Matrix of coefficients L =\n",
      " [[0.57648022 0.         0.         0.         0.         0.        ]\n",
      " [0.93209185 0.77969929 0.         0.         0.         0.        ]\n",
      " [0.74430673 0.69761765 0.92929961 0.         0.         0.        ]\n",
      " [0.97434682 0.23055474 0.70948096 0.99620424 0.         0.        ]\n",
      " [0.19010034 0.75899758 0.57286109 0.86187308 0.63004465 0.        ]\n",
      " [0.55837452 0.76094355 0.04061583 0.86872522 0.56809171 0.55903538]]\n",
      "\n",
      "Vector of known terms b =\n",
      " [[0.57648022]\n",
      " [1.71179114]\n",
      " [2.37122398]\n",
      " [2.91058676]\n",
      " [3.01387674]\n",
      " [3.35578621]]\n",
      "\n",
      "----------------------------------------------------------------------------\n",
      "\n",
      "The exact solutions are xt =\n",
      " [[1.]\n",
      " [1.]\n",
      " [1.]\n",
      " [1.]\n",
      " [1.]\n",
      " [1.]]\n",
      "\n",
      "The computed solutions are x =\n",
      " [[1.]\n",
      " [1.]\n",
      " [1.]\n",
      " [1.]\n",
      " [1.]\n",
      " [1.]]\n",
      "\n",
      "----------------------------------------------------------------------------\n",
      "The absolute error with respect each solution is =  4.440892098500626e-16\n",
      "The determinant is equal to =  0.14656366235369434\n",
      "The condition number of matrix L is equal to =  14.752823217197504\n"
     ]
    }
   ]
  },
  {
   "cell_type": "markdown",
   "source": [
    "#### Test of conditioning number by adding a regularization term on the main diagonal\n",
    "We add a weight on the main diagonal. In particular, if we add smaller number and the matrix is ill conditionad maybe nothing changes. If we add weights with higher values then the system will become well conditioned. This is related to the diagonal dominant matrix, which is always well conditioned. Anyway we can use this strategy to add some regularization in order to put a ill-conditioned matrix into a well-conditioned matrix. These weights should be selected in order to doesn't change so much the original matrix."
   ],
   "metadata": {
    "id": "xmYZvkux7Sh7"
   }
  },
  {
   "cell_type": "code",
   "source": [
    "# Define different regularization terms\n",
    "regularization_terms = np.array([1e-10, 1e-8, 1e-6, 1e-4, 1e-3, 1e-2, 1e-1, 1])\n",
    "\n",
    "# Define the size of a linear system\n",
    "n = 20\n",
    "\n",
    "for i in range(len(regularization_terms)):\n",
    "  # Create the Lower triangular matrix of size n\n",
    "  L  = np.tril(np.random.rand(n,n)) + np.eye(n)*regularization_terms[i]\n",
    "\n",
    "  # Fix the exact solutions of the linear system to one\n",
    "  xt = np.ones((n,1))\n",
    "\n",
    "  # Compute the vector of known terms\n",
    "  b  = np.dot(L,xt)\n",
    "\n",
    "  # Computed the solutions using the Forward substitution\n",
    "  (solved, x)  = forward_substitution(L, b)\n",
    "\n",
    "  if solved:\n",
    "    print('Regularization term is = ', regularization_terms[i])\n",
    "    print('The absolute error with respect each solution is = ', np.max(abs(x-xt)))\n",
    "    print('The determinant is equal to = ', np.prod(np.diag(L)))\n",
    "    print('The condition number of matrix L is equal to = ', np.linalg.cond(L))\n",
    "    print('----------------------------------------------------------------------------')\n",
    "  else:\n",
    "    print(x)"
   ],
   "metadata": {
    "colab": {
     "base_uri": "https://localhost:8080/"
    },
    "id": "72-Tws8u7OQs",
    "executionInfo": {
     "status": "ok",
     "timestamp": 1696432513522,
     "user_tz": -120,
     "elapsed": 5,
     "user": {
      "displayName": "Leonardo Saccotelli",
      "userId": "14676426566890310018"
     }
    },
    "outputId": "0dd71244-fc8e-4b95-d817-1a1f84ed1456",
    "ExecuteTime": {
     "end_time": "2023-10-05T09:57:17.721720100Z",
     "start_time": "2023-10-05T09:57:17.632783900Z"
    }
   },
   "execution_count": 9,
   "outputs": [
    {
     "name": "stdout",
     "output_type": "stream",
     "text": [
      "Regularization term is =  1e-10\n",
      "The absolute error with respect each solution is =  9.259260025373806e-14\n",
      "The determinant is equal to =  2.592583697420832e-06\n",
      "The condition number of matrix L is equal to =  8206.336940828907\n",
      "----------------------------------------------------------------------------\n",
      "Regularization term is =  1e-08\n",
      "The absolute error with respect each solution is =  4.569217226801925e-10\n",
      "The determinant is equal to =  2.963016830573211e-11\n",
      "The condition number of matrix L is equal to =  28328437.149842814\n",
      "----------------------------------------------------------------------------\n",
      "Regularization term is =  1e-06\n",
      "The absolute error with respect each solution is =  2.4569235534954714e-13\n",
      "The determinant is equal to =  4.2618879521530164e-07\n",
      "The condition number of matrix L is equal to =  6103.828077320979\n",
      "----------------------------------------------------------------------------\n",
      "Regularization term is =  0.0001\n",
      "The absolute error with respect each solution is =  1.936228954946273e-13\n",
      "The determinant is equal to =  8.328775746238142e-11\n",
      "The condition number of matrix L is equal to =  368097.55249184155\n",
      "----------------------------------------------------------------------------\n",
      "Regularization term is =  0.001\n",
      "The absolute error with respect each solution is =  2.339162197273481e-11\n",
      "The determinant is equal to =  4.006350525885892e-10\n",
      "The condition number of matrix L is equal to =  251030.02233742637\n",
      "----------------------------------------------------------------------------\n",
      "Regularization term is =  0.01\n",
      "The absolute error with respect each solution is =  6.09956529729061e-13\n",
      "The determinant is equal to =  1.2450149320435873e-10\n",
      "The condition number of matrix L is equal to =  401530.135431103\n",
      "----------------------------------------------------------------------------\n",
      "Regularization term is =  0.1\n",
      "The absolute error with respect each solution is =  8.881784197001252e-15\n",
      "The determinant is equal to =  1.649450304560168e-05\n",
      "The condition number of matrix L is equal to =  1112.7175600548571\n",
      "----------------------------------------------------------------------------\n",
      "Regularization term is =  1.0\n",
      "The absolute error with respect each solution is =  7.771561172376096e-16\n",
      "The determinant is equal to =  2592.33183432603\n",
      "The condition number of matrix L is equal to =  15.085096273022511\n",
      "----------------------------------------------------------------------------\n"
     ]
    }
   ]
  },
  {
   "cell_type": "markdown",
   "metadata": {
    "id": "tHzb9YBqlvyW"
   },
   "source": [
    "### Test of Gaussian elimination and Backward substitution"
   ]
  },
  {
   "cell_type": "code",
   "source": [
    "# Define the size of linear system\n",
    "n = 6\n",
    "\n",
    "# Create a coefficient matrix of size n\n",
    "A  = np.random.rand(n,n)\n",
    "print('Matrix of coefficients A =\\n', A)\n",
    "\n",
    "# Fix the exact solutions of the linear system to one\n",
    "xt = np.ones((n,1))\n",
    "\n",
    "# Compute the vector of known terms\n",
    "b  = np.dot(A, xt)\n",
    "print('\\nVector of known terms b =\\n', b)\n",
    "\n",
    "# Compute the Gaussian elimination\n",
    "(U, b_u) = gaussian_elimination(A, b)\n",
    "print('\\nUpper Triangular matrix of coefficients U =\\n', U)\n",
    "print('\\nVector of updated known terms b =\\n', b_u)\n",
    "\n",
    "# Computed the solutions using the Backward substitution\n",
    "(solved, x)  = backward_substitution(U, b_u)\n",
    "\n",
    "print('\\n----------------------------------------------------------------------------')\n",
    "if solved:\n",
    "  print('\\nThe exact solutions are xt =\\n', xt)\n",
    "  print('\\nThe computed solutions are x =\\n', x)\n",
    "  print('\\n----------------------------------------------------------------------------')\n",
    "  print('\\nThe absolute error with respect each solution is = ', np.prod(abs(x-xt)))\n",
    "  print('The determinant is equal to = ', np.prod(np.diag(U)))\n",
    "  print('The condition number of matrix U is equal to = ', np.linalg.cond(U))\n",
    "\n",
    "else:\n",
    "  print(x)"
   ],
   "metadata": {
    "colab": {
     "base_uri": "https://localhost:8080/"
    },
    "id": "1TlFO18mo3d8",
    "executionInfo": {
     "status": "ok",
     "timestamp": 1696432513970,
     "user_tz": -120,
     "elapsed": 451,
     "user": {
      "displayName": "Leonardo Saccotelli",
      "userId": "14676426566890310018"
     }
    },
    "outputId": "e2ae6f55-e219-4eb4-dbed-233e0fea04e9",
    "ExecuteTime": {
     "end_time": "2023-10-05T09:57:18.030758500Z",
     "start_time": "2023-10-05T09:57:17.726715800Z"
    }
   },
   "execution_count": 10,
   "outputs": [
    {
     "name": "stdout",
     "output_type": "stream",
     "text": [
      "Matrix of coefficients A =\n",
      " [[0.17973089 0.8178109  0.1524073  0.92782487 0.95017144 0.09518123]\n",
      " [0.22990266 0.82885475 0.33192297 0.07683002 0.02465035 0.6729022 ]\n",
      " [0.68321294 0.81932419 0.501642   0.67874371 0.24075974 0.75463614]\n",
      " [0.99724389 0.96704419 0.78409824 0.76216218 0.91665237 0.71395171]\n",
      " [0.65087758 0.41233709 0.55353869 0.91990381 0.74922291 0.17138675]\n",
      " [0.81757553 0.0617939  0.52073956 0.78145167 0.45885088 0.14432012]]\n",
      "\n",
      "Vector of known terms b =\n",
      " [[3.12312662]\n",
      " [2.16506294]\n",
      " [3.67831873]\n",
      " [5.14115256]\n",
      " [3.45726683]\n",
      " [2.78473166]]\n",
      "\n",
      "Upper Triangular matrix of coefficients U =\n",
      " [[ 0.17973089  0.8178109   0.1524073   0.92782487  0.95017144  0.09518123]\n",
      " [ 0.         -0.21724755  0.13697127 -1.10999657 -1.19076083  0.55115119]\n",
      " [ 0.          0.         -1.52115562  8.84931723  9.17750849 -5.41539733]\n",
      " [ 0.          0.          0.          0.40319167  1.26212681 -0.63917338]\n",
      " [ 0.          0.          0.          0.         -2.30064815  1.0477606 ]\n",
      " [ 0.          0.          0.          0.          0.         -0.05060907]]\n",
      "\n",
      "Vector of updated known terms b =\n",
      " [ 3.12312662 -1.82988249 11.09027278  1.0261451  -1.25288755 -0.05060907]\n",
      "\n",
      "----------------------------------------------------------------------------\n",
      "\n",
      "The exact solutions are xt =\n",
      " [[1.]\n",
      " [1.]\n",
      " [1.]\n",
      " [1.]\n",
      " [1.]\n",
      " [1.]]\n",
      "\n",
      "The computed solutions are x =\n",
      " [[1.]\n",
      " [1.]\n",
      " [1.]\n",
      " [1.]\n",
      " [1.]\n",
      " [1.]]\n",
      "\n",
      "----------------------------------------------------------------------------\n",
      "\n",
      "The absolute error with respect each solution is =  7.30448053353902e-83\n",
      "The determinant is equal to =  0.002788312088115808\n",
      "The condition number of matrix U is equal to =  467.9519462569693\n"
     ]
    }
   ]
  },
  {
   "cell_type": "markdown",
   "source": [
    "## Gaussian elimination and Backward substitution with Well and Ill Conditioned Linear System in Floating Point arithmetic"
   ],
   "metadata": {
    "id": "kuUSQ1AuM20n"
   }
  },
  {
   "cell_type": "code",
   "source": [
    "def test_system_conditioning(A, b):\n",
    "  (U,b_u) = gaussian_elimination(A,b)\n",
    "  print('--------------------------------------------------------------------')\n",
    "  print('\\nUpper Triangular matrix of coefficients U =\\n', U)\n",
    "  print('\\nVector of updated known terms b =\\n', b_u)\n",
    "  print('--------------------------------------------------------------------')\n",
    "\n",
    "  (solved, xg) = backward_substitution(U, b_u)\n",
    "  if solved:\n",
    "    print('\\nSolution after Gaussian Elimination and Backward substitution:\\n', xg)\n",
    "    print('\\nSolution using np.linalg.solve(A,b):\\n', np.linalg.solve(A, b))\n",
    "    print('\\nThe conditioning number of matrix A: ', np.linalg.cond(A))\n",
    "  else:\n",
    "    print(xg)"
   ],
   "metadata": {
    "id": "rrM9AkjbMTys",
    "executionInfo": {
     "status": "ok",
     "timestamp": 1696432513970,
     "user_tz": -120,
     "elapsed": 17,
     "user": {
      "displayName": "Leonardo Saccotelli",
      "userId": "14676426566890310018"
     }
    },
    "ExecuteTime": {
     "end_time": "2023-10-05T09:57:18.167458Z",
     "start_time": "2023-10-05T09:57:18.030758500Z"
    }
   },
   "execution_count": 11,
   "outputs": []
  },
  {
   "cell_type": "markdown",
   "source": [
    "### Well conditioned problem with stable and unstable algorithms\n",
    "In this test we will define a linear system, which is a well conditioned system, and we will solve the linear system both with **np.linalg.solve** method (which is a **stable algorithm**) and the implemented **Gaussian elimination algorithm** (which is an **unstable algorithm**). We want to show the difference between stable and unstable algorithms when we try to solve a well conditioned linear system.\n",
    "\n"
   ],
   "metadata": {
    "id": "IGSVXutmNdWe"
   }
  },
  {
   "cell_type": "code",
   "source": [
    "par = np.array([1e-8, 1e-17])"
   ],
   "metadata": {
    "id": "l8-1oHZAStPc",
    "executionInfo": {
     "status": "ok",
     "timestamp": 1696432513971,
     "user_tz": -120,
     "elapsed": 18,
     "user": {
      "displayName": "Leonardo Saccotelli",
      "userId": "14676426566890310018"
     }
    },
    "ExecuteTime": {
     "end_time": "2023-10-05T09:57:18.322652400Z",
     "start_time": "2023-10-05T09:57:18.169446300Z"
    }
   },
   "execution_count": 12,
   "outputs": []
  },
  {
   "cell_type": "markdown",
   "source": [
    "#### Test 1\n",
    "By solving the linear system with stable and unstable algorithms we obtain the same solutions. We can also check that the conditioning number of the matrix A is very low.\n"
   ],
   "metadata": {
    "id": "_t_985HQN10K"
   }
  },
  {
   "cell_type": "code",
   "execution_count": 13,
   "metadata": {
    "id": "6-d_fsY0lvyW",
    "executionInfo": {
     "status": "ok",
     "timestamp": 1696432513971,
     "user_tz": -120,
     "elapsed": 17,
     "user": {
      "displayName": "Leonardo Saccotelli",
      "userId": "14676426566890310018"
     }
    },
    "colab": {
     "base_uri": "https://localhost:8080/"
    },
    "outputId": "28d3d34d-9898-4370-e140-2ad9a8b87797",
    "ExecuteTime": {
     "end_time": "2023-10-05T09:57:18.444803100Z",
     "start_time": "2023-10-05T09:57:18.324652700Z"
    }
   },
   "outputs": [
    {
     "name": "stdout",
     "output_type": "stream",
     "text": [
      "Matrix of coefficients A =\n",
      " [[1.e-08 1.e+00]\n",
      " [1.e+00 2.e+00]]\n",
      "\n",
      "Vector of known terms b =\n",
      " [[1.]\n",
      " [3.]]\n",
      "--------------------------------------------------------------------\n",
      "\n",
      "Upper Triangular matrix of coefficients U =\n",
      " [[ 1.0000000e-08  1.0000000e+00]\n",
      " [ 0.0000000e+00 -9.9999998e+07]]\n",
      "\n",
      "Vector of updated known terms b =\n",
      " [ 1.0000000e+00 -9.9999997e+07]\n",
      "--------------------------------------------------------------------\n",
      "\n",
      "Solution after Gaussian Elimination and Backward substitution:\n",
      " [[1.00000002]\n",
      " [0.99999999]]\n",
      "\n",
      "Solution using np.linalg.solve(A,b):\n",
      " [[1.00000002]\n",
      " [0.99999999]]\n",
      "\n",
      "The conditioning number of matrix A:  5.8284272483858\n"
     ]
    }
   ],
   "source": [
    "A = np.array([[par[0], 1.],[1., 2.]])\n",
    "b = np.array([[1.],[3.]])\n",
    "print('Matrix of coefficients A =\\n', A)\n",
    "print('\\nVector of known terms b =\\n', b)\n",
    "test_system_conditioning(A, b)"
   ]
  },
  {
   "cell_type": "markdown",
   "source": [
    "#### Test 2\n",
    "By solving the linear system with stable and unstable algorithms, we obtain very different results with a very high error. In fact, we obtain $x_1 = 0$ when we use an unstable algorithm, while we obtain $x_1 = 1$ when we use a stable algorithm. We can also check that the conditioning number remains the same and it is very low which means that the problem is well conditioned and can be solved without any problem. So the problem in this case is related to the algorithm, which is unstable."
   ],
   "metadata": {
    "id": "Zs4lbjr0VZv3"
   }
  },
  {
   "cell_type": "code",
   "source": [
    "A = np.array( [[par[1], 1.],[1., 2.]])\n",
    "b = np.array([[1.],[3.]])\n",
    "print('Matrix of coefficients A =\\n', A)\n",
    "print('\\nVector of known terms b =\\n', b)\n",
    "test_system_conditioning(A, b)"
   ],
   "metadata": {
    "colab": {
     "base_uri": "https://localhost:8080/"
    },
    "id": "F1PhDFEFMyMF",
    "executionInfo": {
     "status": "ok",
     "timestamp": 1696432513971,
     "user_tz": -120,
     "elapsed": 16,
     "user": {
      "displayName": "Leonardo Saccotelli",
      "userId": "14676426566890310018"
     }
    },
    "outputId": "5806c53e-1a82-46af-c9f3-4e9b52b6e69d",
    "ExecuteTime": {
     "end_time": "2023-10-05T09:57:18.617286200Z",
     "start_time": "2023-10-05T09:57:18.447802400Z"
    }
   },
   "execution_count": 14,
   "outputs": [
    {
     "name": "stdout",
     "output_type": "stream",
     "text": [
      "Matrix of coefficients A =\n",
      " [[1.e-17 1.e+00]\n",
      " [1.e+00 2.e+00]]\n",
      "\n",
      "Vector of known terms b =\n",
      " [[1.]\n",
      " [3.]]\n",
      "--------------------------------------------------------------------\n",
      "\n",
      "Upper Triangular matrix of coefficients U =\n",
      " [[ 1.e-17  1.e+00]\n",
      " [ 0.e+00 -1.e+17]]\n",
      "\n",
      "Vector of updated known terms b =\n",
      " [ 1.e+00 -1.e+17]\n",
      "--------------------------------------------------------------------\n",
      "\n",
      "Solution after Gaussian Elimination and Backward substitution:\n",
      " [[0.]\n",
      " [1.]]\n",
      "\n",
      "Solution using np.linalg.solve(A,b):\n",
      " [[1.]\n",
      " [1.]]\n",
      "\n",
      "The conditioning number of matrix A:  5.828427124746189\n"
     ]
    }
   ]
  },
  {
   "cell_type": "markdown",
   "source": [
    "### Ill conditioned problem with stable and unstable algorithms\n",
    "In this test, we will define a linear system, which is a ill-conditioned system, and we will solve the linear system both with **np.linalg.solve** method (which is a **stable algorithm**) and the implemented **Gaussian elimination algorithm** (which is an **unstable algorithm**). We want to show the difference between stable and unstable algorithms when we try to solve a ill-conditioned linear system, in particular that the problem is related to the high-conditioned number. So, is not related to the algorithms and their stability. Moreover, ther is also a scaling problem because we have coefficients with very different magnitude. By scaling the linear system, we could handle the ill conditioned system and this technique could help to solve the system."
   ],
   "metadata": {
    "id": "aPtKixZeN4Vf"
   }
  },
  {
   "cell_type": "markdown",
   "source": [
    "#### Test 1"
   ],
   "metadata": {
    "id": "Ze1W_2TdV38D"
   }
  },
  {
   "cell_type": "code",
   "source": [
    "A = np.array( [[10., 1./par[0]],[1., 2.]])\n",
    "b = np.array([[1.],[3.]])\n",
    "print('Matrix of coefficients A =\\n', A)\n",
    "print('\\nVector of known terms b =\\n', b)\n",
    "test_system_conditioning(A, b)"
   ],
   "metadata": {
    "colab": {
     "base_uri": "https://localhost:8080/"
    },
    "id": "710SRphzP4S5",
    "executionInfo": {
     "status": "ok",
     "timestamp": 1696432513971,
     "user_tz": -120,
     "elapsed": 13,
     "user": {
      "displayName": "Leonardo Saccotelli",
      "userId": "14676426566890310018"
     }
    },
    "outputId": "922c68f9-5fd4-4f9d-fd22-02d98133a409",
    "ExecuteTime": {
     "end_time": "2023-10-05T09:57:18.738033200Z",
     "start_time": "2023-10-05T09:57:18.617286200Z"
    }
   },
   "execution_count": 15,
   "outputs": [
    {
     "name": "stdout",
     "output_type": "stream",
     "text": [
      "Matrix of coefficients A =\n",
      " [[1.e+01 1.e+08]\n",
      " [1.e+00 2.e+00]]\n",
      "\n",
      "Vector of known terms b =\n",
      " [[1.]\n",
      " [3.]]\n",
      "--------------------------------------------------------------------\n",
      "\n",
      "Upper Triangular matrix of coefficients U =\n",
      " [[ 1.000000e+01  1.000000e+08]\n",
      " [ 0.000000e+00 -9.999998e+06]]\n",
      "\n",
      "Vector of updated known terms b =\n",
      " [1.  2.9]\n",
      "--------------------------------------------------------------------\n",
      "\n",
      "Solution after Gaussian Elimination and Backward substitution:\n",
      " [[ 3.00000058e+00]\n",
      " [-2.90000058e-07]]\n",
      "\n",
      "Solution using np.linalg.solve(A,b):\n",
      " [[ 3.00000058e+00]\n",
      " [-2.90000058e-07]]\n",
      "\n",
      "The conditioning number of matrix A:  100000020.00000508\n"
     ]
    }
   ]
  },
  {
   "cell_type": "markdown",
   "source": [
    "#### Test 2\n",
    "In this case, we try to solve an ill-conditioned linear system both with stable and unstable algorithms. We can check that the conditioning number is very high. Then we compute a row scale operation (we scale the first row) and then computing the conditioning number, we will see that after the scaling it will become very small. So, sometimes also scaling operation can help to solve conditioning issues."
   ],
   "metadata": {
    "id": "CS630gPIV8NK"
   }
  },
  {
   "cell_type": "code",
   "source": [
    "A = np.array( [[10., 1./par[1]],[1., 2.]])\n",
    "b = np.array([[1.],[3.]])\n",
    "print('Matrix of coefficients A =\\n', A)\n",
    "print('\\nVector of known terms b =\\n', b)\n",
    "test_system_conditioning(A, b)"
   ],
   "metadata": {
    "colab": {
     "base_uri": "https://localhost:8080/"
    },
    "id": "7D7LN__4V-Lj",
    "executionInfo": {
     "status": "ok",
     "timestamp": 1696432513971,
     "user_tz": -120,
     "elapsed": 11,
     "user": {
      "displayName": "Leonardo Saccotelli",
      "userId": "14676426566890310018"
     }
    },
    "outputId": "b668fd6a-0f4a-4335-8de7-30f7aebe1f21",
    "ExecuteTime": {
     "end_time": "2023-10-05T09:57:18.863741700Z",
     "start_time": "2023-10-05T09:57:18.741029100Z"
    }
   },
   "execution_count": 16,
   "outputs": [
    {
     "name": "stdout",
     "output_type": "stream",
     "text": [
      "Matrix of coefficients A =\n",
      " [[1.e+01 1.e+17]\n",
      " [1.e+00 2.e+00]]\n",
      "\n",
      "Vector of known terms b =\n",
      " [[1.]\n",
      " [3.]]\n",
      "--------------------------------------------------------------------\n",
      "\n",
      "Upper Triangular matrix of coefficients U =\n",
      " [[ 1.e+01  1.e+17]\n",
      " [ 0.e+00 -1.e+16]]\n",
      "\n",
      "Vector of updated known terms b =\n",
      " [1.  2.9]\n",
      "--------------------------------------------------------------------\n",
      "\n",
      "Solution after Gaussian Elimination and Backward substitution:\n",
      " [[ 3.0e+00]\n",
      " [-2.9e-16]]\n",
      "\n",
      "Solution using np.linalg.solve(A,b):\n",
      " [[ 3.0e+00]\n",
      " [-2.9e-16]]\n",
      "\n",
      "The conditioning number of matrix A:  9.999999999999998e+16\n"
     ]
    }
   ]
  },
  {
   "cell_type": "code",
   "source": [
    "# We scale the first row of our linear system by 1e-17\n",
    "A_sc = np.copy(A)\n",
    "b_sc = np.copy(b)\n",
    "A_sc[0] = A_sc[0]*1e-17\n",
    "b_sc[0] = b_sc[0]*1e-17\n",
    "print('Matrix of coefficients A =\\n', A_sc)\n",
    "print('\\nVector of known terms b =\\n', b_sc)\n",
    "test_system_conditioning(A_sc, b_sc)"
   ],
   "metadata": {
    "colab": {
     "base_uri": "https://localhost:8080/"
    },
    "id": "Rk-CuXyH1Lbn",
    "executionInfo": {
     "status": "ok",
     "timestamp": 1696432513971,
     "user_tz": -120,
     "elapsed": 9,
     "user": {
      "displayName": "Leonardo Saccotelli",
      "userId": "14676426566890310018"
     }
    },
    "outputId": "1b81b379-e6f8-48ff-b14b-516019f0b848",
    "ExecuteTime": {
     "end_time": "2023-10-05T09:57:19.092922400Z",
     "start_time": "2023-10-05T09:57:18.866738300Z"
    }
   },
   "execution_count": 17,
   "outputs": [
    {
     "name": "stdout",
     "output_type": "stream",
     "text": [
      "Matrix of coefficients A =\n",
      " [[1.e-16 1.e+00]\n",
      " [1.e+00 2.e+00]]\n",
      "\n",
      "Vector of known terms b =\n",
      " [[1.e-17]\n",
      " [3.e+00]]\n",
      "--------------------------------------------------------------------\n",
      "\n",
      "Upper Triangular matrix of coefficients U =\n",
      " [[ 1.e-16  1.e+00]\n",
      " [ 0.e+00 -1.e+16]]\n",
      "\n",
      "Vector of updated known terms b =\n",
      " [1.0e-17 2.9e+00]\n",
      "--------------------------------------------------------------------\n",
      "\n",
      "Solution after Gaussian Elimination and Backward substitution:\n",
      " [[ 3.0e+00]\n",
      " [-2.9e-16]]\n",
      "\n",
      "Solution using np.linalg.solve(A,b):\n",
      " [[ 3.0e+00]\n",
      " [-2.9e-16]]\n",
      "\n",
      "The conditioning number of matrix A:  5.828427124746189\n"
     ]
    }
   ]
  },
  {
   "cell_type": "markdown",
   "source": [
    "## LU decomposition\n",
    "Firstly, we apply the LU decomposition and the we will see how to solve a linear system."
   ],
   "metadata": {
    "id": "XgtwQYC25Zog"
   }
  },
  {
   "cell_type": "code",
   "source": [
    "# define a matrix that we want to factorize using the LU decomposition\n",
    "A = np.random.rand(5,5)\n",
    "print(\"Matrix A: \\n{}\".format(A))\n",
    "\n",
    "P, L, U = linalg.lu(A)\n",
    "print(\"\\nThe permutation matrix P: \\n{}\".format(P))\n",
    "print(\"\\nThe lower triangular matrix with unit diagonal elements L: \\n{}\".format(L))\n",
    "print(\"\\nThe upper triangular matrix U: \\n{}\".format(U))"
   ],
   "metadata": {
    "colab": {
     "base_uri": "https://localhost:8080/"
    },
    "id": "Ykt9ic359wGA",
    "executionInfo": {
     "status": "ok",
     "timestamp": 1696432513971,
     "user_tz": -120,
     "elapsed": 8,
     "user": {
      "displayName": "Leonardo Saccotelli",
      "userId": "14676426566890310018"
     }
    },
    "outputId": "ef8bd3d9-4ba5-4533-868c-07ab65a66397",
    "ExecuteTime": {
     "end_time": "2023-10-05T09:57:19.286893300Z",
     "start_time": "2023-10-05T09:57:19.098929400Z"
    }
   },
   "execution_count": 18,
   "outputs": [
    {
     "name": "stdout",
     "output_type": "stream",
     "text": [
      "Matrix A: \n",
      "[[0.022343   0.98335518 0.93363163 0.61225118 0.00694534]\n",
      " [0.83739923 0.02234593 0.2274758  0.30432405 0.95031643]\n",
      " [0.12879375 0.5475597  0.31906986 0.54723544 0.84891055]\n",
      " [0.99773641 0.21652702 0.67114844 0.71427576 0.0327384 ]\n",
      " [0.32496815 0.31833789 0.73726279 0.92679894 0.65634118]]\n",
      "\n",
      "The permutation matrix P: \n",
      "[[0. 1. 0. 0. 0.]\n",
      " [0. 0. 0. 0. 1.]\n",
      " [0. 0. 0. 1. 0.]\n",
      " [1. 0. 0. 0. 0.]\n",
      " [0. 0. 1. 0. 0.]]\n",
      "\n",
      "The lower triangular matrix with unit diagonal elements L: \n",
      "[[ 1.          0.          0.          0.          0.        ]\n",
      " [ 0.0223937   1.          0.          0.          0.        ]\n",
      " [ 0.32570542  0.2532573   1.          0.          0.        ]\n",
      " [ 0.12908595  0.53102273 -0.8928101   1.          0.        ]\n",
      " [ 0.83929906 -0.16288601 -0.65096427  0.24950515  1.        ]]\n",
      "\n",
      "The upper triangular matrix U: \n",
      "[[0.99773641 0.21652702 0.67114844 0.71427576 0.0327384 ]\n",
      " [0.         0.97850634 0.91860214 0.5962559  0.00621221]\n",
      " [0.         0.         0.28602341 0.54314929 0.64410482]\n",
      " [0.         0.         0.         0.62333622 1.41644895]\n",
      " [0.         0.         0.         0.         0.98972892]]\n"
     ]
    }
   ]
  },
  {
   "cell_type": "code",
   "source": [
    "# define a linear system that we want to solve using LU decomposition\n",
    "A = np.random.rand(5,5)\n",
    "b = np.random.rand(5,1)\n",
    "print(\"Matrix A: \\n{}\".format(A))\n",
    "print(\"\\nKnow terms b: \\n{}\".format(b))\n",
    "\n",
    "LU, piv = linalg.lu_factor(A)\n",
    "print(\"\\nThe LU decomposed matrix: \\n{}\".format(LU))\n",
    "print(\"\\nThe pivot indices representing the permutation matrix P: \\n{}\".format(piv))\n",
    "\n",
    "x = linalg.lu_solve((LU, piv), b)\n",
    "print(\"\\nThe solution x; \\n{}\".format(x))"
   ],
   "metadata": {
    "colab": {
     "base_uri": "https://localhost:8080/"
    },
    "id": "uDngFGoG_RM5",
    "executionInfo": {
     "status": "ok",
     "timestamp": 1696432513971,
     "user_tz": -120,
     "elapsed": 6,
     "user": {
      "displayName": "Leonardo Saccotelli",
      "userId": "14676426566890310018"
     }
    },
    "outputId": "fa9f3169-fbfa-41da-97ea-a266c556b142",
    "ExecuteTime": {
     "end_time": "2023-10-05T09:57:19.392921900Z",
     "start_time": "2023-10-05T09:57:19.285896800Z"
    }
   },
   "execution_count": 19,
   "outputs": [
    {
     "name": "stdout",
     "output_type": "stream",
     "text": [
      "Matrix A: \n",
      "[[0.13292755 0.6296677  0.60513118 0.27799756 0.80149663]\n",
      " [0.26771821 0.89611616 0.64680915 0.13350546 0.78453488]\n",
      " [0.50566628 0.13529798 0.93495921 0.44149069 0.42024164]\n",
      " [0.90315127 0.11963283 0.89688352 0.41294284 0.62087517]\n",
      " [0.67297212 0.37180188 0.22369911 0.3900485  0.19826107]]\n",
      "\n",
      "Know terms b: \n",
      "[[0.69466638]\n",
      " [0.6580835 ]\n",
      " [0.99181451]\n",
      " [0.37083433]\n",
      " [0.75797542]]\n",
      "\n",
      "The LU decomposed matrix: \n",
      "[[ 0.90315127  0.11963283  0.89688352  0.41294284  0.62087517]\n",
      " [ 0.29642676  0.86065379  0.38094888  0.01109815  0.60049086]\n",
      " [ 0.74513776  0.32842351 -0.56971523  0.0787043  -0.46159179]\n",
      " [ 0.55989102  0.0793776  -0.70660456  0.26501958 -0.30120918]\n",
      " [ 0.14718193  0.71115693 -0.3549347   0.8952629   0.38889825]]\n",
      "\n",
      "The pivot indices representing the permutation matrix P: \n",
      "[3 1 4 4 4]\n",
      "\n",
      "The solution x; \n",
      "[[-0.64154546]\n",
      " [ 1.14521819]\n",
      " [ 0.80184506]\n",
      " [ 2.14771715]\n",
      " [-1.27691495]]\n"
     ]
    }
   ]
  },
  {
   "cell_type": "markdown",
   "source": [
    "## Comparing *Gaussian elimination and back substitution* with *LU decomposition* to solve linear system\n",
    "The aim of this test is to show the different time required to solve a linear system by using the two methods. In particular, remember that:\n",
    "\n",
    "\n",
    "*   Gaussian elimination \t$\\sim O(n^3)$\n",
    "*   LU decomposition $\\sim O(n^2)$\n",
    "\n"
   ],
   "metadata": {
    "id": "0j5MfZu45BIW"
   }
  },
  {
   "cell_type": "code",
   "source": [
    "# Test computational time for Gaussian elimination\n",
    "dim_matrix = [5, 10, 100, 250, 500, 750, 900, 1000, 1500]\n",
    "comp_time_gaussian = np.empty([1, len(dim_matrix)])\n",
    "\n",
    "for i in range(len(dim_matrix)):\n",
    "  n = dim_matrix[i]\n",
    "  A = np.random.rand(n,n)\n",
    "  b = np.random.rand(n,1)\n",
    "\n",
    "  print(\"Solving linear system of size {} using Gaussian elimination ...\".format(dim_matrix[i]))\n",
    "  t0 = time.process_time()\n",
    "  (U, b_u) = gaussian_elimination(A, b)\n",
    "  backward_substitution(U, b_u)\n",
    "  comp_time_gaussian[0, i] = time.process_time() - t0\n",
    "  print(\"--------------------------------------------------------------------\")"
   ],
   "metadata": {
    "colab": {
     "base_uri": "https://localhost:8080/"
    },
    "id": "8U90AsH4yJ_h",
    "executionInfo": {
     "status": "ok",
     "timestamp": 1696437516072,
     "user_tz": -120,
     "elapsed": 207789,
     "user": {
      "displayName": "Leonardo Saccotelli",
      "userId": "14676426566890310018"
     }
    },
    "outputId": "14b3f77e-a767-4945-b7f0-fc8a70475515",
    "ExecuteTime": {
     "end_time": "2023-10-05T10:25:26.519217200Z",
     "start_time": "2023-10-05T09:57:19.395934Z"
    }
   },
   "execution_count": 20,
   "outputs": [
    {
     "name": "stdout",
     "output_type": "stream",
     "text": [
      "Solving linear system of size 5 using Gaussian elimination ...\n",
      "--------------------------------------------------------------------\n",
      "Solving linear system of size 10 using Gaussian elimination ...\n",
      "--------------------------------------------------------------------\n",
      "Solving linear system of size 100 using Gaussian elimination ...\n",
      "--------------------------------------------------------------------\n",
      "Solving linear system of size 250 using Gaussian elimination ...\n",
      "--------------------------------------------------------------------\n",
      "Solving linear system of size 500 using Gaussian elimination ...\n",
      "--------------------------------------------------------------------\n",
      "Solving linear system of size 750 using Gaussian elimination ...\n"
     ]
    },
    {
     "name": "stderr",
     "output_type": "stream",
     "text": [
      "D:\\2_UNIVERSITA\\2_MAGISTRALE\\1_ANNO\\2_NUM_METHODS_FOR_CS\\Code-Ex\\Py-Ex\\venv\\lib\\site-packages\\numpy\\core\\fromnumeric.py:88: RuntimeWarning: overflow encountered in reduce\n",
      "  return ufunc.reduce(obj, axis, dtype, out, **passkwargs)\n"
     ]
    },
    {
     "name": "stdout",
     "output_type": "stream",
     "text": [
      "--------------------------------------------------------------------\n",
      "Solving linear system of size 900 using Gaussian elimination ...\n",
      "--------------------------------------------------------------------\n",
      "Solving linear system of size 1000 using Gaussian elimination ...\n",
      "--------------------------------------------------------------------\n",
      "Solving linear system of size 1500 using Gaussian elimination ...\n",
      "--------------------------------------------------------------------\n"
     ]
    }
   ]
  },
  {
   "cell_type": "code",
   "source": [
    "# Test computational time for LU decomposition\n",
    "dim_matrix = dim_matrix + [1700, 1800, 2000, 2500, 3000, 5000, 7500, 10000]\n",
    "comp_time_lu = np.empty([1, len(dim_matrix)])\n",
    "\n",
    "for i in range(len(dim_matrix)):\n",
    "  n = dim_matrix[i]\n",
    "  A = np.random.rand(n,n)\n",
    "  b = np.random.rand(n,1)\n",
    "\n",
    "  print(\"Solving linear system of size {} using LU decomposition ...\".format(dim_matrix[i]))\n",
    "  t0 = time.process_time()\n",
    "  lu, piv = linalg.lu_factor(A)\n",
    "  linalg.lu_solve((lu, piv), b)\n",
    "  comp_time_lu[0, i] = time.process_time() - t0\n",
    "  print(\"--------------------------------------------------------------------\")"
   ],
   "metadata": {
    "colab": {
     "base_uri": "https://localhost:8080/"
    },
    "id": "Ft-cTLXnGgGF",
    "executionInfo": {
     "status": "ok",
     "timestamp": 1696437557681,
     "user_tz": -120,
     "elapsed": 41615,
     "user": {
      "displayName": "Leonardo Saccotelli",
      "userId": "14676426566890310018"
     }
    },
    "outputId": "8288f26f-cf7d-418b-91a2-d19bb75f6aa2",
    "ExecuteTime": {
     "end_time": "2023-10-05T10:26:08.544699500Z",
     "start_time": "2023-10-05T10:25:26.524212500Z"
    }
   },
   "execution_count": 21,
   "outputs": [
    {
     "name": "stdout",
     "output_type": "stream",
     "text": [
      "Solving linear system of size 5 using LU decomposition ...\n",
      "--------------------------------------------------------------------\n",
      "Solving linear system of size 10 using LU decomposition ...\n",
      "--------------------------------------------------------------------\n",
      "Solving linear system of size 100 using LU decomposition ...\n",
      "--------------------------------------------------------------------\n",
      "Solving linear system of size 250 using LU decomposition ...\n",
      "--------------------------------------------------------------------\n",
      "Solving linear system of size 500 using LU decomposition ...\n",
      "--------------------------------------------------------------------\n",
      "Solving linear system of size 750 using LU decomposition ...\n",
      "--------------------------------------------------------------------\n",
      "Solving linear system of size 900 using LU decomposition ...\n",
      "--------------------------------------------------------------------\n",
      "Solving linear system of size 1000 using LU decomposition ...\n",
      "--------------------------------------------------------------------\n",
      "Solving linear system of size 1500 using LU decomposition ...\n",
      "--------------------------------------------------------------------\n",
      "Solving linear system of size 1700 using LU decomposition ...\n",
      "--------------------------------------------------------------------\n",
      "Solving linear system of size 1800 using LU decomposition ...\n",
      "--------------------------------------------------------------------\n",
      "Solving linear system of size 2000 using LU decomposition ...\n",
      "--------------------------------------------------------------------\n",
      "Solving linear system of size 2500 using LU decomposition ...\n",
      "--------------------------------------------------------------------\n",
      "Solving linear system of size 3000 using LU decomposition ...\n",
      "--------------------------------------------------------------------\n",
      "Solving linear system of size 5000 using LU decomposition ...\n",
      "--------------------------------------------------------------------\n",
      "Solving linear system of size 7500 using LU decomposition ...\n",
      "--------------------------------------------------------------------\n",
      "Solving linear system of size 10000 using LU decomposition ...\n",
      "--------------------------------------------------------------------\n"
     ]
    }
   ]
  },
  {
   "cell_type": "code",
   "source": [
    "plt.plot(dim_matrix[0:9], comp_time_gaussian[0],'o-')\n",
    "plt.plot(dim_matrix, comp_time_lu[0], 'o-')\n",
    "plt.legend([\"Gaussian elimination\", \"LU decomposition\"])\n",
    "plt.xlabel(\"n (size of matrix)\")\n",
    "plt.ylabel(\"s (time)\")\n",
    "plt.title(\"Comparing computational time: Gaussian elimination, LU decomposition\")"
   ],
   "metadata": {
    "colab": {
     "base_uri": "https://localhost:8080/",
     "height": 490
    },
    "id": "i5QpqUzzyds3",
    "executionInfo": {
     "status": "ok",
     "timestamp": 1696437558277,
     "user_tz": -120,
     "elapsed": 599,
     "user": {
      "displayName": "Leonardo Saccotelli",
      "userId": "14676426566890310018"
     }
    },
    "outputId": "0e0b10fb-78e2-4d6a-e343-f2f7bcedc476",
    "ExecuteTime": {
     "end_time": "2023-10-05T10:26:09.192348100Z",
     "start_time": "2023-10-05T10:26:08.542700900Z"
    }
   },
   "execution_count": 22,
   "outputs": [
    {
     "data": {
      "text/plain": "Text(0.5, 1.0, 'Comparing computational time: Gaussian elimination, LU decomposition')"
     },
     "execution_count": 22,
     "metadata": {},
     "output_type": "execute_result"
    },
    {
     "data": {
      "text/plain": "<Figure size 640x480 with 1 Axes>",
      "image/png": "[encoded data removed]"
     },
     "metadata": {},
     "output_type": "display_data"
    }
   ]
  }
 ]
}
